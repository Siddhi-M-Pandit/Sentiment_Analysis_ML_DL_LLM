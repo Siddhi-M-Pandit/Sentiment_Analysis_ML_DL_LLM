{
 "cells": [
  {
   "cell_type": "code",
   "execution_count": 1,
   "id": "d5a894e9",
   "metadata": {},
   "outputs": [
    {
     "name": "stdout",
     "output_type": "stream",
     "text": [
      "XLA_FLAGS: --xla_gpu_cuda_data_dir=/usr/local/cuda-12.3\n",
      "Looking here: True\n"
     ]
    }
   ],
   "source": [
    "import os\n",
    "\n",
    "# 1) ENV VARS – before any TF import\n",
    "os.environ[\"XLA_FLAGS\"] = \"--xla_gpu_cuda_data_dir=/usr/local/cuda-12.3\"\n",
    "os.environ[\"CUDA_HOME\"] = \"/usr/local/cuda-12.3\"\n",
    "\n",
    "# 2) Sanity check\n",
    "print(\"XLA_FLAGS:\",    os.environ[\"XLA_FLAGS\"])\n",
    "print(\"Looking here:\", os.path.exists(\n",
    "    \"/usr/local/cuda-12.3/nvvm/libdevice/libdevice.10.bc\"\n",
    "))\n"
   ]
  },
  {
   "cell_type": "code",
   "execution_count": 2,
   "id": "cd9c3223",
   "metadata": {},
   "outputs": [
    {
     "name": "stdout",
     "output_type": "stream",
     "text": [
      "Torch version: 2.7.0+cu126\n"
     ]
    },
    {
     "name": "stderr",
     "output_type": "stream",
     "text": [
      "/home/smpandit/.conda/envs/sentimentAnalysisENV/lib/python3.10/site-packages/tqdm/auto.py:21: TqdmWarning: IProgress not found. Please update jupyter and ipywidgets. See https://ipywidgets.readthedocs.io/en/stable/user_install.html\n",
      "  from .autonotebook import tqdm as notebook_tqdm\n"
     ]
    },
    {
     "name": "stdout",
     "output_type": "stream",
     "text": [
      "Accelerate version: 1.6.0\n",
      "Datasets version: 3.6.0\n"
     ]
    }
   ],
   "source": [
    "import sys\n",
    "\n",
    "sys.path.insert(0, \"/tmp/torch_pkg\")\n",
    "import torch\n",
    "print(\"Torch version:\", torch.__version__)\n",
    "\n",
    "sys.path.insert(0, \"/tmp/accelerate\")\n",
    "import accelerate\n",
    "print(\"Accelerate version:\", accelerate.__version__)\n",
    "\n",
    "sys.path.insert(0, \"/tmp/py_pkgs\")\n",
    "import datasets\n",
    "print(\"Datasets version:\", datasets.__version__)"
   ]
  },
  {
   "cell_type": "code",
   "execution_count": 3,
   "id": "e2d532c4",
   "metadata": {},
   "outputs": [
    {
     "name": "stdout",
     "output_type": "stream",
     "text": [
      "wandb version: 0.19.10\n"
     ]
    }
   ],
   "source": [
    "sys.path.insert(0, \"/tmp/wandb_pkg\")\n",
    "import wandb\n",
    "print(\"wandb version:\", wandb.__version__)\n",
    "\n",
    "# point caches and matplotlib to /tmp \n",
    "os.environ['XDG_CACHE_HOME'] = '/tmp'\n",
    "os.environ['TRANSFORMERS_CACHE'] = '/tmp/transformers'\n",
    "os.environ['HF_HOME'] = '/tmp/huggingface_cache'\n",
    "os.environ['MPLCONFIGDIR'] = '/tmp/.matplotlib'\n",
    "\n",
    "# suppress TF INFO logs\n",
    "os.environ[\"TF_CPP_MIN_LOG_LEVEL\"] = \"2\""
   ]
  },
  {
   "cell_type": "code",
   "execution_count": 4,
   "id": "a4e87f81",
   "metadata": {},
   "outputs": [],
   "source": [
    "os.environ[\"MPLCONFIGDIR\"] = \"/tmp/matplotlib\"\n",
    "# suppress TF INFO logs\n",
    "os.environ[\"TF_CPP_MIN_LOG_LEVEL\"] = \"2\""
   ]
  },
  {
   "cell_type": "code",
   "execution_count": 5,
   "id": "c19df9e0",
   "metadata": {},
   "outputs": [
    {
     "name": "stderr",
     "output_type": "stream",
     "text": [
      "2025-05-08 16:06:18.022695: E external/local_xla/xla/stream_executor/cuda/cuda_fft.cc:467] Unable to register cuFFT factory: Attempting to register factory for plugin cuFFT when one has already been registered\n",
      "WARNING: All log messages before absl::InitializeLog() is called are written to STDERR\n",
      "E0000 00:00:1746745578.047266 4121684 cuda_dnn.cc:8579] Unable to register cuDNN factory: Attempting to register factory for plugin cuDNN when one has already been registered\n",
      "E0000 00:00:1746745578.053864 4121684 cuda_blas.cc:1407] Unable to register cuBLAS factory: Attempting to register factory for plugin cuBLAS when one has already been registered\n",
      "W0000 00:00:1746745578.072053 4121684 computation_placer.cc:177] computation placer already registered. Please check linkage and avoid linking the same target more than once.\n",
      "W0000 00:00:1746745578.072083 4121684 computation_placer.cc:177] computation placer already registered. Please check linkage and avoid linking the same target more than once.\n",
      "W0000 00:00:1746745578.072085 4121684 computation_placer.cc:177] computation placer already registered. Please check linkage and avoid linking the same target more than once.\n",
      "W0000 00:00:1746745578.072087 4121684 computation_placer.cc:177] computation placer already registered. Please check linkage and avoid linking the same target more than once.\n",
      "/home/smpandit/.conda/envs/sentimentAnalysisENV/lib/python3.10/site-packages/transformers/utils/hub.py:105: FutureWarning: Using `TRANSFORMERS_CACHE` is deprecated and will be removed in v5 of Transformers. Use `HF_HOME` instead.\n",
      "  warnings.warn(\n"
     ]
    },
    {
     "name": "stdout",
     "output_type": "stream",
     "text": [
      "['WandbCallback', 'WandbEvalCallback', 'WandbMetricsLogger', 'WandbModelCheckpoint', '__all__', '__builtins__', '__cached__', '__doc__', '__file__', '__loader__', '__name__', '__package__', '__path__', '__spec__', 'callbacks', 'keras']\n",
      "wandb version: 0.19.10\n",
      "wandb package path: /tmp/wandb_pkg/wandb/__init__.py\n"
     ]
    }
   ],
   "source": [
    "import pandas as pd\n",
    "import numpy as np\n",
    "import seaborn as sns\n",
    "import matplotlib.pyplot as plt\n",
    "\n",
    "import time\n",
    "import datetime\n",
    "import psutil\n",
    "import subprocess\n",
    "import GPUtil\n",
    "\n",
    "\n",
    "import tensorflow as tf\n",
    "#import tf_keras as keras\n",
    "from torch.utils.data import TensorDataset\n",
    "from tensorflow.keras.optimizers import Adam, RMSprop\n",
    "from tensorflow.keras.metrics import BinaryAccuracy\n",
    "from tensorflow.keras.losses  import BinaryCrossentropy\n",
    "from datasets import Dataset, DatasetDict\n",
    "from evaluate import load\n",
    "from transformers import create_optimizer\n",
    "from transformers import(\n",
    "    AutoConfig, \n",
    "    AutoTokenizer, \n",
    "    AutoModelForSequenceClassification,\n",
    "    Trainer,\n",
    "    TrainingArguments,\n",
    "    DataCollatorWithPadding,\n",
    ")\n",
    "\n",
    "# Enable script imports\n",
    "sys.path.append(os.path.abspath(\"..\"))\n",
    "\n",
    "\n",
    "from scripts.result_logger import log_results\n",
    "from sklearn.metrics import (\n",
    "    accuracy_score, precision_recall_fscore_support,\n",
    "    #precision_score, recall_score, f1_score, \n",
    "    classification_report, confusion_matrix\n",
    ")\n",
    "\n",
    "import wandb.integration.keras as wbk\n",
    "print(dir(wbk))\n",
    "from wandb.integration.keras import WandbMetricsLogger, WandbModelCheckpoint, WandbEvalCallback\n",
    "print(\"wandb version:\", wandb.__version__)\n",
    "print(\"wandb package path:\", wandb.__file__)\n"
   ]
  },
  {
   "cell_type": "code",
   "execution_count": 6,
   "id": "a49fcecf",
   "metadata": {},
   "outputs": [
    {
     "name": "stdout",
     "output_type": "stream",
     "text": [
      "GPU ready: PhysicalDevice(name='/physical_device:GPU:0', device_type='GPU')\n"
     ]
    }
   ],
   "source": [
    "# GPU setup\n",
    "gpus = tf.config.list_physical_devices('GPU')\n",
    "if not gpus:\n",
    "    raise RuntimeError(\"No GPU found.\")\n",
    "tf.config.experimental.set_memory_growth(gpus[0], True)\n",
    "print(\"GPU ready:\", gpus[0])\n"
   ]
  },
  {
   "cell_type": "markdown",
   "id": "252ace3a",
   "metadata": {},
   "source": [
    "Model"
   ]
  },
  {
   "cell_type": "code",
   "execution_count": 7,
   "id": "eb2e83a5",
   "metadata": {},
   "outputs": [],
   "source": [
    "# Set random seeds for reproducibility\n",
    "np.random.seed(42)\n",
    "tf.random.set_seed(42)\n",
    "MAX_SEQ_LEN = 100\n",
    "\n",
    "# Data Loading & Label Binarization \n",
    "def load_splits():\n",
    "    X_train = pd.read_csv(\"../data/splits/X_train.csv\")[\"clean_text\"].tolist()\n",
    "    X_val   = pd.read_csv(\"../data/splits/X_val.csv\")[\"clean_text\"].tolist()\n",
    "    X_test  = pd.read_csv(\"../data/splits/X_test.csv\")[\"clean_text\"].tolist()\n",
    "\n",
    "    y_train = pd.read_csv(\"../data/splits/y_train.csv\")[\"sentiment_label\"].map(lambda x: 1 if x==\"Positive\" else 0).tolist()\n",
    "    y_val   = pd.read_csv(\"../data/splits/y_val.csv\")[\"sentiment_label\"].map(lambda x: 1 if x==\"Positive\" else 0).tolist()\n",
    "    y_test  = pd.read_csv(\"../data/splits/y_test.csv\")[\"sentiment_label\"].map(lambda x: 1 if x==\"Positive\" else 0).tolist()\n",
    "\n",
    "    return X_train, y_train, X_val, y_val, X_test, y_test\n",
    "\n"
   ]
  },
  {
   "cell_type": "code",
   "execution_count": 8,
   "id": "9b5a01d0",
   "metadata": {},
   "outputs": [],
   "source": [
    "#  Best hyperparameters from sweep ()\n",
    "BEST_CONFIG = {\n",
    "    \"model\": \"cardiffnlp/twitter-roberta-base-sentiment\",\n",
    "    \"dataset\": \"Sentiment140\",\n",
    "    'batch_size': 32,\n",
    "    'learning_rate': 5e-5,\n",
    "    'dropout': 0.2,\n",
    "    'epochs': 2,\n",
    "    'weight_decay': 0.01,\n",
    "    'warmup_ratio': 0.1,\n",
    "    'optimizer': \"adam\",\n",
    "    'max_seq_len': 64,\n",
    "    'metric_goal':\"maximize\",\n",
    "    'metric_name':\"val_accuracy\",\n",
    "    'model_type':\"roBERTa\",\n",
    "}"
   ]
  },
  {
   "cell_type": "code",
   "execution_count": 9,
   "id": "24831696",
   "metadata": {},
   "outputs": [
    {
     "name": "stderr",
     "output_type": "stream",
     "text": [
      "\u001b[34m\u001b[1mwandb\u001b[0m: Currently logged in as: \u001b[33msmpandit\u001b[0m (\u001b[33msmpandit-\u001b[0m) to \u001b[32mhttps://api.wandb.ai\u001b[0m. Use \u001b[1m`wandb login --relogin`\u001b[0m to force relogin\n"
     ]
    },
    {
     "data": {
      "text/html": [
       "Tracking run with wandb version 0.19.10"
      ],
      "text/plain": [
       "<IPython.core.display.HTML object>"
      ]
     },
     "metadata": {},
     "output_type": "display_data"
    },
    {
     "data": {
      "text/html": [
       "Run data is saved locally in <code>/research2/smpandit/Sentiment_Analysis_ML_DL_LLM/notebooks/wandb/run-20250508_160639-q9t3rbf3</code>"
      ],
      "text/plain": [
       "<IPython.core.display.HTML object>"
      ]
     },
     "metadata": {},
     "output_type": "display_data"
    },
    {
     "data": {
      "text/html": [
       "Syncing run <strong><a href='https://wandb.ai/smpandit-/sentiment-analysis/runs/q9t3rbf3' target=\"_blank\">ROBERTA_Social</a></strong> to <a href='https://wandb.ai/smpandit-/sentiment-analysis' target=\"_blank\">Weights & Biases</a> (<a href='https://wandb.me/developer-guide' target=\"_blank\">docs</a>)<br>"
      ],
      "text/plain": [
       "<IPython.core.display.HTML object>"
      ]
     },
     "metadata": {},
     "output_type": "display_data"
    },
    {
     "data": {
      "text/html": [
       " View project at <a href='https://wandb.ai/smpandit-/sentiment-analysis' target=\"_blank\">https://wandb.ai/smpandit-/sentiment-analysis</a>"
      ],
      "text/plain": [
       "<IPython.core.display.HTML object>"
      ]
     },
     "metadata": {},
     "output_type": "display_data"
    },
    {
     "data": {
      "text/html": [
       " View run at <a href='https://wandb.ai/smpandit-/sentiment-analysis/runs/q9t3rbf3' target=\"_blank\">https://wandb.ai/smpandit-/sentiment-analysis/runs/q9t3rbf3</a>"
      ],
      "text/plain": [
       "<IPython.core.display.HTML object>"
      ]
     },
     "metadata": {},
     "output_type": "display_data"
    }
   ],
   "source": [
    "# W&B Initialization\n",
    "\n",
    "wandb.init(\n",
    "    project=\"sentiment-analysis\",\n",
    "    name=\"ROBERTA_Social\",\n",
    "    config=BEST_CONFIG\n",
    ")\n",
    "\n",
    "cfg = wandb.config"
   ]
  },
  {
   "cell_type": "code",
   "execution_count": 10,
   "id": "41917f9e",
   "metadata": {},
   "outputs": [
    {
     "name": "stderr",
     "output_type": "stream",
     "text": [
      "Some weights of RobertaForSequenceClassification were not initialized from the model checkpoint at cardiffnlp/twitter-roberta-base-sentiment and are newly initialized because the shapes did not match:\n",
      "- classifier.out_proj.weight: found shape torch.Size([3, 768]) in the checkpoint and torch.Size([2, 768]) in the model instantiated\n",
      "- classifier.out_proj.bias: found shape torch.Size([3]) in the checkpoint and torch.Size([2]) in the model instantiated\n",
      "You should probably TRAIN this model on a down-stream task to be able to use it for predictions and inference.\n"
     ]
    }
   ],
   "source": [
    "# tokenizer and model\n",
    "tokenizer = AutoTokenizer.from_pretrained(cfg.model)\n",
    "\n",
    "config = AutoConfig.from_pretrained(\n",
    "    cfg.model,\n",
    "    num_labels=2,\n",
    "    id2label={0: \"negative\", 1: \"positive\"},\n",
    "    label2id={\"negative\": 0, \"positive\": 1},\n",
    "    hidden_dropout_prob=cfg.get(\"dropout\", 0.1),\n",
    "    attention_probs_dropout_prob=cfg.get(\"dropout\", 0.1),\n",
    ")\n",
    "\n",
    "model = AutoModelForSequenceClassification.from_pretrained(cfg.model, config=config, ignore_mismatched_sizes=True)"
   ]
  },
  {
   "cell_type": "code",
   "execution_count": 11,
   "id": "3a79fd63",
   "metadata": {},
   "outputs": [],
   "source": [
    "# Prepare Dataset \n",
    "X_train, y_train, X_val, y_val, X_test, y_test = load_splits()\n",
    "\n",
    "# Define tiny dataset wrapper:\n",
    "class HFDataset(torch.utils.data.Dataset):\n",
    "    def __init__(self, encodings, labels):\n",
    "        self.encodings = encodings\n",
    "        self.labels    = labels\n",
    "\n",
    "    def __len__(self):\n",
    "        return len(self.labels)\n",
    "    \n",
    "    def __getitem__(self, idx):\n",
    "        return {\n",
    "            \"input_ids\":      self.encodings[\"input_ids\"][idx],\n",
    "            \"attention_mask\": self.encodings[\"attention_mask\"][idx],\n",
    "            \"labels\":         self.labels[idx],\n",
    "        }\n",
    "\n",
    "\n",
    "def make_dataset(texts, labels):\n",
    "    enc = tokenizer(\n",
    "        texts, \n",
    "        truncation=True, \n",
    "        padding=\"max_length\",\n",
    "        max_length=cfg.max_seq_len, \n",
    "        return_tensors=\"pt\"\n",
    "    )\n",
    "    return HFDataset(enc, torch.tensor(labels, dtype=torch.long))\n",
    "\n",
    "train_dataset = make_dataset(X_train, y_train)\n",
    "val_dataset   = make_dataset(X_val,   y_val)\n",
    "test_dataset  = make_dataset(X_test,  y_test) "
   ]
  },
  {
   "cell_type": "code",
   "execution_count": 12,
   "id": "a71f65bc",
   "metadata": {},
   "outputs": [],
   "source": [
    "def compute_metrics(eval_pred):\n",
    "    logits, labels = eval_pred\n",
    "    preds = np.argmax(logits, axis=-1)\n",
    "    acc   = accuracy_score(labels, preds)\n",
    "    prec, rec, f1, _ = precision_recall_fscore_support(labels, preds, average=\"binary\")\n",
    "    \n",
    "    return {\"accuracy\": acc, \"precision\": prec, \"recall\": rec, \"f1\": f1}"
   ]
  },
  {
   "cell_type": "code",
   "execution_count": 13,
   "id": "c808046e",
   "metadata": {},
   "outputs": [
    {
     "name": "stderr",
     "output_type": "stream",
     "text": [
      "/home/smpandit/.conda/envs/sentimentAnalysisENV/lib/python3.10/site-packages/transformers/training_args.py:1611: FutureWarning: `evaluation_strategy` is deprecated and will be removed in version 4.46 of 🤗 Transformers. Use `eval_strategy` instead\n",
      "  warnings.warn(\n"
     ]
    }
   ],
   "source": [
    "start_tuning = time.time()\n",
    "\n",
    "training_args = TrainingArguments(\n",
    "    output_dir=\"./wandb_roberta1_pt\",\n",
    "    per_device_train_batch_size=cfg.batch_size,\n",
    "    per_device_eval_batch_size=cfg.batch_size,\n",
    "    learning_rate=cfg.learning_rate,\n",
    "    weight_decay=cfg.weight_decay,\n",
    "    warmup_ratio=cfg.warmup_ratio,\n",
    "    num_train_epochs=cfg.epochs,\n",
    "    lr_scheduler_type=\"linear\",\n",
    "    max_grad_norm=1.0,\n",
    "    evaluation_strategy=\"steps\",\n",
    "    eval_steps= 10000,\n",
    "    logging_strategy=\"epoch\",\n",
    "    #logging_steps=1000,\n",
    "    bf16=True,\n",
    "    fp16_opt_level=\"O1\",\n",
    "    save_strategy=\"no\",\n",
    "    report_to=\"wandb\",\n",
    ")\n",
    "\n",
    "tuning_time = time.time() - start_tuning"
   ]
  },
  {
   "cell_type": "code",
   "execution_count": 14,
   "id": "a7768554",
   "metadata": {},
   "outputs": [
    {
     "name": "stderr",
     "output_type": "stream",
     "text": [
      "/tmp/ipykernel_4121684/320371002.py:1: FutureWarning: `tokenizer` is deprecated and will be removed in version 5.0.0 for `Trainer.__init__`. Use `processing_class` instead.\n",
      "  trainer = Trainer(\n"
     ]
    }
   ],
   "source": [
    "trainer = Trainer(\n",
    "    model=model,\n",
    "    args=training_args,\n",
    "    train_dataset=train_dataset,\n",
    "    eval_dataset=val_dataset,\n",
    "    tokenizer=tokenizer,\n",
    "    data_collator=DataCollatorWithPadding(tokenizer),\n",
    "    compute_metrics=compute_metrics,\n",
    ")"
   ]
  },
  {
   "cell_type": "code",
   "execution_count": 15,
   "id": "24bbf95a",
   "metadata": {},
   "outputs": [
    {
     "name": "stderr",
     "output_type": "stream",
     "text": [
      "\u001b[34m\u001b[1mwandb\u001b[0m: \u001b[33mWARNING\u001b[0m The `run_name` is currently set to the same value as `TrainingArguments.output_dir`. If this was not intended, please specify a different run name by setting the `TrainingArguments.run_name` parameter.\n"
     ]
    },
    {
     "data": {
      "text/html": [
       "\n",
       "    <div>\n",
       "      \n",
       "      <progress value='69824' max='69824' style='width:300px; height:20px; vertical-align: middle;'></progress>\n",
       "      [69824/69824 1:13:48, Epoch 2/2]\n",
       "    </div>\n",
       "    <table border=\"1\" class=\"dataframe\">\n",
       "  <thead>\n",
       " <tr style=\"text-align: left;\">\n",
       "      <th>Step</th>\n",
       "      <th>Training Loss</th>\n",
       "      <th>Validation Loss</th>\n",
       "      <th>Accuracy</th>\n",
       "      <th>Precision</th>\n",
       "      <th>Recall</th>\n",
       "      <th>F1</th>\n",
       "    </tr>\n",
       "  </thead>\n",
       "  <tbody>\n",
       "    <tr>\n",
       "      <td>10000</td>\n",
       "      <td>No log</td>\n",
       "      <td>0.372112</td>\n",
       "      <td>0.843703</td>\n",
       "      <td>0.847823</td>\n",
       "      <td>0.837650</td>\n",
       "      <td>0.842706</td>\n",
       "    </tr>\n",
       "    <tr>\n",
       "      <td>20000</td>\n",
       "      <td>No log</td>\n",
       "      <td>0.370577</td>\n",
       "      <td>0.840922</td>\n",
       "      <td>0.887145</td>\n",
       "      <td>0.781100</td>\n",
       "      <td>0.830752</td>\n",
       "    </tr>\n",
       "    <tr>\n",
       "      <td>30000</td>\n",
       "      <td>No log</td>\n",
       "      <td>0.365656</td>\n",
       "      <td>0.851275</td>\n",
       "      <td>0.860517</td>\n",
       "      <td>0.838336</td>\n",
       "      <td>0.849282</td>\n",
       "    </tr>\n",
       "    <tr>\n",
       "      <td>40000</td>\n",
       "      <td>0.379900</td>\n",
       "      <td>0.371288</td>\n",
       "      <td>0.853998</td>\n",
       "      <td>0.871645</td>\n",
       "      <td>0.830139</td>\n",
       "      <td>0.850386</td>\n",
       "    </tr>\n",
       "    <tr>\n",
       "      <td>50000</td>\n",
       "      <td>0.379900</td>\n",
       "      <td>0.358509</td>\n",
       "      <td>0.854445</td>\n",
       "      <td>0.882915</td>\n",
       "      <td>0.817154</td>\n",
       "      <td>0.848763</td>\n",
       "    </tr>\n",
       "    <tr>\n",
       "      <td>60000</td>\n",
       "      <td>0.379900</td>\n",
       "      <td>0.347857</td>\n",
       "      <td>0.859757</td>\n",
       "      <td>0.875451</td>\n",
       "      <td>0.838745</td>\n",
       "      <td>0.856705</td>\n",
       "    </tr>\n",
       "  </tbody>\n",
       "</table><p>"
      ],
      "text/plain": [
       "<IPython.core.display.HTML object>"
      ]
     },
     "metadata": {},
     "output_type": "display_data"
    }
   ],
   "source": [
    "# Training \n",
    "start_training = time.time() \n",
    "\n",
    "trainer.train()\n",
    "\n",
    "training_time = time.time() - start_training"
   ]
  },
  {
   "cell_type": "code",
   "execution_count": 16,
   "id": "ddf8585e",
   "metadata": {},
   "outputs": [
    {
     "data": {
      "text/html": [],
      "text/plain": [
       "<IPython.core.display.HTML object>"
      ]
     },
     "metadata": {},
     "output_type": "display_data"
    },
    {
     "name": "stdout",
     "output_type": "stream",
     "text": [
      "---- Validation metrics ----\n",
      "Accuracy:  0.8599493823138797\n",
      "Precision: 0.8783444301951759\n",
      "Recall:    0.8355280748663102\n",
      "F1:        0.8564014285347242\n"
     ]
    }
   ],
   "source": [
    "val_metrics = trainer.evaluate(eval_dataset=val_dataset)\n",
    "\n",
    "print(\"---- Validation metrics ----\")\n",
    "print(f\"Accuracy:  {val_metrics['eval_accuracy']}\")\n",
    "print(f\"Precision: {val_metrics['eval_precision']}\")\n",
    "print(f\"Recall:    {val_metrics['eval_recall']}\")\n",
    "print(f\"F1:        {val_metrics['eval_f1']}\")"
   ]
  },
  {
   "cell_type": "code",
   "execution_count": 17,
   "id": "8edede25",
   "metadata": {},
   "outputs": [
    {
     "name": "stdout",
     "output_type": "stream",
     "text": [
      "\n",
      "---- Test metrics ----\n",
      "Accuracy:  0.8596670036173466\n",
      "Precision: 0.8790697674418605\n",
      "Recall:    0.8339628948687949\n",
      "F1:        0.8559224633330474\n"
     ]
    }
   ],
   "source": [
    "test_predictions = trainer.predict(test_dataset)\n",
    "\n",
    "test_metrics = test_predictions.metrics\n",
    "\n",
    "print(\"\\n---- Test metrics ----\")\n",
    "print(f\"Accuracy:  {test_metrics['test_accuracy']}\")\n",
    "print(f\"Precision: {test_metrics['test_precision']}\")\n",
    "print(f\"Recall:    {test_metrics['test_recall']}\")\n",
    "print(f\"F1:        {test_metrics['test_f1']}\")"
   ]
  },
  {
   "cell_type": "code",
   "execution_count": 18,
   "id": "13579f94",
   "metadata": {},
   "outputs": [
    {
     "data": {
      "text/html": [],
      "text/plain": [
       "<IPython.core.display.HTML object>"
      ]
     },
     "metadata": {},
     "output_type": "display_data"
    }
   ],
   "source": [
    "start_inf = time.time()\n",
    "preds_output = trainer.predict(test_dataset)    \n",
    "total_inf = time.time() - start_inf\n",
    "\n",
    "infer_time = total_inf / len(preds_output.predictions)"
   ]
  },
  {
   "cell_type": "code",
   "execution_count": 19,
   "id": "29f8f804",
   "metadata": {},
   "outputs": [],
   "source": [
    "# System Stats\n",
    "\n",
    "cpu_usage = psutil.cpu_percent(interval=1)\n",
    "mem_usage = psutil.virtual_memory().percent\n",
    "gpu = GPUtil.getGPUs()[0]\n",
    "power = float(subprocess.check_output(\n",
    "    [\"nvidia-smi\",\"--query-gpu=power.draw\",\"--format=csv,noheader,nounits\"]\n",
    "))"
   ]
  },
  {
   "cell_type": "code",
   "execution_count": 20,
   "id": "ba681252",
   "metadata": {},
   "outputs": [],
   "source": [
    "# turn logits to class table\n",
    "y_pred = np.argmax(preds_output.predictions, axis=1)\n",
    "y_true = preds_output.label_ids"
   ]
  },
  {
   "cell_type": "code",
   "execution_count": 21,
   "id": "c81a5b3f",
   "metadata": {},
   "outputs": [
    {
     "data": {
      "image/png": "[encoded data removed]",
      "text/plain": [
       "<Figure size 400x300 with 2 Axes>"
      ]
     },
     "metadata": {},
     "output_type": "display_data"
    }
   ],
   "source": [
    "# Confusion Matrix\n",
    "\n",
    "cm = confusion_matrix(y_true, y_pred, labels=[0,1])\n",
    "plt.figure(figsize=(4,3))\n",
    "sns.heatmap(cm, annot=True, fmt=\"d\", cmap=\"Oranges\", xticklabels=[\"Negative\",\"Positive\"], yticklabels=[\"Negative\",\"Positive\"])\n",
    "plt.title(\"Confusion Matrix - roBERTa Model\")\n",
    "plt.xlabel(\"Predicted\")\n",
    "plt.ylabel(\"True\")\n",
    "plt.tight_layout()\n",
    "plt.savefig(\"roberta_confusion_matrix.png\")"
   ]
  },
  {
   "cell_type": "code",
   "execution_count": 22,
   "id": "4e54a4d8",
   "metadata": {},
   "outputs": [
    {
     "name": "stderr",
     "output_type": "stream",
     "text": [
      "/research2/smpandit/Sentiment_Analysis_ML_DL_LLM/scripts/result_logger.py:41: FutureWarning: The behavior of DataFrame concatenation with empty or all-NA entries is deprecated. In a future version, this will no longer exclude empty or all-NA columns when determining the result dtypes. To retain the old behavior, exclude the relevant entries before the concat operation.\n",
      "  df = pd.concat([df, row_df], ignore_index=True)\n"
     ]
    },
    {
     "name": "stdout",
     "output_type": "stream",
     "text": [
      "Logged: roberta on Social Media to ../results/results.csv\n"
     ]
    },
    {
     "data": {
      "text/html": [],
      "text/plain": [
       "<IPython.core.display.HTML object>"
      ]
     },
     "metadata": {},
     "output_type": "display_data"
    },
    {
     "data": {
      "text/html": [
       "<br>    <style><br>        .wandb-row {<br>            display: flex;<br>            flex-direction: row;<br>            flex-wrap: wrap;<br>            justify-content: flex-start;<br>            width: 100%;<br>        }<br>        .wandb-col {<br>            display: flex;<br>            flex-direction: column;<br>            flex-basis: 100%;<br>            flex: 1;<br>            padding: 10px;<br>        }<br>    </style><br><div class=\"wandb-row\"><div class=\"wandb-col\"><h3>Run history:</h3><br/><table class=\"wandb\"><tr><td>CPU Usage (%)</td><td>▁</td></tr><tr><td>GPU Memory Usage (%)</td><td>▁</td></tr><tr><td>GPU Temp (C)</td><td>▁</td></tr><tr><td>GPU Usage (%)</td><td>▁</td></tr><tr><td>Inference Time per Sample (s)</td><td>▁</td></tr><tr><td>Latency (ms)</td><td>▁</td></tr><tr><td>Memory Usage (%)</td><td>▁</td></tr><tr><td>Power Consumption (W)</td><td>▁</td></tr><tr><td>Test Accuracy</td><td>▁</td></tr><tr><td>Test F1 Score</td><td>▁</td></tr><tr><td>Test Precision</td><td>▁</td></tr><tr><td>Test Recall</td><td>▁</td></tr><tr><td>Training Time (s)</td><td>▁</td></tr><tr><td>Tuning Time (s)</td><td>▁</td></tr><tr><td>Validation Accuracy</td><td>▁</td></tr><tr><td>Validation F1 Score</td><td>▁</td></tr><tr><td>Validation Precision</td><td>▁</td></tr><tr><td>Validation Recall</td><td>▁</td></tr><tr><td>eval/accuracy</td><td>▂▁▅▆▆██</td></tr><tr><td>eval/f1</td><td>▄▁▆▆▆██</td></tr><tr><td>eval/loss</td><td>██▇█▅▃▁</td></tr><tr><td>eval/precision</td><td>▁█▃▅▇▆▆</td></tr><tr><td>eval/recall</td><td>█▁█▇▅██</td></tr><tr><td>eval/runtime</td><td>█▇▃▅▁▁▄</td></tr><tr><td>eval/samples_per_second</td><td>▁▂▆▄██▅</td></tr><tr><td>eval/steps_per_second</td><td>▁▂▆▄██▅</td></tr><tr><td>max_len</td><td>▁</td></tr><tr><td>test/accuracy</td><td>▁▁</td></tr><tr><td>test/f1</td><td>▁▁</td></tr><tr><td>test/loss</td><td>▁▁</td></tr><tr><td>test/precision</td><td>▁▁</td></tr><tr><td>test/recall</td><td>▁▁</td></tr><tr><td>test/runtime</td><td>█▁</td></tr><tr><td>test/samples_per_second</td><td>▁█</td></tr><tr><td>test/steps_per_second</td><td>▁█</td></tr><tr><td>train/epoch</td><td>▁▂▃▄▅▆▇███</td></tr><tr><td>train/global_step</td><td>▁▂▃▄▅▆▇██████</td></tr><tr><td>train/grad_norm</td><td>█▁</td></tr><tr><td>train/learning_rate</td><td>█▁</td></tr><tr><td>train/loss</td><td>█▁</td></tr></table><br/></div><div class=\"wandb-col\"><h3>Run summary:</h3><br/><table class=\"wandb\"><tr><td>CPU Usage (%)</td><td>0.9</td></tr><tr><td>GPU Memory Usage (%)</td><td>9.93408</td></tr><tr><td>GPU Temp (C)</td><td>50</td></tr><tr><td>GPU Usage (%)</td><td>0</td></tr><tr><td>Inference Time per Sample (s)</td><td>0.0005</td></tr><tr><td>Latency (ms)</td><td>0.49783</td></tr><tr><td>Memory Usage (%)</td><td>11.9</td></tr><tr><td>Power Consumption (W)</td><td>71.03</td></tr><tr><td>Test Accuracy</td><td>0.85967</td></tr><tr><td>Test F1 Score</td><td>0.85592</td></tr><tr><td>Test Precision</td><td>0.87907</td></tr><tr><td>Test Recall</td><td>0.83396</td></tr><tr><td>Training Time (s)</td><td>4430.02481</td></tr><tr><td>Tuning Time (s)</td><td>0.04885</td></tr><tr><td>Validation Accuracy</td><td>0.85995</td></tr><tr><td>Validation F1 Score</td><td>0.8564</td></tr><tr><td>Validation Precision</td><td>0.87834</td></tr><tr><td>Validation Recall</td><td>0.83553</td></tr><tr><td>eval/accuracy</td><td>0.85995</td></tr><tr><td>eval/f1</td><td>0.8564</td></tr><tr><td>eval/loss</td><td>0.33523</td></tr><tr><td>eval/precision</td><td>0.87834</td></tr><tr><td>eval/recall</td><td>0.83553</td></tr><tr><td>eval/runtime</td><td>122.022</td></tr><tr><td>eval/samples_per_second</td><td>1962.286</td></tr><tr><td>eval/steps_per_second</td><td>61.325</td></tr><tr><td>max_len</td><td>64</td></tr><tr><td>test/accuracy</td><td>0.85967</td></tr><tr><td>test/f1</td><td>0.85592</td></tr><tr><td>test/loss</td><td>0.33593</td></tr><tr><td>test/precision</td><td>0.87907</td></tr><tr><td>test/recall</td><td>0.83396</td></tr><tr><td>test/runtime</td><td>119.1784</td></tr><tr><td>test/samples_per_second</td><td>2008.77</td></tr><tr><td>test/steps_per_second</td><td>62.78</td></tr><tr><td>total_flos</td><td>7.348468131807744e+16</td></tr><tr><td>train/epoch</td><td>2</td></tr><tr><td>train/global_step</td><td>69824</td></tr><tr><td>train/grad_norm</td><td>1.4026</td></tr><tr><td>train/learning_rate</td><td>0</td></tr><tr><td>train/loss</td><td>0.3289</td></tr><tr><td>train_loss</td><td>0.35443</td></tr><tr><td>train_runtime</td><td>4429.4517</td></tr><tr><td>train_samples_per_second</td><td>504.426</td></tr><tr><td>train_steps_per_second</td><td>15.764</td></tr></table><br/></div></div>"
      ],
      "text/plain": [
       "<IPython.core.display.HTML object>"
      ]
     },
     "metadata": {},
     "output_type": "display_data"
    },
    {
     "data": {
      "text/html": [
       " View run <strong style=\"color:#cdcd00\">ROBERTA_Social</strong> at: <a href='https://wandb.ai/smpandit-/sentiment-analysis/runs/q9t3rbf3' target=\"_blank\">https://wandb.ai/smpandit-/sentiment-analysis/runs/q9t3rbf3</a><br> View project at: <a href='https://wandb.ai/smpandit-/sentiment-analysis' target=\"_blank\">https://wandb.ai/smpandit-/sentiment-analysis</a><br>Synced 5 W&B file(s), 1 media file(s), 0 artifact file(s) and 0 other file(s)"
      ],
      "text/plain": [
       "<IPython.core.display.HTML object>"
      ]
     },
     "metadata": {},
     "output_type": "display_data"
    },
    {
     "data": {
      "text/html": [
       "Find logs at: <code>./wandb/run-20250508_160639-q9t3rbf3/logs</code>"
      ],
      "text/plain": [
       "<IPython.core.display.HTML object>"
      ]
     },
     "metadata": {},
     "output_type": "display_data"
    }
   ],
   "source": [
    "# Logging results \n",
    "\n",
    "log_results(\n",
    "    model_name=cfg.model_type,\n",
    "    dataset_name=\"Social Media\",\n",
    "\n",
    "    accuracy=test_metrics[\"test_accuracy\"],\n",
    "    precision=test_metrics[\"test_precision\"],\n",
    "    recall=test_metrics[\"test_recall\"],\n",
    "    f1=test_metrics[\"test_f1\"],\n",
    "\n",
    "    tuning_time=tuning_time,\n",
    "    train_time=training_time,\n",
    "    inference_time=infer_time,\n",
    "    latency=infer_time*1000,\n",
    "\n",
    "    cpu_usage=cpu_usage,\n",
    "    mem_usage=mem_usage,\n",
    "    gpu_usage=gpu.load*100,\n",
    "    gpu_mem_usage=gpu.memoryUtil*100,\n",
    "    gpu_temp=gpu.temperature,\n",
    "    power=power,\n",
    "    \n",
    "    hyperparams=f\"batch={cfg.batch_size}, epochs={cfg.epochs}, dropout={cfg.dropout}, learning_rate={cfg.learning_rate}, weight_decay={cfg.weight_decay}, warmup_ratio={cfg.warmup_ratio}, optimizer={cfg.optimizer}\" \n",
    ")\n",
    "\n",
    "wandb.log({\n",
    "    \"Validation Accuracy\": val_metrics[\"eval_accuracy\"], \n",
    "    \"Validation Precision\": val_metrics[\"eval_precision\"],\n",
    "    \"Validation Recall\": val_metrics[\"eval_recall\"], \n",
    "    \"Validation F1 Score\": val_metrics[\"eval_f1\"],\n",
    "\n",
    "    \"Test Accuracy\": test_metrics[\"test_accuracy\"],\n",
    "    \"Test Precision\": test_metrics[\"test_precision\"],\n",
    "    \"Test Recall\": test_metrics[\"test_recall\"],\n",
    "    \"Test F1 Score\": test_metrics[\"test_f1\"],\n",
    "\n",
    "    \"Tuning Time (s)\": tuning_time,             \n",
    "    \"Training Time (s)\": training_time,\n",
    "    \"Inference Time per Sample (s)\": infer_time,\n",
    "    \"Latency (ms)\": infer_time * 1000,\n",
    "\n",
    "    \"CPU Usage (%)\": cpu_usage,\n",
    "    \"Memory Usage (%)\": mem_usage,\n",
    "    \"GPU Usage (%)\": gpu.load * 100,\n",
    "    \"GPU Memory Usage (%)\": gpu.memoryUtil * 100,\n",
    "    \"GPU Temp (C)\": gpu.temperature,\n",
    "    \"Power Consumption (W)\": float(power), \n",
    "\n",
    "    \"max_len\": 64,\n",
    "    \"Confusion Matrix\": wandb.Image(\"roberta_confusion_matrix.png\")\n",
    "})\n",
    "\n",
    "wandb.finish()\n"
   ]
  },
  {
   "cell_type": "code",
   "execution_count": null,
   "id": "de5d2106",
   "metadata": {},
   "outputs": [],
   "source": []
  }
 ],
 "metadata": {
  "kernelspec": {
   "display_name": "sentimentAnalysisENV",
   "language": "python",
   "name": "python3"
  },
  "language_info": {
   "codemirror_mode": {
    "name": "ipython",
    "version": 3
   },
   "file_extension": ".py",
   "mimetype": "text/x-python",
   "name": "python",
   "nbconvert_exporter": "python",
   "pygments_lexer": "ipython3",
   "version": "3.10.16"
  }
 },
 "nbformat": 4,
 "nbformat_minor": 5
}
