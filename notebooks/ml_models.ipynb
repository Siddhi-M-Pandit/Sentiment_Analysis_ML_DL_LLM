{
 "cells": [
  {
   "cell_type": "code",
   "execution_count": 2,
   "metadata": {},
   "outputs": [],
   "source": [
    "import pandas as pd\n",
    "import numpy as np\n",
    "import seaborn as sns\n",
    "import matplotlib.pyplot as plt\n",
    "import time\n",
    "import sys, os\n",
    "import psutil\n",
    "import subprocess\n",
    "import GPUtil\n",
    "\n",
    "from sklearn.model_selection import train_test_split\n",
    "from sklearn.feature_extraction.text import TfidfVectorizer\n",
    "\n",
    "from sklearn.naive_bayes import MultinomialNB\n",
    "from sklearn.svm import LinearSVC\n",
    "\n",
    "from sklearn.metrics import (\n",
    "    accuracy_score, precision_score, recall_score, f1_score, \n",
    "    classification_report, confusion_matrix\n",
    ")\n",
    "import wandb\n",
    "\n",
    "# Enable script imports\n",
    "sys.path.append(os.path.abspath(\"..\"))\n",
    "from scripts.result_logger import log_results"
   ]
  },
  {
   "cell_type": "code",
   "execution_count": 2,
   "metadata": {},
   "outputs": [
    {
     "data": {
      "text/html": [
       "<div>\n",
       "<style scoped>\n",
       "    .dataframe tbody tr th:only-of-type {\n",
       "        vertical-align: middle;\n",
       "    }\n",
       "\n",
       "    .dataframe tbody tr th {\n",
       "        vertical-align: top;\n",
       "    }\n",
       "\n",
       "    .dataframe thead th {\n",
       "        text-align: right;\n",
       "    }\n",
       "</style>\n",
       "<table border=\"1\" class=\"dataframe\">\n",
       "  <thead>\n",
       "    <tr style=\"text-align: right;\">\n",
       "      <th></th>\n",
       "      <th>sentiment_label</th>\n",
       "      <th>text</th>\n",
       "      <th>clean_text</th>\n",
       "    </tr>\n",
       "  </thead>\n",
       "  <tbody>\n",
       "    <tr>\n",
       "      <th>0</th>\n",
       "      <td>Negative</td>\n",
       "      <td>@switchfoot http://twitpic.com/2y1zl - Awww, t...</td>\n",
       "      <td>awww thats a bummer you shoulda got david carr...</td>\n",
       "    </tr>\n",
       "    <tr>\n",
       "      <th>1</th>\n",
       "      <td>Negative</td>\n",
       "      <td>is upset that he can't update his Facebook by ...</td>\n",
       "      <td>is upset that he cant update his facebook by t...</td>\n",
       "    </tr>\n",
       "    <tr>\n",
       "      <th>2</th>\n",
       "      <td>Negative</td>\n",
       "      <td>@Kenichan I dived many times for the ball. Man...</td>\n",
       "      <td>i dived many times for the ball managed to sav...</td>\n",
       "    </tr>\n",
       "    <tr>\n",
       "      <th>3</th>\n",
       "      <td>Negative</td>\n",
       "      <td>my whole body feels itchy and like its on fire</td>\n",
       "      <td>my whole body feels itchy and like its on fire</td>\n",
       "    </tr>\n",
       "    <tr>\n",
       "      <th>4</th>\n",
       "      <td>Negative</td>\n",
       "      <td>@nationwideclass no, it's not behaving at all....</td>\n",
       "      <td>no its not behaving at all im mad why am i her...</td>\n",
       "    </tr>\n",
       "  </tbody>\n",
       "</table>\n",
       "</div>"
      ],
      "text/plain": [
       "  sentiment_label                                               text  \\\n",
       "0        Negative  @switchfoot http://twitpic.com/2y1zl - Awww, t...   \n",
       "1        Negative  is upset that he can't update his Facebook by ...   \n",
       "2        Negative  @Kenichan I dived many times for the ball. Man...   \n",
       "3        Negative    my whole body feels itchy and like its on fire    \n",
       "4        Negative  @nationwideclass no, it's not behaving at all....   \n",
       "\n",
       "                                          clean_text  \n",
       "0  awww thats a bummer you shoulda got david carr...  \n",
       "1  is upset that he cant update his facebook by t...  \n",
       "2  i dived many times for the ball managed to sav...  \n",
       "3     my whole body feels itchy and like its on fire  \n",
       "4  no its not behaving at all im mad why am i her...  "
      ]
     },
     "execution_count": 2,
     "metadata": {},
     "output_type": "execute_result"
    }
   ],
   "source": [
    "# Load the pre-preprocessed Social Media dataset\n",
    "\n",
    "df = pd.read_csv(\"../data/social_clean.csv\")\n",
    "df = df.dropna(subset=[\"clean_text\", \"sentiment_label\"])\n",
    "df.head()"
   ]
  },
  {
   "cell_type": "code",
   "execution_count": 3,
   "metadata": {},
   "outputs": [
    {
     "name": "stdout",
     "output_type": "stream",
     "text": [
      "Train: (1117166,), Validation: (239442,), Test: (239402,)\n"
     ]
    }
   ],
   "source": [
    "# Splitting Data for Train/Val/Test (70-15-15 split)\n",
    "\n",
    "X = df['clean_text']\n",
    "y = df['sentiment_label']\n",
    "\n",
    "# First split: Temp [Train+Val] (85%) + Test(15%)  \n",
    "X_temp, X_test, y_temp, y_test = train_test_split(\n",
    "    X, y, \n",
    "    test_size=0.15, \n",
    "    random_state=42, \n",
    "    stratify=y\n",
    ")\n",
    "\n",
    "# Second split: Train(70%) + Val (15%)\n",
    "X_train, X_val, y_train, y_val = train_test_split(\n",
    "    X_temp, y_temp, \n",
    "    test_size=0.1765,                                       # becoz 0.1765 × 85% ≈ 15%\n",
    "    random_state=42, \n",
    "    stratify=y_temp\n",
    ")\n",
    "\n",
    "print(f\"Train: {X_train.shape}, Validation: {X_val.shape}, Test: {X_test.shape}\")"
   ]
  },
  {
   "cell_type": "code",
   "execution_count": 4,
   "metadata": {},
   "outputs": [],
   "source": [
    "# Drop NaNs again before saving\n",
    "\n",
    "X_train = X_train.dropna()\n",
    "X_val = X_val.dropna()\n",
    "X_test = X_test.dropna()\n",
    "y_train = y_train.dropna()\n",
    "y_val = y_val.dropna()\n",
    "y_test = y_test.dropna()\n",
    "\n",
    "# Save splits for DL/LLM reuse\n",
    "os.makedirs(\"../data/splits\", exist_ok=True)\n",
    "\n",
    "X_train.to_csv(\"../data/splits/X_train.csv\", index=False)\n",
    "X_val.to_csv(\"../data/splits/X_val.csv\", index=False)\n",
    "X_test.to_csv(\"../data/splits/X_test.csv\", index=False)\n",
    "\n",
    "y_train.to_csv(\"../data/splits/y_train.csv\", index=False)\n",
    "y_val.to_csv(\"../data/splits/y_val.csv\", index=False)\n",
    "y_test.to_csv(\"../data/splits/y_test.csv\", index=False)"
   ]
  },
  {
   "cell_type": "code",
   "execution_count": 5,
   "metadata": {},
   "outputs": [],
   "source": [
    "# Vectorization (TF-IDF)\n",
    "\n",
    "vectorizer = TfidfVectorizer(max_features=10000, ngram_range=(1, 2))\n",
    "\n",
    "X_train_vec = vectorizer.fit_transform(X_train)\n",
    "X_val_vec = vectorizer.transform(X_val)\n",
    "X_test_vec = vectorizer.transform(X_test)"
   ]
  },
  {
   "cell_type": "markdown",
   "metadata": {},
   "source": [
    "# Naive Bayes Model"
   ]
  },
  {
   "cell_type": "code",
   "execution_count": 6,
   "metadata": {},
   "outputs": [
    {
     "name": "stderr",
     "output_type": "stream",
     "text": [
      "\u001b[34m\u001b[1mwandb\u001b[0m: Using wandb-core as the SDK backend.  Please refer to https://wandb.me/wandb-core for more information.\n",
      "\u001b[34m\u001b[1mwandb\u001b[0m: Currently logged in as: \u001b[33msmpandit\u001b[0m (\u001b[33msmpandit-\u001b[0m) to \u001b[32mhttps://api.wandb.ai\u001b[0m. Use \u001b[1m`wandb login --relogin`\u001b[0m to force relogin\n"
     ]
    },
    {
     "data": {
      "text/html": [
       "Tracking run with wandb version 0.19.8"
      ],
      "text/plain": [
       "<IPython.core.display.HTML object>"
      ]
     },
     "metadata": {},
     "output_type": "display_data"
    },
    {
     "data": {
      "text/html": [
       "Run data is saved locally in <code>/home/smpandit/Sentiment_Analysis_ML_DL_LLM/notebooks/wandb/run-20250404_042914-pnwg4ytg</code>"
      ],
      "text/plain": [
       "<IPython.core.display.HTML object>"
      ]
     },
     "metadata": {},
     "output_type": "display_data"
    },
    {
     "data": {
      "text/html": [
       "Syncing run <strong><a href='https://wandb.ai/smpandit-/sentiment-analysis/runs/pnwg4ytg' target=\"_blank\">NaiveBayes_Social</a></strong> to <a href='https://wandb.ai/smpandit-/sentiment-analysis' target=\"_blank\">Weights & Biases</a> (<a href='https://wandb.me/developer-guide' target=\"_blank\">docs</a>)<br>"
      ],
      "text/plain": [
       "<IPython.core.display.HTML object>"
      ]
     },
     "metadata": {},
     "output_type": "display_data"
    },
    {
     "data": {
      "text/html": [
       " View project at <a href='https://wandb.ai/smpandit-/sentiment-analysis' target=\"_blank\">https://wandb.ai/smpandit-/sentiment-analysis</a>"
      ],
      "text/plain": [
       "<IPython.core.display.HTML object>"
      ]
     },
     "metadata": {},
     "output_type": "display_data"
    },
    {
     "data": {
      "text/html": [
       " View run at <a href='https://wandb.ai/smpandit-/sentiment-analysis/runs/pnwg4ytg' target=\"_blank\">https://wandb.ai/smpandit-/sentiment-analysis/runs/pnwg4ytg</a>"
      ],
      "text/plain": [
       "<IPython.core.display.HTML object>"
      ]
     },
     "metadata": {},
     "output_type": "display_data"
    },
    {
     "data": {
      "text/html": [
       "<button onClick=\"this.nextSibling.style.display='block';this.style.display='none';\">Display W&B run</button><iframe src='https://wandb.ai/smpandit-/sentiment-analysis/runs/pnwg4ytg?jupyter=true' style='border:none;width:100%;height:420px;display:none;'></iframe>"
      ],
      "text/plain": [
       "<wandb.sdk.wandb_run.Run at 0x7ff5558c5c60>"
      ]
     },
     "execution_count": 6,
     "metadata": {},
     "output_type": "execute_result"
    },
    {
     "name": "stderr",
     "output_type": "stream",
     "text": [
      "message_loop has been closed\n",
      "Traceback (most recent call last):\n",
      "  File \"/home/smpandit/.conda/envs/sentimentAnalysisENV/lib/python3.10/site-packages/wandb/sdk/interface/router_sock.py\", line 27, in _read_message\n",
      "    return self._sock_client.read_server_response(timeout=1)\n",
      "  File \"/home/smpandit/.conda/envs/sentimentAnalysisENV/lib/python3.10/site-packages/wandb/sdk/lib/sock_client.py\", line 235, in read_server_response\n",
      "    data = self._read_packet_bytes(timeout=timeout)\n",
      "  File \"/home/smpandit/.conda/envs/sentimentAnalysisENV/lib/python3.10/site-packages/wandb/sdk/lib/sock_client.py\", line 220, in _read_packet_bytes\n",
      "    raise SockClientClosedError\n",
      "wandb.sdk.lib.sock_client.SockClientClosedError\n",
      "\n",
      "The above exception was the direct cause of the following exception:\n",
      "\n",
      "Traceback (most recent call last):\n",
      "  File \"/home/smpandit/.conda/envs/sentimentAnalysisENV/lib/python3.10/site-packages/wandb/sdk/interface/router.py\", line 56, in message_loop\n",
      "    msg = self._read_message()\n",
      "  File \"/home/smpandit/.conda/envs/sentimentAnalysisENV/lib/python3.10/site-packages/wandb/sdk/interface/router_sock.py\", line 29, in _read_message\n",
      "    raise MessageRouterClosedError from e\n",
      "wandb.sdk.interface.router.MessageRouterClosedError\n"
     ]
    }
   ],
   "source": [
    "# wandb Init\n",
    "\n",
    "wandb.init(\n",
    "    project=\"sentiment-analysis\",\n",
    "    name=\"NaiveBayes_Social\",\n",
    "    config={\n",
    "        \"model\": \"Naive Bayes\",\n",
    "        \"dataset\": \"Sentiment140\",\n",
    "        \"vectorizer\": \"TF-IDF\",\n",
    "        \"features\": 10000\n",
    "    }\n",
    ")"
   ]
  },
  {
   "cell_type": "code",
   "execution_count": 7,
   "metadata": {},
   "outputs": [],
   "source": [
    "# Train Naive Bayes Model\n",
    "\n",
    "start_time = time.time()\n",
    "\n",
    "nb_model = MultinomialNB()\n",
    "nb_model.fit(X_train_vec, y_train)\n",
    "\n",
    "train_time = time.time() - start_time"
   ]
  },
  {
   "cell_type": "code",
   "execution_count": 8,
   "metadata": {},
   "outputs": [
    {
     "name": "stdout",
     "output_type": "stream",
     "text": [
      "\n",
      " Naive Bayes - Validation Set:\n",
      "              precision    recall  f1-score   support\n",
      "\n",
      "    Negative       0.78      0.79      0.78    119762\n",
      "    Positive       0.79      0.77      0.78    119680\n",
      "\n",
      "    accuracy                           0.78    239442\n",
      "   macro avg       0.78      0.78      0.78    239442\n",
      "weighted avg       0.78      0.78      0.78    239442\n",
      "\n",
      "\n",
      " Naive Bayes - Test Set:\n",
      "              precision    recall  f1-score   support\n",
      "\n",
      "    Negative       0.78      0.79      0.78    119742\n",
      "    Positive       0.79      0.77      0.78    119660\n",
      "\n",
      "    accuracy                           0.78    239402\n",
      "   macro avg       0.78      0.78      0.78    239402\n",
      "weighted avg       0.78      0.78      0.78    239402\n",
      "\n"
     ]
    }
   ],
   "source": [
    "# Validation Evaluation\n",
    "y_val_pred_nb = nb_model.predict(X_val_vec)\n",
    "print(\"\\n Naive Bayes - Validation Set:\")\n",
    "print(classification_report(y_val, y_val_pred_nb))\n",
    "val_acc = accuracy_score(y_val, y_val_pred_nb)\n",
    "val_prec = precision_score(y_val, y_val_pred_nb, pos_label='Positive')\n",
    "val_rec = recall_score(y_val, y_val_pred_nb, pos_label='Positive')\n",
    "val_f1 = f1_score(y_val, y_val_pred_nb, pos_label='Positive')\n",
    "\n",
    "# Test Evaluation\n",
    "y_test_pred_nb = nb_model.predict(X_test_vec)\n",
    "print(\"\\n Naive Bayes - Test Set:\")\n",
    "print(classification_report(y_test, y_test_pred_nb))\n",
    "acc = accuracy_score(y_test, y_test_pred_nb)\n",
    "prec = precision_score(y_test, y_test_pred_nb, pos_label='Positive')\n",
    "rec = recall_score(y_test, y_test_pred_nb, pos_label='Positive')\n",
    "f1 = f1_score(y_test, y_test_pred_nb, pos_label='Positive')"
   ]
  },
  {
   "cell_type": "code",
   "execution_count": 9,
   "metadata": {},
   "outputs": [],
   "source": [
    "# Inference Time\n",
    " \n",
    "start_inf = time.time()\n",
    "_ = nb_model.predict(X_test_vec[:100])\n",
    "inference_time = (time.time() - start_inf) / 100  # average per sample"
   ]
  },
  {
   "cell_type": "code",
   "execution_count": 10,
   "metadata": {},
   "outputs": [
    {
     "data": {
      "image/png": "[encoded data removed]",
      "text/plain": [
       "<Figure size 400x300 with 2 Axes>"
      ]
     },
     "metadata": {},
     "output_type": "display_data"
    }
   ],
   "source": [
    "# Confusion Matrix\n",
    "cm = confusion_matrix(y_test, y_test_pred_nb, labels=['Negative', 'Positive'])\n",
    "plt.figure(figsize=(4, 3))\n",
    "sns.heatmap(cm, annot=True, fmt='d', cmap='Blues', xticklabels=['Neg', 'Pos'], yticklabels=['Neg', 'Pos'])\n",
    "plt.title(\"Confusion Matrix\")\n",
    "plt.xlabel(\"Predicted\")\n",
    "plt.ylabel(\"True\")\n",
    "plt.tight_layout()\n",
    "plt.savefig(\"nb_confusion_matrix.png\")"
   ]
  },
  {
   "cell_type": "code",
   "execution_count": 11,
   "metadata": {},
   "outputs": [],
   "source": [
    "# System Stats\n",
    "\n",
    "cpu_usage = psutil.cpu_percent(interval=1)\n",
    "mem_usage = psutil.virtual_memory().percent\n",
    "gpu = GPUtil.getGPUs()[0]\n",
    "power = subprocess.check_output([\n",
    "    \"nvidia-smi\", \"--query-gpu=power.draw\", \"--format=csv,noheader,nounits\"\n",
    "]).decode(\"utf-8\").strip()"
   ]
  },
  {
   "cell_type": "code",
   "execution_count": 14,
   "metadata": {},
   "outputs": [
    {
     "name": "stdout",
     "output_type": "stream",
     "text": [
      "Logged: Naive Bayes on Social Media to ../results/results.csv\n"
     ]
    },
    {
     "data": {
      "text/html": [],
      "text/plain": [
       "<IPython.core.display.HTML object>"
      ]
     },
     "metadata": {},
     "output_type": "display_data"
    },
    {
     "data": {
      "text/html": [
       "<br>    <style><br>        .wandb-row {<br>            display: flex;<br>            flex-direction: row;<br>            flex-wrap: wrap;<br>            justify-content: flex-start;<br>            width: 100%;<br>        }<br>        .wandb-col {<br>            display: flex;<br>            flex-direction: column;<br>            flex-basis: 100%;<br>            flex: 1;<br>            padding: 10px;<br>        }<br>    </style><br><div class=\"wandb-row\"><div class=\"wandb-col\"><h3>Run history:</h3><br/><table class=\"wandb\"><tr><td>CPU Usage (%)</td><td>▁</td></tr><tr><td>GPU Memory Usage (%)</td><td>▁</td></tr><tr><td>GPU Temp (C)</td><td>▁</td></tr><tr><td>GPU Usage (%)</td><td>▁</td></tr><tr><td>Inference Time per Sample (s)</td><td>▁</td></tr><tr><td>Latency (ms)</td><td>▁</td></tr><tr><td>Memory Usage (%)</td><td>▁</td></tr><tr><td>Power Consumption (W)</td><td>▁</td></tr><tr><td>Test Accuracy</td><td>▁</td></tr><tr><td>Test F1 Score</td><td>▁</td></tr><tr><td>Test Precision</td><td>▁</td></tr><tr><td>Test Recall</td><td>▁</td></tr><tr><td>Training Time (s)</td><td>▁</td></tr><tr><td>Validation Accuracy</td><td>▁</td></tr><tr><td>Validation F1 Score</td><td>▁</td></tr><tr><td>Validation Precision</td><td>▁</td></tr><tr><td>Validation Recall</td><td>▁</td></tr></table><br/></div><div class=\"wandb-col\"><h3>Run summary:</h3><br/><table class=\"wandb\"><tr><td>CPU Usage (%)</td><td>0.4</td></tr><tr><td>GPU Memory Usage (%)</td><td>0</td></tr><tr><td>GPU Temp (C)</td><td>33</td></tr><tr><td>GPU Usage (%)</td><td>0</td></tr><tr><td>Inference Time per Sample (s)</td><td>1e-05</td></tr><tr><td>Latency (ms)</td><td>0.00972</td></tr><tr><td>Memory Usage (%)</td><td>2.2</td></tr><tr><td>Power Consumption (W)</td><td>42.04</td></tr><tr><td>Test Accuracy</td><td>0.78238</td></tr><tr><td>Test F1 Score</td><td>0.78008</td></tr><tr><td>Test Precision</td><td>0.78813</td></tr><tr><td>Test Recall</td><td>0.77219</td></tr><tr><td>Training Time (s)</td><td>4.06101</td></tr><tr><td>Validation Accuracy</td><td>0.78148</td></tr><tr><td>Validation F1 Score</td><td>0.77909</td></tr><tr><td>Validation Precision</td><td>0.7874</td></tr><tr><td>Validation Recall</td><td>0.77096</td></tr></table><br/></div></div>"
      ],
      "text/plain": [
       "<IPython.core.display.HTML object>"
      ]
     },
     "metadata": {},
     "output_type": "display_data"
    },
    {
     "data": {
      "text/html": [
       " View run <strong style=\"color:#cdcd00\">NaiveBayes_Social</strong> at: <a href='https://wandb.ai/smpandit-/sentiment-analysis/runs/pnwg4ytg' target=\"_blank\">https://wandb.ai/smpandit-/sentiment-analysis/runs/pnwg4ytg</a><br> View project at: <a href='https://wandb.ai/smpandit-/sentiment-analysis' target=\"_blank\">https://wandb.ai/smpandit-/sentiment-analysis</a><br>Synced 5 W&B file(s), 1 media file(s), 0 artifact file(s) and 0 other file(s)"
      ],
      "text/plain": [
       "<IPython.core.display.HTML object>"
      ]
     },
     "metadata": {},
     "output_type": "display_data"
    },
    {
     "data": {
      "text/html": [
       "Find logs at: <code>./wandb/run-20250404_042914-pnwg4ytg/logs</code>"
      ],
      "text/plain": [
       "<IPython.core.display.HTML object>"
      ]
     },
     "metadata": {},
     "output_type": "display_data"
    }
   ],
   "source": [
    "# Log results to  result_logger.py & wandb Logs\n",
    "\n",
    "log_results(\n",
    "    model_name=\"Naive Bayes\",\n",
    "    dataset_name=\"Social Media\",\n",
    "    accuracy=acc,\n",
    "    precision=prec,\n",
    "    recall=rec,\n",
    "    f1=f1,\n",
    "    tuning_time=None,\n",
    "    train_time=train_time,\n",
    "    inference_time=inference_time,\n",
    "    latency=inference_time * 1000,\n",
    "    cpu_usage=cpu_usage,\n",
    "    mem_usage=mem_usage,\n",
    "    gpu_usage=gpu.load * 100,\n",
    "    gpu_mem_usage=gpu.memoryUtil * 100,\n",
    "    gpu_temp=gpu.temperature,\n",
    "    power=float(power),\n",
    "    num_features=10000,\n",
    "    hyperparams=\"default\",\n",
    ")\n",
    "\n",
    "wandb.log({\n",
    "    \"Validation Accuracy\": val_acc, \n",
    "    \"Validation Precision\": val_prec,\n",
    "    \"Validation Recall\": val_rec, \n",
    "    \"Validation F1 Score\": val_f1,\n",
    "    \"Test Accuracy\": acc,\n",
    "    \"Test Precision\": prec,\n",
    "    \"Test Recall\": rec,\n",
    "    \"Test F1 Score\": f1,\n",
    "    \"Training Time (s)\": train_time,\n",
    "    \"Inference Time per Sample (s)\": inference_time,\n",
    "    \"Latency (ms)\": inference_time * 1000,\n",
    "    \"CPU Usage (%)\": cpu_usage,\n",
    "    \"Memory Usage (%)\": mem_usage,\n",
    "    \"GPU Usage (%)\": gpu.load * 100,\n",
    "    \"GPU Memory Usage (%)\": gpu.memoryUtil * 100,\n",
    "    \"GPU Temp (C)\": gpu.temperature,\n",
    "    \"Power Consumption (W)\": float(power),\n",
    "    \"Confusion Matrix\": wandb.Image(\"nb_confusion_matrix.png\")\n",
    "})\n",
    "\n",
    "wandb.finish()"
   ]
  },
  {
   "cell_type": "markdown",
   "metadata": {},
   "source": [
    "# SVM Model"
   ]
  },
  {
   "cell_type": "code",
   "execution_count": 3,
   "metadata": {},
   "outputs": [],
   "source": [
    "# Load split data\n",
    "X_train = pd.read_csv(\"../data/splits/X_train.csv\")[\"clean_text\"]\n",
    "X_val   = pd.read_csv(\"../data/splits/X_val.csv\")[\"clean_text\"]\n",
    "X_test  = pd.read_csv(\"../data/splits/X_test.csv\")[\"clean_text\"]\n",
    "\n",
    "y_train = pd.read_csv(\"../data/splits/y_train.csv\")[\"sentiment_label\"]\n",
    "y_val   = pd.read_csv(\"../data/splits/y_val.csv\")[\"sentiment_label\"]\n",
    "y_test  = pd.read_csv(\"../data/splits/y_test.csv\")[\"sentiment_label\"]"
   ]
  },
  {
   "cell_type": "code",
   "execution_count": 4,
   "metadata": {},
   "outputs": [],
   "source": [
    "# Vectorization (TF-IDF)\n",
    "\n",
    "vectorizer = TfidfVectorizer(max_features=10000, ngram_range=(1, 2))\n",
    "\n",
    "X_train_vec = vectorizer.fit_transform(X_train)\n",
    "X_val_vec = vectorizer.transform(X_val)\n",
    "X_test_vec = vectorizer.transform(X_test)"
   ]
  },
  {
   "cell_type": "code",
   "execution_count": 5,
   "metadata": {},
   "outputs": [
    {
     "name": "stdout",
     "output_type": "stream",
     "text": [
      "\n",
      " Hyperparameter tuning for SVM...\n",
      "C=0.1 → Validation Accuracy: 0.8042\n",
      "C=0.5 → Validation Accuracy: 0.8044\n",
      "C=1.0 → Validation Accuracy: 0.8044\n",
      "C=2.0 → Validation Accuracy: 0.8044\n",
      "C=5.0 → Validation Accuracy: 0.8043\n",
      "\n",
      " Best C: 0.5 with Validation Accuracy: 0.8044\n"
     ]
    }
   ],
   "source": [
    "# Hyperparameter tuning\n",
    "\n",
    "print(\"\\n Hyperparameter tuning for SVM...\")\n",
    "best_accuracy = 0\n",
    "best_C = 1.0\n",
    "\n",
    "start_tune = time.time()\n",
    "\n",
    "for C in [0.1, 0.5, 1.0, 2.0, 5.0]:\n",
    "    svm_model = LinearSVC(C=C, max_iter=1000)\n",
    "    svm_model.fit(X_train_vec, y_train)\n",
    "\n",
    "    val_pred = svm_model.predict(X_val_vec)\n",
    "    \n",
    "    acc = accuracy_score(y_val, val_pred)\n",
    "    print(f\"C={C} → Validation Accuracy: {acc:.4f}\")\n",
    "    \n",
    "    if acc > best_accuracy:\n",
    "        best_accuracy = acc\n",
    "        best_C = C\n",
    "\n",
    "tuning_time = time.time() - start_tune\n",
    "\n",
    "print(f\"\\n Best C: {best_C} with Validation Accuracy: {best_accuracy:.4f}\")"
   ]
  },
  {
   "cell_type": "code",
   "execution_count": 6,
   "metadata": {},
   "outputs": [
    {
     "name": "stderr",
     "output_type": "stream",
     "text": [
      "\u001b[34m\u001b[1mwandb\u001b[0m: Using wandb-core as the SDK backend.  Please refer to https://wandb.me/wandb-core for more information.\n",
      "\u001b[34m\u001b[1mwandb\u001b[0m: Currently logged in as: \u001b[33msmpandit\u001b[0m (\u001b[33msmpandit-\u001b[0m) to \u001b[32mhttps://api.wandb.ai\u001b[0m. Use \u001b[1m`wandb login --relogin`\u001b[0m to force relogin\n"
     ]
    },
    {
     "data": {
      "text/html": [
       "Tracking run with wandb version 0.19.8"
      ],
      "text/plain": [
       "<IPython.core.display.HTML object>"
      ]
     },
     "metadata": {},
     "output_type": "display_data"
    },
    {
     "data": {
      "text/html": [
       "Run data is saved locally in <code>/home/smpandit/Sentiment_Analysis_ML_DL_LLM/notebooks/wandb/run-20250404_044714-pfewggfc</code>"
      ],
      "text/plain": [
       "<IPython.core.display.HTML object>"
      ]
     },
     "metadata": {},
     "output_type": "display_data"
    },
    {
     "data": {
      "text/html": [
       "Syncing run <strong><a href='https://wandb.ai/smpandit-/sentiment-analysis/runs/pfewggfc' target=\"_blank\">SVM_Social</a></strong> to <a href='https://wandb.ai/smpandit-/sentiment-analysis' target=\"_blank\">Weights & Biases</a> (<a href='https://wandb.me/developer-guide' target=\"_blank\">docs</a>)<br>"
      ],
      "text/plain": [
       "<IPython.core.display.HTML object>"
      ]
     },
     "metadata": {},
     "output_type": "display_data"
    },
    {
     "data": {
      "text/html": [
       " View project at <a href='https://wandb.ai/smpandit-/sentiment-analysis' target=\"_blank\">https://wandb.ai/smpandit-/sentiment-analysis</a>"
      ],
      "text/plain": [
       "<IPython.core.display.HTML object>"
      ]
     },
     "metadata": {},
     "output_type": "display_data"
    },
    {
     "data": {
      "text/html": [
       " View run at <a href='https://wandb.ai/smpandit-/sentiment-analysis/runs/pfewggfc' target=\"_blank\">https://wandb.ai/smpandit-/sentiment-analysis/runs/pfewggfc</a>"
      ],
      "text/plain": [
       "<IPython.core.display.HTML object>"
      ]
     },
     "metadata": {},
     "output_type": "display_data"
    },
    {
     "data": {
      "text/html": [
       "<button onClick=\"this.nextSibling.style.display='block';this.style.display='none';\">Display W&B run</button><iframe src='https://wandb.ai/smpandit-/sentiment-analysis/runs/pfewggfc?jupyter=true' style='border:none;width:100%;height:420px;display:none;'></iframe>"
      ],
      "text/plain": [
       "<wandb.sdk.wandb_run.Run at 0x7fd23f611000>"
      ]
     },
     "execution_count": 6,
     "metadata": {},
     "output_type": "execute_result"
    }
   ],
   "source": [
    "# wandb Init\n",
    "\n",
    "wandb.init(\n",
    "    project=\"sentiment-analysis\", \n",
    "    name=\"SVM_Social\",\n",
    "    config={\n",
    "        \"model\": \"SVM\", \n",
    "        \"dataset\": \"Sentiment140\",\n",
    "        \"vectorizer\": \"TF-IDF\",\n",
    "        \"features\": 10000,\n",
    "        \"C\": best_C\n",
    "    }\n",
    ")"
   ]
  },
  {
   "cell_type": "code",
   "execution_count": 7,
   "metadata": {},
   "outputs": [],
   "source": [
    "# Train SVM Model\n",
    "\n",
    "start = time.time()\n",
    "\n",
    "svm_model = LinearSVC(C=best_C, max_iter=1000)\n",
    "svm_model.fit(X_train_vec, y_train)\n",
    "\n",
    "train_time = time.time() - start"
   ]
  },
  {
   "cell_type": "code",
   "execution_count": 8,
   "metadata": {},
   "outputs": [
    {
     "name": "stdout",
     "output_type": "stream",
     "text": [
      "\n",
      " SVM - Validation Set:\n",
      "              precision    recall  f1-score   support\n",
      "\n",
      "    Negative       0.81      0.79      0.80    119762\n",
      "    Positive       0.79      0.82      0.81    119680\n",
      "\n",
      "    accuracy                           0.80    239442\n",
      "   macro avg       0.80      0.80      0.80    239442\n",
      "weighted avg       0.80      0.80      0.80    239442\n",
      "\n",
      "\n",
      " SVM - Test Set:\n",
      "              precision    recall  f1-score   support\n",
      "\n",
      "    Negative       0.81      0.79      0.80    119742\n",
      "    Positive       0.80      0.82      0.81    119660\n",
      "\n",
      "    accuracy                           0.80    239402\n",
      "   macro avg       0.80      0.80      0.80    239402\n",
      "weighted avg       0.80      0.80      0.80    239402\n",
      "\n"
     ]
    }
   ],
   "source": [
    "# Validation Evaluation\n",
    "y_val_pred_svm = svm_model.predict(X_val_vec)\n",
    "print(\"\\n SVM - Validation Set:\")\n",
    "print(classification_report(y_val, y_val_pred_svm))\n",
    "val_acc = accuracy_score(y_val, y_val_pred_svm)\n",
    "val_prec = precision_score(y_val, y_val_pred_svm, pos_label='Positive')\n",
    "val_rec = recall_score(y_val, y_val_pred_svm, pos_label='Positive')\n",
    "val_f1 = f1_score(y_val, y_val_pred_svm, pos_label='Positive')\n",
    "\n",
    "# Test Evaluation\n",
    "y_pred = svm_model.predict(X_test_vec)\n",
    "print(\"\\n SVM - Test Set:\")\n",
    "print(classification_report(y_test, y_pred))\n",
    "acc = accuracy_score(y_test, y_pred)\n",
    "prec = precision_score(y_test, y_pred, pos_label='Positive')\n",
    "rec = recall_score(y_test, y_pred, pos_label='Positive')\n",
    "f1 = f1_score(y_test, y_pred, pos_label='Positive')"
   ]
  },
  {
   "cell_type": "code",
   "execution_count": 9,
   "metadata": {},
   "outputs": [],
   "source": [
    "# Inference Time\n",
    "\n",
    "start_inf = time.time()\n",
    "_ = svm_model.predict(X_test_vec[:100])\n",
    "infer_time = (time.time() - start_inf) / 100"
   ]
  },
  {
   "cell_type": "code",
   "execution_count": 10,
   "metadata": {},
   "outputs": [
    {
     "data": {
      "image/png": "[encoded data removed]",
      "text/plain": [
       "<Figure size 400x300 with 2 Axes>"
      ]
     },
     "metadata": {},
     "output_type": "display_data"
    }
   ],
   "source": [
    "# Confusion Matrix\n",
    "cm = confusion_matrix(y_test, y_pred, labels=['Negative', 'Positive'])\n",
    "plt.figure(figsize=(4,3))\n",
    "sns.heatmap(cm, annot=True, fmt='d', cmap='Oranges', xticklabels=['Neg', 'Pos'], yticklabels=['Neg', 'Pos'])\n",
    "plt.title(\"SVM Confusion Matrix\")\n",
    "plt.xlabel(\"Predicted\")\n",
    "plt.ylabel(\"True\")\n",
    "plt.tight_layout()\n",
    "plt.savefig(\"svm_confusion_matrix.png\")"
   ]
  },
  {
   "cell_type": "code",
   "execution_count": 11,
   "metadata": {},
   "outputs": [],
   "source": [
    "# System Stats\n",
    "\n",
    "cpu_usage = psutil.cpu_percent(interval=1)\n",
    "mem_usage = psutil.virtual_memory().percent\n",
    "gpu = GPUtil.getGPUs()[0]\n",
    "power = subprocess.check_output([\n",
    "    \"nvidia-smi\", \"--query-gpu=power.draw\", \"--format=csv,noheader,nounits\"\n",
    "]).decode(\"utf-8\").strip()"
   ]
  },
  {
   "cell_type": "code",
   "execution_count": 12,
   "metadata": {},
   "outputs": [
    {
     "name": "stdout",
     "output_type": "stream",
     "text": [
      "Logged: SVM on Social Media to ../results/results.csv\n"
     ]
    },
    {
     "data": {
      "text/html": [],
      "text/plain": [
       "<IPython.core.display.HTML object>"
      ]
     },
     "metadata": {},
     "output_type": "display_data"
    },
    {
     "data": {
      "text/html": [
       "<br>    <style><br>        .wandb-row {<br>            display: flex;<br>            flex-direction: row;<br>            flex-wrap: wrap;<br>            justify-content: flex-start;<br>            width: 100%;<br>        }<br>        .wandb-col {<br>            display: flex;<br>            flex-direction: column;<br>            flex-basis: 100%;<br>            flex: 1;<br>            padding: 10px;<br>        }<br>    </style><br><div class=\"wandb-row\"><div class=\"wandb-col\"><h3>Run history:</h3><br/><table class=\"wandb\"><tr><td>CPU Usage (%)</td><td>▁</td></tr><tr><td>GPU Memory Usage (%)</td><td>▁</td></tr><tr><td>GPU Temp (C)</td><td>▁</td></tr><tr><td>GPU Usage (%)</td><td>▁</td></tr><tr><td>Inference Time per Sample (s)</td><td>▁</td></tr><tr><td>Latency (ms)</td><td>▁</td></tr><tr><td>Memory Usage (%)</td><td>▁</td></tr><tr><td>Power Consumption (W)</td><td>▁</td></tr><tr><td>Test Accuracy</td><td>▁</td></tr><tr><td>Test F1 Score</td><td>▁</td></tr><tr><td>Test Precision</td><td>▁</td></tr><tr><td>Test Recall</td><td>▁</td></tr><tr><td>Training Time (s)</td><td>▁</td></tr><tr><td>Tuning Time (s)</td><td>▁</td></tr><tr><td>Validation Accuracy</td><td>▁</td></tr><tr><td>Validation F1 Score</td><td>▁</td></tr><tr><td>Validation Precision</td><td>▁</td></tr><tr><td>Validation Recall</td><td>▁</td></tr></table><br/></div><div class=\"wandb-col\"><h3>Run summary:</h3><br/><table class=\"wandb\"><tr><td>CPU Usage (%)</td><td>0.4</td></tr><tr><td>GPU Memory Usage (%)</td><td>0</td></tr><tr><td>GPU Temp (C)</td><td>33</td></tr><tr><td>GPU Usage (%)</td><td>0</td></tr><tr><td>Inference Time per Sample (s)</td><td>1e-05</td></tr><tr><td>Latency (ms)</td><td>0.00865</td></tr><tr><td>Memory Usage (%)</td><td>2.2</td></tr><tr><td>Power Consumption (W)</td><td>41.93</td></tr><tr><td>Test Accuracy</td><td>0.80438</td></tr><tr><td>Test F1 Score</td><td>0.80728</td></tr><tr><td>Test Precision</td><td>0.79521</td></tr><tr><td>Test Recall</td><td>0.81971</td></tr><tr><td>Training Time (s)</td><td>39.46692</td></tr><tr><td>Tuning Time (s)</td><td>232.00508</td></tr><tr><td>Validation Accuracy</td><td>0.80441</td></tr><tr><td>Validation F1 Score</td><td>0.8074</td></tr><tr><td>Validation Precision</td><td>0.79497</td></tr><tr><td>Validation Recall</td><td>0.82022</td></tr></table><br/></div></div>"
      ],
      "text/plain": [
       "<IPython.core.display.HTML object>"
      ]
     },
     "metadata": {},
     "output_type": "display_data"
    },
    {
     "data": {
      "text/html": [
       " View run <strong style=\"color:#cdcd00\">SVM_Social</strong> at: <a href='https://wandb.ai/smpandit-/sentiment-analysis/runs/pfewggfc' target=\"_blank\">https://wandb.ai/smpandit-/sentiment-analysis/runs/pfewggfc</a><br> View project at: <a href='https://wandb.ai/smpandit-/sentiment-analysis' target=\"_blank\">https://wandb.ai/smpandit-/sentiment-analysis</a><br>Synced 5 W&B file(s), 1 media file(s), 0 artifact file(s) and 0 other file(s)"
      ],
      "text/plain": [
       "<IPython.core.display.HTML object>"
      ]
     },
     "metadata": {},
     "output_type": "display_data"
    },
    {
     "data": {
      "text/html": [
       "Find logs at: <code>./wandb/run-20250404_044714-pfewggfc/logs</code>"
      ],
      "text/plain": [
       "<IPython.core.display.HTML object>"
      ]
     },
     "metadata": {},
     "output_type": "display_data"
    }
   ],
   "source": [
    "# Log results to  result_logger.py & wandb Logs\n",
    "\n",
    "log_results(\n",
    "    model_name=\"SVM\",\n",
    "    dataset_name=\"Social Media\",\n",
    "    accuracy=acc,\n",
    "    precision=prec,\n",
    "    recall=rec,\n",
    "    f1=f1,\n",
    "    tuning_time=tuning_time,\n",
    "    train_time=train_time,\n",
    "    inference_time=infer_time,\n",
    "    latency=infer_time * 1000,\n",
    "    cpu_usage=cpu_usage,\n",
    "    mem_usage=mem_usage,\n",
    "    gpu_usage=gpu.load * 100,\n",
    "    gpu_mem_usage=gpu.memoryUtil * 100,\n",
    "    gpu_temp=gpu.temperature,\n",
    "    power=float(power),\n",
    "    num_features=10000,\n",
    "    hyperparams=f\"C={best_C}\"\n",
    ")\n",
    "\n",
    "wandb.log({\n",
    "    \"Validation Accuracy\": val_acc, \n",
    "    \"Validation Precision\": val_prec,\n",
    "    \"Validation Recall\": val_rec, \n",
    "    \"Validation F1 Score\": val_f1,\n",
    "    \"Test Accuracy\": acc, \n",
    "    \"Test Precision\": prec, \n",
    "    \"Test Recall\": rec, \n",
    "    \"Test F1 Score\": f1,\n",
    "    \"Tuning Time (s)\": tuning_time,\n",
    "    \"Training Time (s)\": train_time,\n",
    "    \"Inference Time per Sample (s)\": infer_time,\n",
    "    \"Latency (ms)\": infer_time * 1000,\n",
    "    \"CPU Usage (%)\": cpu_usage,\n",
    "    \"Memory Usage (%)\": mem_usage,\n",
    "    \"GPU Usage (%)\": gpu.load * 100,\n",
    "    \"GPU Memory Usage (%)\": gpu.memoryUtil * 100,\n",
    "    \"GPU Temp (C)\": gpu.temperature,\n",
    "    \"Power Consumption (W)\": float(power),\n",
    "    \"Confusion Matrix\": wandb.Image(\"svm_confusion_matrix.png\")\n",
    "})\n",
    "\n",
    "wandb.finish()"
   ]
  }
 ],
 "metadata": {
  "kernelspec": {
   "display_name": "sentimentAnalysisENV",
   "language": "python",
   "name": "python3"
  },
  "language_info": {
   "codemirror_mode": {
    "name": "ipython",
    "version": 3
   },
   "file_extension": ".py",
   "mimetype": "text/x-python",
   "name": "python",
   "nbconvert_exporter": "python",
   "pygments_lexer": "ipython3",
   "version": "3.10.16"
  }
 },
 "nbformat": 4,
 "nbformat_minor": 2
}
