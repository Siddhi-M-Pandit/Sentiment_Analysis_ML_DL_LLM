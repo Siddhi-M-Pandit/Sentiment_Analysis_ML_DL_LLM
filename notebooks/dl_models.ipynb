{
 "cells": [
  {
   "cell_type": "code",
   "execution_count": 1,
   "id": "7cb826fe",
   "metadata": {},
   "outputs": [
    {
     "name": "stdout",
     "output_type": "stream",
     "text": [
      "XLA_FLAGS: --xla_gpu_cuda_data_dir=/usr/local/cuda-12.3\n",
      "Looking here: True\n"
     ]
    }
   ],
   "source": [
    "import os\n",
    "\n",
    "# 1) ENV VARS – before any TF import\n",
    "os.environ[\"XLA_FLAGS\"] = \"--xla_gpu_cuda_data_dir=/usr/local/cuda-12.3\"\n",
    "os.environ[\"CUDA_HOME\"] = \"/usr/local/cuda-12.3\"\n",
    "\n",
    "# 2) Sanity check\n",
    "print(\"XLA_FLAGS:\",    os.environ[\"XLA_FLAGS\"])\n",
    "print(\"Looking here:\", os.path.exists(\n",
    "    \"/usr/local/cuda-12.3/nvvm/libdevice/libdevice.10.bc\"\n",
    "))\n"
   ]
  },
  {
   "cell_type": "code",
   "execution_count": 3,
   "id": "b97f445e",
   "metadata": {},
   "outputs": [
    {
     "name": "stdout",
     "output_type": "stream",
     "text": [
      "wandb version: 0.19.10\n"
     ]
    }
   ],
   "source": [
    "import sys\n",
    "import tensorflow as tf\n",
    "\n",
    "sys.path.insert(0, \"/tmp/wandb_pkg\")\n",
    "import wandb\n",
    "print(\"wandb version:\", wandb.__version__)\n",
    "\n",
    "# avoid matplotlib cache errors\n",
    "os.environ[\"MPLCONFIGDIR\"] = \"/tmp/matplotlib\"\n",
    "# suppress TF INFO logs\n",
    "os.environ[\"TF_CPP_MIN_LOG_LEVEL\"] = \"2\""
   ]
  },
  {
   "cell_type": "code",
   "execution_count": 6,
   "id": "9f0fbabb",
   "metadata": {},
   "outputs": [
    {
     "name": "stdout",
     "output_type": "stream",
     "text": [
      "['WandbCallback', 'WandbEvalCallback', 'WandbMetricsLogger', 'WandbModelCheckpoint', '__all__', '__builtins__', '__cached__', '__doc__', '__file__', '__loader__', '__name__', '__package__', '__path__', '__spec__', 'callbacks', 'keras']\n",
      "wandb version: 0.19.10\n",
      "wandb package path: /tmp/wandb_pkg/wandb/__init__.py\n"
     ]
    }
   ],
   "source": [
    "import pandas as pd\n",
    "import numpy as np\n",
    "import seaborn as sns\n",
    "import matplotlib.pyplot as plt\n",
    "\n",
    "import time\n",
    "import datetime\n",
    "import psutil\n",
    "import subprocess\n",
    "import GPUtil\n",
    "\n",
    "# Enable script imports\n",
    "sys.path.append(os.path.abspath(\"..\"))\n",
    "\n",
    "from scripts.data_loader import save_tokenize_data, MAX_VOCAB_SIZE, MAX_SEQ_LEN\n",
    "from scripts.result_logger import log_results \n",
    "\n",
    "import tensorflow as tf\n",
    "from tensorflow.keras.models import Sequential\n",
    "from tensorflow.keras.layers import Embedding, Conv1D, GlobalMaxPooling1D, Dense, LSTM, Bidirectional, Dropout\n",
    "from tensorflow.keras.optimizers import Adam\n",
    "from tensorflow.keras.callbacks import TensorBoard\n",
    "\n",
    "\n",
    "from sklearn.metrics import (\n",
    "    accuracy_score, precision_score, recall_score, f1_score, \n",
    "    classification_report, confusion_matrix\n",
    ")\n",
    "\n",
    "#import wandb\n",
    "#from wandb.integration.keras import WandbCallback \n",
    "import wandb.integration.keras as wbk\n",
    "print(dir(wbk))\n",
    "from wandb.integration.keras import WandbMetricsLogger, WandbModelCheckpoint, WandbEvalCallback\n",
    "print(\"wandb version:\", wandb.__version__)\n",
    "print(\"wandb package path:\", wandb.__file__)\n"
   ]
  },
  {
   "cell_type": "code",
   "execution_count": 7,
   "id": "40b02ec4",
   "metadata": {},
   "outputs": [
    {
     "name": "stdout",
     "output_type": "stream",
     "text": [
      "GPU ready: PhysicalDevice(name='/physical_device:GPU:0', device_type='GPU')\n"
     ]
    }
   ],
   "source": [
    "# Set random seeds for reproducibility\n",
    "np.random.seed(42)\n",
    "tf.random.set_seed(42)\n",
    "\n",
    "# Load pre-processed data splits \n",
    "X_train_seq = np.load(\"../data/splits/X_train_seq.npy\")\n",
    "X_val_seq = np.load(\"../data/splits/X_val_seq.npy\")\n",
    "X_test_seq = np.load(\"../data/splits/X_test_seq.npy\")\n",
    "y_train_bin = np.load(\"../data/splits/y_train_bin.npy\")\n",
    "y_val_bin = np.load(\"../data/splits/y_val_bin.npy\")\n",
    "y_test_bin = np.load(\"../data/splits/y_test_bin.npy\")\n",
    "\n",
    "# GPU setup\n",
    "gpus = tf.config.list_physical_devices('GPU')\n",
    "if not gpus:\n",
    "    raise RuntimeError(\"No GPU found.\")\n",
    "tf.config.experimental.set_memory_growth(gpus[0], True)\n",
    "print(\"GPU ready:\", gpus[0])\n",
    "\n",
    "\n",
    "#  Best hyperparameters from sweep (wuh1gf90)\n",
    "BEST_CONFIG = {\n",
    "    \"model\": \"CNN\",\n",
    "    \"dataset\": \"Sentiment140\",\n",
    "    'batch_size': 256,\n",
    "    'dense_units': 64,\n",
    "    'dropout': 0.2,\n",
    "    'embedding_dim': 256,\n",
    "    'epochs': 5,\n",
    "    'kernel_size': 3,\n",
    "    'learning_rate': 0.0005,\n",
    "    'num_filters': 256,\n",
    "    'optimizer': \"adam\"\n",
    "}"
   ]
  },
  {
   "cell_type": "markdown",
   "id": "d4357003",
   "metadata": {},
   "source": [
    "# CNN"
   ]
  },
  {
   "cell_type": "code",
   "execution_count": 8,
   "id": "0239bfae",
   "metadata": {},
   "outputs": [
    {
     "name": "stderr",
     "output_type": "stream",
     "text": [
      "2025/04/30 15:43:54 ERROR failed to get logger path error=\"error creating log directory: mkdir /home/smpandit/.cache/wandb: disk quota exceeded\"\n",
      "2025/04/30 15:43:54 INFO Will exit if parent process dies. ppid=540292\n",
      "2025/04/30 15:43:54 INFO server is running addr=127.0.0.1:42781\n",
      "2025/04/30 15:43:55 INFO connection: ManageConnectionData: new connection created id=127.0.0.1:53556\n",
      "\u001b[34m\u001b[1mwandb\u001b[0m: Currently logged in as: \u001b[33msmpandit\u001b[0m (\u001b[33msmpandit-\u001b[0m) to \u001b[32mhttps://api.wandb.ai\u001b[0m. Use \u001b[1m`wandb login --relogin`\u001b[0m to force relogin\n",
      "2025/04/30 15:43:55 INFO handleInformInit: received streamId=y27fqo2t id=127.0.0.1:53556\n",
      "2025/04/30 15:43:55 INFO handleInformInit: stream started streamId=y27fqo2t id=127.0.0.1:53556\n"
     ]
    },
    {
     "data": {
      "text/html": [
       "Tracking run with wandb version 0.19.10"
      ],
      "text/plain": [
       "<IPython.core.display.HTML object>"
      ]
     },
     "metadata": {},
     "output_type": "display_data"
    },
    {
     "data": {
      "text/html": [
       "Run data is saved locally in <code>/research2/smpandit/Sentiment_Analysis_ML_DL_LLM/notebooks/wandb/run-20250430_154355-y27fqo2t</code>"
      ],
      "text/plain": [
       "<IPython.core.display.HTML object>"
      ]
     },
     "metadata": {},
     "output_type": "display_data"
    },
    {
     "data": {
      "text/html": [
       "Syncing run <strong><a href='https://wandb.ai/smpandit-/sentiment-analysis/runs/y27fqo2t' target=\"_blank\">CNN_Social</a></strong> to <a href='https://wandb.ai/smpandit-/sentiment-analysis' target=\"_blank\">Weights & Biases</a> (<a href='https://wandb.me/developer-guide' target=\"_blank\">docs</a>)<br>"
      ],
      "text/plain": [
       "<IPython.core.display.HTML object>"
      ]
     },
     "metadata": {},
     "output_type": "display_data"
    },
    {
     "data": {
      "text/html": [
       " View project at <a href='https://wandb.ai/smpandit-/sentiment-analysis' target=\"_blank\">https://wandb.ai/smpandit-/sentiment-analysis</a>"
      ],
      "text/plain": [
       "<IPython.core.display.HTML object>"
      ]
     },
     "metadata": {},
     "output_type": "display_data"
    },
    {
     "data": {
      "text/html": [
       " View run at <a href='https://wandb.ai/smpandit-/sentiment-analysis/runs/y27fqo2t' target=\"_blank\">https://wandb.ai/smpandit-/sentiment-analysis/runs/y27fqo2t</a>"
      ],
      "text/plain": [
       "<IPython.core.display.HTML object>"
      ]
     },
     "metadata": {},
     "output_type": "display_data"
    }
   ],
   "source": [
    "# wandb Init\n",
    "wandb.init(\n",
    "    project=\"sentiment-analysis\", \n",
    "    name=\"CNN_Social\", \n",
    "    config=BEST_CONFIG,\n",
    ")\n",
    "\n",
    "wbcfg = wandb.config"
   ]
  },
  {
   "cell_type": "code",
   "execution_count": 9,
   "id": "766e75dd",
   "metadata": {},
   "outputs": [],
   "source": [
    "# Tensorboard logging\n",
    "\n",
    "log_dir = f\"logs/{wandb.run.name}_{datetime.datetime.now().strftime('%Y%m%d-%H%M%S')}\"\n",
    "tensorboard_callback = TensorBoard(log_dir=log_dir, histogram_freq=1)"
   ]
  },
  {
   "cell_type": "code",
   "execution_count": 11,
   "id": "7cbd4293",
   "metadata": {},
   "outputs": [],
   "source": [
    "callbacks = [\n",
    "    wbk.WandbMetricsLogger(),                    # logs train metrics\n",
    "    #WandbModelCheckpoint(save_model=False),  # logs model checkpoints\n",
    "    #wbk.WandbEvalCallback(),                     # logs val metrics\n",
    "    tensorboard_callback,\n",
    "]"
   ]
  },
  {
   "cell_type": "code",
   "execution_count": 12,
   "id": "1cb09140",
   "metadata": {},
   "outputs": [
    {
     "name": "stderr",
     "output_type": "stream",
     "text": [
      "/home/smpandit/.conda/envs/sentimentAnalysisENV/lib/python3.10/site-packages/keras/src/layers/core/embedding.py:90: UserWarning: Argument `input_length` is deprecated. Just remove it.\n",
      "  warnings.warn(\n",
      "I0000 00:00:1746053250.258143  540292 gpu_device.cc:2019] Created device /job:localhost/replica:0/task:0/device:GPU:0 with 75541 MB memory:  -> device: 0, name: NVIDIA A100 80GB PCIe, pci bus id: 0000:03:00.0, compute capability: 8.0\n"
     ]
    }
   ],
   "source": [
    "# Build CNN model\n",
    "\n",
    "cnn_model = Sequential([\n",
    "    Embedding(\n",
    "        input_dim=MAX_VOCAB_SIZE, \n",
    "        output_dim=wbcfg.embedding_dim, \n",
    "        input_length=MAX_SEQ_LEN\n",
    "    ),\n",
    "    Conv1D(\n",
    "        filters=wbcfg.num_filters,\n",
    "        kernel_size=wbcfg.kernel_size,\n",
    "        activation='relu'\n",
    "    ),              \n",
    "    GlobalMaxPooling1D(),\n",
    "    Dense(wbcfg.dense_units, activation='relu'),                   \n",
    "    Dropout(wbcfg.dropout),\n",
    "    Dense(1, activation='sigmoid')                   \n",
    "])\n",
    "\n",
    "# Compile CNN model\n",
    "opt = Adam(learning_rate=wbcfg.learning_rate)\n",
    "\n",
    "cnn_model.compile(\n",
    "    optimizer=opt, \n",
    "    loss='binary_crossentropy', \n",
    "    metrics=['accuracy']\n",
    ")                   "
   ]
  },
  {
   "cell_type": "code",
   "execution_count": null,
   "id": "9a5fab5e",
   "metadata": {},
   "outputs": [
    {
     "name": "stdout",
     "output_type": "stream",
     "text": [
      "Epoch 1/5\n"
     ]
    },
    {
     "name": "stderr",
     "output_type": "stream",
     "text": [
      "WARNING: All log messages before absl::InitializeLog() is called are written to STDERR\n",
      "I0000 00:00:1746053255.519180  546166 service.cc:152] XLA service 0x7fe918003bf0 initialized for platform CUDA (this does not guarantee that XLA will be used). Devices:\n",
      "I0000 00:00:1746053255.519222  546166 service.cc:160]   StreamExecutor device (0): NVIDIA A100 80GB PCIe, Compute Capability 8.0\n",
      "I0000 00:00:1746053255.793323  546166 cuda_dnn.cc:529] Loaded cuDNN version 90800\n"
     ]
    },
    {
     "name": "stdout",
     "output_type": "stream",
     "text": [
      "\u001b[1m  30/4364\u001b[0m \u001b[37m━━━━━━━━━━━━━━━━━━━━\u001b[0m \u001b[1m23s\u001b[0m 5ms/step - accuracy: 0.5475 - loss: 0.6888 "
     ]
    },
    {
     "name": "stderr",
     "output_type": "stream",
     "text": [
      "I0000 00:00:1746053259.574271  546166 device_compiler.h:188] Compiled cluster using XLA!  This line is logged at most once for the lifetime of the process.\n"
     ]
    },
    {
     "name": "stdout",
     "output_type": "stream",
     "text": [
      "\u001b[1m4364/4364\u001b[0m \u001b[32m━━━━━━━━━━━━━━━━━━━━\u001b[0m\u001b[37m\u001b[0m \u001b[1m34s\u001b[0m 7ms/step - accuracy: 0.7836 - loss: 0.4533 - val_accuracy: 0.8211 - val_loss: 0.3935\n",
      "Epoch 2/5\n",
      "\u001b[1m4364/4364\u001b[0m \u001b[32m━━━━━━━━━━━━━━━━━━━━\u001b[0m\u001b[37m\u001b[0m \u001b[1m26s\u001b[0m 6ms/step - accuracy: 0.8314 - loss: 0.3760 - val_accuracy: 0.8219 - val_loss: 0.3917\n",
      "Epoch 3/5\n",
      "\u001b[1m4364/4364\u001b[0m \u001b[32m━━━━━━━━━━━━━━━━━━━━\u001b[0m\u001b[37m\u001b[0m \u001b[1m26s\u001b[0m 6ms/step - accuracy: 0.8537 - loss: 0.3347 - val_accuracy: 0.8171 - val_loss: 0.4160\n",
      "Epoch 4/5\n",
      "\u001b[1m4364/4364\u001b[0m \u001b[32m━━━━━━━━━━━━━━━━━━━━\u001b[0m\u001b[37m\u001b[0m \u001b[1m26s\u001b[0m 6ms/step - accuracy: 0.8771 - loss: 0.2879 - val_accuracy: 0.8111 - val_loss: 0.4622\n",
      "Epoch 5/5\n",
      "\u001b[1m4364/4364\u001b[0m \u001b[32m━━━━━━━━━━━━━━━━━━━━\u001b[0m\u001b[37m\u001b[0m \u001b[1m26s\u001b[0m 6ms/step - accuracy: 0.8984 - loss: 0.2427 - val_accuracy: 0.8067 - val_loss: 0.5440\n"
     ]
    }
   ],
   "source": [
    "# Train CNN model\n",
    "\n",
    "start_time = time.time()\n",
    "\n",
    "history = cnn_model.fit(\n",
    "    X_train_seq, \n",
    "    y_train_bin,\n",
    "    validation_data=(\n",
    "        X_val_seq, \n",
    "        y_val_bin\n",
    "    ),\n",
    "    epochs=wbcfg.epochs,\n",
    "    batch_size=wbcfg.batch_size,\n",
    "    callbacks=[\n",
    "        #tensorboard_callback, \n",
    "        #WandbCallback()\n",
    "        #callbacks()                                     #TODO\n",
    "    ],\n",
    "    verbose=1\n",
    ")\n",
    "\n",
    "train_time = time.time() - start_time"
   ]
  },
  {
   "cell_type": "code",
   "execution_count": 14,
   "id": "70b0b920",
   "metadata": {},
   "outputs": [
    {
     "name": "stdout",
     "output_type": "stream",
     "text": [
      "\u001b[1m7483/7483\u001b[0m \u001b[32m━━━━━━━━━━━━━━━━━━━━\u001b[0m\u001b[37m\u001b[0m \u001b[1m13s\u001b[0m 2ms/step\n",
      "\n",
      " CNN Model - Validation Set:\n",
      "              precision    recall  f1-score   support\n",
      "\n",
      "           0       0.79      0.83      0.81    119762\n",
      "           1       0.82      0.78      0.80    119680\n",
      "\n",
      "    accuracy                           0.81    239442\n",
      "   macro avg       0.81      0.81      0.81    239442\n",
      "weighted avg       0.81      0.81      0.81    239442\n",
      "\n"
     ]
    }
   ],
   "source": [
    "# Validation Evaluation\n",
    "y_val_preds_cnn = (cnn_model.predict(X_val_seq) > 0.5).astype(\"int32\")\n",
    "\n",
    "print(\"\\n CNN Model - Validation Set:\")\n",
    "print(classification_report(y_val_bin, y_val_preds_cnn))\n",
    "\n",
    "val_acc = accuracy_score(y_val_bin, y_val_preds_cnn)\n",
    "val_prec = precision_score(y_val_bin, y_val_preds_cnn)\n",
    "val_rec = recall_score(y_val_bin, y_val_preds_cnn)\n",
    "val_f1 = f1_score(y_val_bin, y_val_preds_cnn)"
   ]
  },
  {
   "cell_type": "code",
   "execution_count": 15,
   "id": "134d27e8",
   "metadata": {},
   "outputs": [
    {
     "name": "stdout",
     "output_type": "stream",
     "text": [
      "\u001b[1m7482/7482\u001b[0m \u001b[32m━━━━━━━━━━━━━━━━━━━━\u001b[0m\u001b[37m\u001b[0m \u001b[1m12s\u001b[0m 2ms/step\n",
      "\n",
      " CNN Model - Test Set:\n",
      "              precision    recall  f1-score   support\n",
      "\n",
      "           0       0.79      0.83      0.81    119742\n",
      "           1       0.82      0.78      0.80    119660\n",
      "\n",
      "    accuracy                           0.81    239402\n",
      "   macro avg       0.81      0.81      0.81    239402\n",
      "weighted avg       0.81      0.81      0.81    239402\n",
      "\n"
     ]
    }
   ],
   "source": [
    "# Test Evaluation\n",
    "y_test_preds_cnn = (cnn_model.predict(X_test_seq) > 0.5).astype(\"int32\").flatten()\n",
    "\n",
    "print(\"\\n CNN Model - Test Set:\")\n",
    "print(classification_report(y_test_bin, y_test_preds_cnn))\n",
    "\n",
    "acc = accuracy_score(y_test_bin, y_test_preds_cnn)\n",
    "prec = precision_score(y_test_bin, y_test_preds_cnn)\n",
    "rec = recall_score(y_test_bin, y_test_preds_cnn)\n",
    "f1 = f1_score(y_test_bin, y_test_preds_cnn)\n"
   ]
  },
  {
   "cell_type": "code",
   "execution_count": 16,
   "id": "224898e2",
   "metadata": {},
   "outputs": [
    {
     "name": "stdout",
     "output_type": "stream",
     "text": [
      "\u001b[1m7482/7482\u001b[0m \u001b[32m━━━━━━━━━━━━━━━━━━━━\u001b[0m\u001b[37m\u001b[0m \u001b[1m12s\u001b[0m 2ms/step\n"
     ]
    }
   ],
   "source": [
    "# Inference time \n",
    "start_infer = time.time()\n",
    "test_preds = (cnn_model.predict(X_test_seq) > 0.5).astype(\"int32\")\n",
    "infer_time = (time.time() - start_infer) / len(X_test_seq)  # avg per sample"
   ]
  },
  {
   "cell_type": "code",
   "execution_count": 17,
   "id": "2722ec94",
   "metadata": {},
   "outputs": [
    {
     "data": {
      "image/png": "[encoded data removed]",
      "text/plain": [
       "<Figure size 400x300 with 2 Axes>"
      ]
     },
     "metadata": {},
     "output_type": "display_data"
    }
   ],
   "source": [
    "# Confusion Matrix\n",
    "\n",
    "cm = confusion_matrix(y_test_bin, y_test_preds_cnn, labels=[0, 1])\n",
    "plt.figure(figsize=(4, 3))\n",
    "sns.heatmap(cm, annot=True, fmt='d', cmap='Blues', xticklabels=['Negative', 'Positive'], yticklabels=['Negative', 'Positive'])\n",
    "plt.title(\"Confusion Matrix - CNN Model\")\n",
    "plt.xlabel(\"Predicted\")\n",
    "plt.ylabel(\"True\")\n",
    "plt.tight_layout()\n",
    "plt.savefig(\"cnn_confusion_matrix.png\")"
   ]
  },
  {
   "cell_type": "code",
   "execution_count": 18,
   "id": "79a249d8",
   "metadata": {},
   "outputs": [],
   "source": [
    "# Systems Stats\n",
    "\n",
    "cpu_usage = psutil.cpu_percent(interval=1)\n",
    "mem_usage = psutil.virtual_memory().percent\n",
    "gpu = GPUtil.getGPUs()[0]\n",
    "power = subprocess.check_output([\n",
    "    \"nvidia-smi\", \"--query-gpu=power.draw\", \"--format=csv,noheader,nounits\"\n",
    "]).decode(\"utf-8\").strip()"
   ]
  },
  {
   "cell_type": "code",
   "execution_count": 21,
   "id": "c0a576c0",
   "metadata": {},
   "outputs": [
    {
     "name": "stdout",
     "output_type": "stream",
     "text": [
      "Logged: CNN on Social Media to ../results/results.csv\n"
     ]
    },
    {
     "name": "stderr",
     "output_type": "stream",
     "text": [
      "/research2/smpandit/Sentiment_Analysis_ML_DL_LLM/scripts/result_logger.py:41: FutureWarning: The behavior of DataFrame concatenation with empty or all-NA entries is deprecated. In a future version, this will no longer exclude empty or all-NA columns when determining the result dtypes. To retain the old behavior, exclude the relevant entries before the concat operation.\n",
      "  df = pd.concat([df, row_df], ignore_index=True)\n"
     ]
    },
    {
     "data": {
      "text/html": [],
      "text/plain": [
       "<IPython.core.display.HTML object>"
      ]
     },
     "metadata": {},
     "output_type": "display_data"
    },
    {
     "data": {
      "text/html": [
       "<br>    <style><br>        .wandb-row {<br>            display: flex;<br>            flex-direction: row;<br>            flex-wrap: wrap;<br>            justify-content: flex-start;<br>            width: 100%;<br>        }<br>        .wandb-col {<br>            display: flex;<br>            flex-direction: column;<br>            flex-basis: 100%;<br>            flex: 1;<br>            padding: 10px;<br>        }<br>    </style><br><div class=\"wandb-row\"><div class=\"wandb-col\"><h3>Run history:</h3><br/><table class=\"wandb\"><tr><td>CPU Usage (%)</td><td>▁</td></tr><tr><td>GPU Load (%)</td><td>▁</td></tr><tr><td>GPU Memory (%)</td><td>▁</td></tr><tr><td>GPU Temp</td><td>▁</td></tr><tr><td>Inference Time (s)</td><td>▁</td></tr><tr><td>Latency (ms)</td><td>▁</td></tr><tr><td>Memory Usage (%)</td><td>▁</td></tr><tr><td>Power Consumption (W)</td><td>▁</td></tr><tr><td>Test Accuracy</td><td>▁</td></tr><tr><td>Test F1</td><td>▁</td></tr><tr><td>Test Precision</td><td>▁</td></tr><tr><td>Test Recall</td><td>▁</td></tr><tr><td>Training Time (s)</td><td>▁</td></tr><tr><td>Validation Accuracy</td><td>▁</td></tr><tr><td>Validation F1 Score</td><td>▁</td></tr><tr><td>Validation Precision</td><td>▁</td></tr><tr><td>Validation Recall</td><td>▁</td></tr></table><br/></div><div class=\"wandb-col\"><h3>Run summary:</h3><br/><table class=\"wandb\"><tr><td>CPU Usage (%)</td><td>62.5</td></tr><tr><td>GPU Load (%)</td><td>0</td></tr><tr><td>GPU Memory (%)</td><td>47.24487</td></tr><tr><td>GPU Temp</td><td>43</td></tr><tr><td>Inference Time (s)</td><td>6e-05</td></tr><tr><td>Latency (ms)</td><td>0.06292</td></tr><tr><td>Memory Usage (%)</td><td>6.4</td></tr><tr><td>Power Consumption (W)</td><td>74.38</td></tr><tr><td>Test Accuracy</td><td>0.80583</td></tr><tr><td>Test F1</td><td>0.80087</td></tr><tr><td>Test Precision</td><td>0.82159</td></tr><tr><td>Test Recall</td><td>0.78116</td></tr><tr><td>Training Time (s)</td><td>139.07135</td></tr><tr><td>Validation Accuracy</td><td>0.80667</td></tr><tr><td>Validation F1 Score</td><td>0.80201</td></tr><tr><td>Validation Precision</td><td>0.82152</td></tr><tr><td>Validation Recall</td><td>0.78341</td></tr></table><br/></div></div>"
      ],
      "text/plain": [
       "<IPython.core.display.HTML object>"
      ]
     },
     "metadata": {},
     "output_type": "display_data"
    },
    {
     "data": {
      "text/html": [
       " View run <strong style=\"color:#cdcd00\">CNN_Social</strong> at: <a href='https://wandb.ai/smpandit-/sentiment-analysis/runs/y27fqo2t' target=\"_blank\">https://wandb.ai/smpandit-/sentiment-analysis/runs/y27fqo2t</a><br> View project at: <a href='https://wandb.ai/smpandit-/sentiment-analysis' target=\"_blank\">https://wandb.ai/smpandit-/sentiment-analysis</a><br>Synced 5 W&B file(s), 1 media file(s), 0 artifact file(s) and 0 other file(s)"
      ],
      "text/plain": [
       "<IPython.core.display.HTML object>"
      ]
     },
     "metadata": {},
     "output_type": "display_data"
    },
    {
     "data": {
      "text/html": [
       "Find logs at: <code>./wandb/run-20250430_154355-y27fqo2t/logs</code>"
      ],
      "text/plain": [
       "<IPython.core.display.HTML object>"
      ]
     },
     "metadata": {},
     "output_type": "display_data"
    },
    {
     "name": "stderr",
     "output_type": "stream",
     "text": [
      "2025/04/30 15:57:48 INFO handleInformFinish: finish message received streamId=y27fqo2t id=127.0.0.1:53556\n",
      "2025/04/30 15:57:48 INFO handleInformFinish: stream closed streamId=y27fqo2t id=127.0.0.1:53556\n"
     ]
    }
   ],
   "source": [
    "# Log results to  result_logger.py & wandb Logs\n",
    "\n",
    "log_results(\n",
    "    model_name=\"CNN\",\n",
    "    dataset_name=\"Social Media\",\n",
    "    accuracy=acc,\n",
    "    precision=prec,\n",
    "    recall=rec,\n",
    "    f1=f1,\n",
    "    tuning_time=None,\n",
    "    train_time=train_time,\n",
    "    inference_time=infer_time,\n",
    "    latency=infer_time * 1000,\n",
    "    cpu_usage=cpu_usage,\n",
    "    mem_usage=mem_usage,\n",
    "    gpu_usage=gpu.load * 100,\n",
    "    gpu_mem_usage=gpu.memoryUtil * 100,\n",
    "    gpu_temp=gpu.temperature,\n",
    "    power=float(power),\n",
    "    num_features=MAX_VOCAB_SIZE,\n",
    "    hyperparams=f\"embed_dim={wbcfg.embedding_dim}, epochs={wbcfg.epochs}, batch={wbcfg.batch_size}\"\n",
    ")\n",
    "\n",
    "wandb.log({\n",
    "    \"Validation Accuracy\": val_acc, \n",
    "    \"Validation Precision\": val_prec,\n",
    "    \"Validation Recall\": val_rec, \n",
    "    \"Validation F1 Score\": val_f1,\n",
    "\n",
    "    \"Test Accuracy\": acc,\n",
    "    \"Test Precision\": prec,\n",
    "    \"Test Recall\": rec,\n",
    "    \"Test F1\": f1,\n",
    "\n",
    "    \"Training Time (s)\": train_time,\n",
    "    \"Inference Time (s)\": infer_time,\n",
    "    \"Latency (ms)\": infer_time * 1000,\n",
    "\n",
    "    \"CPU Usage (%)\": cpu_usage,\n",
    "    \"Memory Usage (%)\": mem_usage,\n",
    "    \"GPU Load (%)\": gpu.load * 100,\n",
    "    \"GPU Memory (%)\": gpu.memoryUtil * 100,\n",
    "    \"GPU Temp\": gpu.temperature,\n",
    "    \"Power Consumption (W)\": float(power),\n",
    "\n",
    "    \"Confusion Matrix\": wandb.Image(\"cnn_confusion_matrix.png\")\n",
    "})\n",
    "wandb.finish()\n"
   ]
  },
  {
   "cell_type": "markdown",
   "id": "f618a689",
   "metadata": {},
   "source": [
    "# BiLSTM"
   ]
  },
  {
   "cell_type": "code",
   "execution_count": null,
   "id": "e635fc33",
   "metadata": {},
   "outputs": [],
   "source": [
    "#BiLSTM\n",
    "\n",
    "model = Sequential([\n",
    "    Embedding(max_vocab, 128, input_length=max_len),\n",
    "    Bidirectional(LSTM(64, return_sequences=False)),\n",
    "    Dropout(0.5),\n",
    "    Dense(1, activation='sigmoid')\n",
    "])\n"
   ]
  },
  {
   "cell_type": "code",
   "execution_count": null,
   "id": "da1af1b2",
   "metadata": {},
   "outputs": [],
   "source": []
  }
 ],
 "metadata": {
  "kernelspec": {
   "display_name": "sentimentAnalysisENV",
   "language": "python",
   "name": "python3"
  },
  "language_info": {
   "codemirror_mode": {
    "name": "ipython",
    "version": 3
   },
   "file_extension": ".py",
   "mimetype": "text/x-python",
   "name": "python",
   "nbconvert_exporter": "python",
   "pygments_lexer": "ipython3",
   "version": "3.10.16"
  }
 },
 "nbformat": 4,
 "nbformat_minor": 5
}
