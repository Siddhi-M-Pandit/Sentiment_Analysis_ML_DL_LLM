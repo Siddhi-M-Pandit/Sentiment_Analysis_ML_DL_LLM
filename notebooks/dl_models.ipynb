{
 "cells": [
  {
   "cell_type": "code",
   "execution_count": 1,
   "id": "7cb826fe",
   "metadata": {},
   "outputs": [
    {
     "name": "stdout",
     "output_type": "stream",
     "text": [
      "XLA_FLAGS: --xla_gpu_cuda_data_dir=/usr/local/cuda-12.3\n",
      "Looking here: True\n"
     ]
    }
   ],
   "source": [
    "import os\n",
    "\n",
    "# 1) ENV VARS – before any TF import\n",
    "os.environ[\"XLA_FLAGS\"] = \"--xla_gpu_cuda_data_dir=/usr/local/cuda-12.3\"\n",
    "os.environ[\"CUDA_HOME\"] = \"/usr/local/cuda-12.3\"\n",
    "\n",
    "# 2) Sanity check\n",
    "print(\"XLA_FLAGS:\",    os.environ[\"XLA_FLAGS\"])\n",
    "print(\"Looking here:\", os.path.exists(\n",
    "    \"/usr/local/cuda-12.3/nvvm/libdevice/libdevice.10.bc\"\n",
    "))\n"
   ]
  },
  {
   "cell_type": "code",
   "execution_count": 2,
   "id": "b97f445e",
   "metadata": {},
   "outputs": [
    {
     "name": "stderr",
     "output_type": "stream",
     "text": [
      "2025-05-05 15:50:04.305427: I tensorflow/core/util/port.cc:153] oneDNN custom operations are on. You may see slightly different numerical results due to floating-point round-off errors from different computation orders. To turn them off, set the environment variable `TF_ENABLE_ONEDNN_OPTS=0`.\n",
      "2025-05-05 15:50:04.324399: E external/local_xla/xla/stream_executor/cuda/cuda_fft.cc:467] Unable to register cuFFT factory: Attempting to register factory for plugin cuFFT when one has already been registered\n",
      "WARNING: All log messages before absl::InitializeLog() is called are written to STDERR\n",
      "E0000 00:00:1746485404.347106  106457 cuda_dnn.cc:8579] Unable to register cuDNN factory: Attempting to register factory for plugin cuDNN when one has already been registered\n",
      "E0000 00:00:1746485404.353630  106457 cuda_blas.cc:1407] Unable to register cuBLAS factory: Attempting to register factory for plugin cuBLAS when one has already been registered\n",
      "W0000 00:00:1746485404.370876  106457 computation_placer.cc:177] computation placer already registered. Please check linkage and avoid linking the same target more than once.\n",
      "W0000 00:00:1746485404.370915  106457 computation_placer.cc:177] computation placer already registered. Please check linkage and avoid linking the same target more than once.\n",
      "W0000 00:00:1746485404.370918  106457 computation_placer.cc:177] computation placer already registered. Please check linkage and avoid linking the same target more than once.\n",
      "W0000 00:00:1746485404.370920  106457 computation_placer.cc:177] computation placer already registered. Please check linkage and avoid linking the same target more than once.\n",
      "2025-05-05 15:50:04.376995: I tensorflow/core/platform/cpu_feature_guard.cc:210] This TensorFlow binary is optimized to use available CPU instructions in performance-critical operations.\n",
      "To enable the following instructions: AVX2 AVX512F AVX512_VNNI FMA, in other operations, rebuild TensorFlow with the appropriate compiler flags.\n",
      "mkdir -p failed for path /home/smpandit/.cache/matplotlib: [Errno 122] Disk quota exceeded: '/home/smpandit/.cache/matplotlib'\n",
      "Matplotlib created a temporary cache directory at /tmp/matplotlib-8fhcdx3g because there was an issue with the default path (/home/smpandit/.cache/matplotlib); it is highly recommended to set the MPLCONFIGDIR environment variable to a writable directory, in particular to speed up the import of Matplotlib and to better support multiprocessing.\n"
     ]
    },
    {
     "name": "stdout",
     "output_type": "stream",
     "text": [
      "wandb version: 0.19.10\n"
     ]
    }
   ],
   "source": [
    "import sys\n",
    "import tensorflow as tf\n",
    "\n",
    "sys.path.insert(0, \"/tmp/wandb_pkg\")\n",
    "import wandb\n",
    "print(\"wandb version:\", wandb.__version__)\n",
    "\n",
    "# avoid matplotlib cache errors\n",
    "os.environ[\"MPLCONFIGDIR\"] = \"/tmp/matplotlib\"\n",
    "# suppress TF INFO logs\n",
    "os.environ[\"TF_CPP_MIN_LOG_LEVEL\"] = \"2\""
   ]
  },
  {
   "cell_type": "code",
   "execution_count": 3,
   "id": "9f0fbabb",
   "metadata": {},
   "outputs": [
    {
     "name": "stdout",
     "output_type": "stream",
     "text": [
      "['WandbCallback', 'WandbEvalCallback', 'WandbMetricsLogger', 'WandbModelCheckpoint', '__all__', '__builtins__', '__cached__', '__doc__', '__file__', '__loader__', '__name__', '__package__', '__path__', '__spec__', 'callbacks', 'keras']\n",
      "wandb version: 0.19.10\n",
      "wandb package path: /tmp/wandb_pkg/wandb/__init__.py\n"
     ]
    }
   ],
   "source": [
    "import pandas as pd\n",
    "import numpy as np\n",
    "import seaborn as sns\n",
    "import matplotlib.pyplot as plt\n",
    "\n",
    "import time\n",
    "import datetime\n",
    "import psutil\n",
    "import subprocess\n",
    "import GPUtil\n",
    "\n",
    "# Enable script imports\n",
    "sys.path.append(os.path.abspath(\"..\"))\n",
    "\n",
    "from scripts.data_loader import save_tokenize_data, MAX_VOCAB_SIZE, MAX_SEQ_LEN\n",
    "from scripts.result_logger import log_results \n",
    "\n",
    "import tensorflow as tf\n",
    "from tensorflow.keras.models import Sequential\n",
    "from tensorflow.keras.layers import Embedding, Conv1D, GlobalMaxPooling1D, Dense, LSTM, Bidirectional, Dropout\n",
    "from tensorflow.keras.optimizers import Adam, RMSprop\n",
    "#from tensorflow.keras.callbacks import TensorBoard\n",
    "\n",
    "\n",
    "from sklearn.metrics import (\n",
    "    accuracy_score, precision_score, recall_score, f1_score, \n",
    "    classification_report, confusion_matrix\n",
    ")\n",
    "\n",
    "#import wandb\n",
    "#from wandb.integration.keras import WandbCallback \n",
    "import wandb.integration.keras as wbk\n",
    "print(dir(wbk))\n",
    "from wandb.integration.keras import WandbMetricsLogger, WandbModelCheckpoint, WandbEvalCallback\n",
    "print(\"wandb version:\", wandb.__version__)\n",
    "print(\"wandb package path:\", wandb.__file__)\n"
   ]
  },
  {
   "cell_type": "markdown",
   "id": "d4357003",
   "metadata": {},
   "source": [
    "# CNN"
   ]
  },
  {
   "cell_type": "code",
   "execution_count": 4,
   "id": "40b02ec4",
   "metadata": {},
   "outputs": [
    {
     "name": "stdout",
     "output_type": "stream",
     "text": [
      "GPU ready: PhysicalDevice(name='/physical_device:GPU:0', device_type='GPU')\n"
     ]
    }
   ],
   "source": [
    "# Set random seeds for reproducibility\n",
    "np.random.seed(42)\n",
    "tf.random.set_seed(42)\n",
    "\n",
    "# Load pre-processed data splits \n",
    "X_train_seq = np.load(\"../data/splits/X_train_seq.npy\")\n",
    "X_val_seq = np.load(\"../data/splits/X_val_seq.npy\")\n",
    "X_test_seq = np.load(\"../data/splits/X_test_seq.npy\")\n",
    "y_train_bin = np.load(\"../data/splits/y_train_bin.npy\")\n",
    "y_val_bin = np.load(\"../data/splits/y_val_bin.npy\")\n",
    "y_test_bin = np.load(\"../data/splits/y_test_bin.npy\")\n",
    "\n",
    "# GPU setup\n",
    "gpus = tf.config.list_physical_devices('GPU')\n",
    "if not gpus:\n",
    "    raise RuntimeError(\"No GPU found.\")\n",
    "tf.config.experimental.set_memory_growth(gpus[0], True)\n",
    "print(\"GPU ready:\", gpus[0])\n",
    "\n",
    "\n",
    "#  Best hyperparameters from sweep (op2fzrj4)\n",
    "BEST_CONFIG = {\n",
    "    \"model\": \"CNN\",\n",
    "    \"dataset\": \"Sentiment140\",\n",
    "    'batch_size': 128,\n",
    "    'dense_units': 64,\n",
    "    'dropout': 0.5,\n",
    "    'embedding_dim': 128,\n",
    "    'epochs': 5,\n",
    "    'kernel_size': 5,\n",
    "    'learning_rate': 0.0005,\n",
    "    'num_filters': 128,\n",
    "    'optimizer': \"rmsprop\",\n",
    "    'metric_goal':\"maximize\",\n",
    "    'metric_name':\"val_accuracy\",\n",
    "    'model_type':\"CNN\",\n",
    "}"
   ]
  },
  {
   "cell_type": "code",
   "execution_count": 5,
   "id": "0239bfae",
   "metadata": {},
   "outputs": [
    {
     "name": "stderr",
     "output_type": "stream",
     "text": [
      "2025/05/05 15:50:37 ERROR failed to get logger path error=\"error creating log directory: mkdir /home/smpandit/.cache/wandb: disk quota exceeded\"\n",
      "2025/05/05 15:50:37 INFO Will exit if parent process dies. ppid=106457\n",
      "2025/05/05 15:50:37 INFO server is running addr=127.0.0.1:35559\n",
      "2025/05/05 15:50:37 INFO connection: ManageConnectionData: new connection created id=127.0.0.1:33732\n",
      "\u001b[34m\u001b[1mwandb\u001b[0m: Currently logged in as: \u001b[33msmpandit\u001b[0m (\u001b[33msmpandit-\u001b[0m) to \u001b[32mhttps://api.wandb.ai\u001b[0m. Use \u001b[1m`wandb login --relogin`\u001b[0m to force relogin\n",
      "2025/05/05 15:50:38 INFO handleInformInit: received streamId=zwrgk3sr id=127.0.0.1:33732\n",
      "2025/05/05 15:50:38 INFO handleInformInit: stream started streamId=zwrgk3sr id=127.0.0.1:33732\n"
     ]
    },
    {
     "data": {
      "text/html": [
       "Tracking run with wandb version 0.19.10"
      ],
      "text/plain": [
       "<IPython.core.display.HTML object>"
      ]
     },
     "metadata": {},
     "output_type": "display_data"
    },
    {
     "data": {
      "text/html": [
       "Run data is saved locally in <code>/research2/smpandit/Sentiment_Analysis_ML_DL_LLM/notebooks/wandb/run-20250505_155038-zwrgk3sr</code>"
      ],
      "text/plain": [
       "<IPython.core.display.HTML object>"
      ]
     },
     "metadata": {},
     "output_type": "display_data"
    },
    {
     "data": {
      "text/html": [
       "Syncing run <strong><a href='https://wandb.ai/smpandit-/sentiment-analysis/runs/zwrgk3sr' target=\"_blank\">CNN_Social</a></strong> to <a href='https://wandb.ai/smpandit-/sentiment-analysis' target=\"_blank\">Weights & Biases</a> (<a href='https://wandb.me/developer-guide' target=\"_blank\">docs</a>)<br>"
      ],
      "text/plain": [
       "<IPython.core.display.HTML object>"
      ]
     },
     "metadata": {},
     "output_type": "display_data"
    },
    {
     "data": {
      "text/html": [
       " View project at <a href='https://wandb.ai/smpandit-/sentiment-analysis' target=\"_blank\">https://wandb.ai/smpandit-/sentiment-analysis</a>"
      ],
      "text/plain": [
       "<IPython.core.display.HTML object>"
      ]
     },
     "metadata": {},
     "output_type": "display_data"
    },
    {
     "data": {
      "text/html": [
       " View run at <a href='https://wandb.ai/smpandit-/sentiment-analysis/runs/zwrgk3sr' target=\"_blank\">https://wandb.ai/smpandit-/sentiment-analysis/runs/zwrgk3sr</a>"
      ],
      "text/plain": [
       "<IPython.core.display.HTML object>"
      ]
     },
     "metadata": {},
     "output_type": "display_data"
    }
   ],
   "source": [
    "# wandb Init\n",
    "wandb.init(\n",
    "    project=\"sentiment-analysis\", \n",
    "    name=\"CNN_Social\", \n",
    "    config=BEST_CONFIG\n",
    ")\n",
    "\n",
    "wbcfg = wandb.config"
   ]
  },
  {
   "cell_type": "code",
   "execution_count": 6,
   "id": "1cb09140",
   "metadata": {},
   "outputs": [
    {
     "name": "stderr",
     "output_type": "stream",
     "text": [
      "/home/smpandit/.conda/envs/sentimentAnalysisENV/lib/python3.10/site-packages/keras/src/layers/core/embedding.py:90: UserWarning: Argument `input_length` is deprecated. Just remove it.\n",
      "  warnings.warn(\n",
      "I0000 00:00:1746485442.096388  106457 gpu_device.cc:2019] Created device /job:localhost/replica:0/task:0/device:GPU:0 with 29365 MB memory:  -> device: 0, name: NVIDIA A100 80GB PCIe, pci bus id: 0000:03:00.0, compute capability: 8.0\n"
     ]
    }
   ],
   "source": [
    "# Build CNN model\n",
    "\n",
    "start_time = time.time()\n",
    "\n",
    "cnn_model = Sequential([\n",
    "    Embedding(\n",
    "        input_dim=MAX_VOCAB_SIZE, \n",
    "        output_dim=wbcfg.embedding_dim, \n",
    "        input_length=MAX_SEQ_LEN\n",
    "    ),\n",
    "    Conv1D(\n",
    "        filters=wbcfg.num_filters,\n",
    "        kernel_size=wbcfg.kernel_size,\n",
    "        activation='relu'\n",
    "    ),              \n",
    "    GlobalMaxPooling1D(),\n",
    "    Dense(wbcfg.dense_units, activation='relu'),                   \n",
    "    Dropout(wbcfg.dropout),\n",
    "    Dense(1, activation='sigmoid')                   \n",
    "])\n",
    "\n",
    "# Compile CNN model\n",
    "opt = Adam(learning_rate=wbcfg.learning_rate) if wbcfg.optimizer == \"adam\" else RMSprop(learning_rate=wbcfg.learning_rate)\n",
    "\n",
    "\n",
    "cnn_model.compile(\n",
    "    optimizer=opt, \n",
    "    loss='binary_crossentropy', \n",
    "    metrics=['accuracy']\n",
    ")            \n",
    "\n",
    "build_compile_time_cnn = time.time() - start_time"
   ]
  },
  {
   "cell_type": "code",
   "execution_count": 7,
   "id": "9a5fab5e",
   "metadata": {},
   "outputs": [
    {
     "name": "stdout",
     "output_type": "stream",
     "text": [
      "Epoch 1/5\n"
     ]
    },
    {
     "name": "stderr",
     "output_type": "stream",
     "text": [
      "WARNING: All log messages before absl::InitializeLog() is called are written to STDERR\n",
      "I0000 00:00:1746485449.902341  126101 service.cc:152] XLA service 0x7febc401ade0 initialized for platform CUDA (this does not guarantee that XLA will be used). Devices:\n",
      "I0000 00:00:1746485449.902387  126101 service.cc:160]   StreamExecutor device (0): NVIDIA A100 80GB PCIe, Compute Capability 8.0\n",
      "2025-05-05 15:50:49.947114: I tensorflow/compiler/mlir/tensorflow/utils/dump_mlir_util.cc:269] disabling MLIR crash reproducer, set env var `MLIR_CRASH_REPRODUCER_DIRECTORY` to enable.\n",
      "I0000 00:00:1746485450.306764  126101 cuda_dnn.cc:529] Loaded cuDNN version 90800\n",
      "I0000 00:00:1746485457.980290  126101 device_compiler.h:188] Compiled cluster using XLA!  This line is logged at most once for the lifetime of the process.\n"
     ]
    },
    {
     "name": "stdout",
     "output_type": "stream",
     "text": [
      "\u001b[1m8728/8728\u001b[0m \u001b[32m━━━━━━━━━━━━━━━━━━━━\u001b[0m\u001b[37m\u001b[0m \u001b[1m3533s\u001b[0m 404ms/step - accuracy: 0.7669 - loss: 0.4800 - val_accuracy: 0.8151 - val_loss: 0.4060\n",
      "Epoch 2/5\n",
      "\u001b[1m8728/8728\u001b[0m \u001b[32m━━━━━━━━━━━━━━━━━━━━\u001b[0m\u001b[37m\u001b[0m \u001b[1m3515s\u001b[0m 403ms/step - accuracy: 0.8190 - loss: 0.4051 - val_accuracy: 0.8205 - val_loss: 0.3971\n",
      "Epoch 3/5\n",
      "\u001b[1m8728/8728\u001b[0m \u001b[32m━━━━━━━━━━━━━━━━━━━━\u001b[0m\u001b[37m\u001b[0m \u001b[1m3425s\u001b[0m 392ms/step - accuracy: 0.8285 - loss: 0.3877 - val_accuracy: 0.8230 - val_loss: 0.3950\n",
      "Epoch 4/5\n",
      "\u001b[1m8728/8728\u001b[0m \u001b[32m━━━━━━━━━━━━━━━━━━━━\u001b[0m\u001b[37m\u001b[0m \u001b[1m3352s\u001b[0m 384ms/step - accuracy: 0.8358 - loss: 0.3744 - val_accuracy: 0.8215 - val_loss: 0.4018\n",
      "Epoch 5/5\n",
      "\u001b[1m8728/8728\u001b[0m \u001b[32m━━━━━━━━━━━━━━━━━━━━\u001b[0m\u001b[37m\u001b[0m \u001b[1m3398s\u001b[0m 389ms/step - accuracy: 0.8420 - loss: 0.3627 - val_accuracy: 0.8198 - val_loss: 0.4080\n"
     ]
    }
   ],
   "source": [
    "# Train CNN model\n",
    "\n",
    "start_time = time.time()\n",
    "\n",
    "history = cnn_model.fit(\n",
    "    X_train_seq, \n",
    "    y_train_bin,\n",
    "    validation_data=(\n",
    "        X_val_seq, \n",
    "        y_val_bin\n",
    "    ),\n",
    "    epochs=wbcfg.epochs,\n",
    "    batch_size=wbcfg.batch_size,\n",
    "    callbacks=wbk.WandbMetricsLogger(),\n",
    "    verbose=1\n",
    ")\n",
    "\n",
    "train_time = time.time() - start_time"
   ]
  },
  {
   "cell_type": "code",
   "execution_count": 8,
   "id": "70b0b920",
   "metadata": {},
   "outputs": [
    {
     "name": "stdout",
     "output_type": "stream",
     "text": [
      "\u001b[1m7483/7483\u001b[0m \u001b[32m━━━━━━━━━━━━━━━━━━━━\u001b[0m\u001b[37m\u001b[0m \u001b[1m35s\u001b[0m 5ms/step\n",
      "\n",
      " CNN Model - Validation Set:\n",
      "              precision    recall  f1-score   support\n",
      "\n",
      "           0       0.85      0.78      0.81    119762\n",
      "           1       0.80      0.86      0.83    119680\n",
      "\n",
      "    accuracy                           0.82    239442\n",
      "   macro avg       0.82      0.82      0.82    239442\n",
      "weighted avg       0.82      0.82      0.82    239442\n",
      "\n"
     ]
    }
   ],
   "source": [
    "# Validation Evaluation\n",
    "y_val_preds_cnn = (cnn_model.predict(X_val_seq) > 0.5).astype(\"int32\")\n",
    "\n",
    "print(\"\\n CNN Model - Validation Set:\")\n",
    "print(classification_report(y_val_bin, y_val_preds_cnn))\n",
    "\n",
    "val_acc = accuracy_score(y_val_bin, y_val_preds_cnn)\n",
    "val_prec = precision_score(y_val_bin, y_val_preds_cnn)\n",
    "val_rec = recall_score(y_val_bin, y_val_preds_cnn)\n",
    "val_f1 = f1_score(y_val_bin, y_val_preds_cnn)"
   ]
  },
  {
   "cell_type": "code",
   "execution_count": 9,
   "id": "134d27e8",
   "metadata": {},
   "outputs": [
    {
     "name": "stdout",
     "output_type": "stream",
     "text": [
      "\u001b[1m7482/7482\u001b[0m \u001b[32m━━━━━━━━━━━━━━━━━━━━\u001b[0m\u001b[37m\u001b[0m \u001b[1m35s\u001b[0m 5ms/step\n",
      "\n",
      " CNN Model - Test Set:\n",
      "              precision    recall  f1-score   support\n",
      "\n",
      "           0       0.85      0.78      0.81    119742\n",
      "           1       0.80      0.86      0.83    119660\n",
      "\n",
      "    accuracy                           0.82    239402\n",
      "   macro avg       0.82      0.82      0.82    239402\n",
      "weighted avg       0.82      0.82      0.82    239402\n",
      "\n"
     ]
    }
   ],
   "source": [
    "# Test Evaluation\n",
    "y_test_preds_cnn = (cnn_model.predict(X_test_seq) > 0.5).astype(\"int32\").flatten()\n",
    "\n",
    "print(\"\\n CNN Model - Test Set:\")\n",
    "print(classification_report(y_test_bin, y_test_preds_cnn))\n",
    "\n",
    "acc = accuracy_score(y_test_bin, y_test_preds_cnn)\n",
    "prec = precision_score(y_test_bin, y_test_preds_cnn)\n",
    "rec = recall_score(y_test_bin, y_test_preds_cnn)\n",
    "f1 = f1_score(y_test_bin, y_test_preds_cnn)\n"
   ]
  },
  {
   "cell_type": "code",
   "execution_count": 10,
   "id": "224898e2",
   "metadata": {},
   "outputs": [
    {
     "name": "stdout",
     "output_type": "stream",
     "text": [
      "\u001b[1m7482/7482\u001b[0m \u001b[32m━━━━━━━━━━━━━━━━━━━━\u001b[0m\u001b[37m\u001b[0m \u001b[1m34s\u001b[0m 5ms/step\n"
     ]
    }
   ],
   "source": [
    "# Inference time \n",
    "start_infer = time.time()\n",
    "test_preds = (cnn_model.predict(X_test_seq) > 0.5).astype(\"int32\")\n",
    "infer_time = (time.time() - start_infer) / len(X_test_seq)  # avg per sample"
   ]
  },
  {
   "cell_type": "code",
   "execution_count": 11,
   "id": "2722ec94",
   "metadata": {},
   "outputs": [
    {
     "data": {
      "image/png": "[encoded data removed]",
      "text/plain": [
       "<Figure size 400x300 with 2 Axes>"
      ]
     },
     "metadata": {},
     "output_type": "display_data"
    }
   ],
   "source": [
    "# Confusion Matrix\n",
    "\n",
    "cm = confusion_matrix(y_test_bin, y_test_preds_cnn, labels=[0, 1])\n",
    "plt.figure(figsize=(4, 3))\n",
    "sns.heatmap(cm, annot=True, fmt='d', cmap='Blues', xticklabels=['Negative', 'Positive'], yticklabels=['Negative', 'Positive'])\n",
    "plt.title(\"Confusion Matrix - CNN Model\")\n",
    "plt.xlabel(\"Predicted\")\n",
    "plt.ylabel(\"True\")\n",
    "plt.tight_layout()\n",
    "plt.savefig(\"cnn_confusion_matrix.png\")"
   ]
  },
  {
   "cell_type": "code",
   "execution_count": 12,
   "id": "79a249d8",
   "metadata": {},
   "outputs": [],
   "source": [
    "# Systems Stats\n",
    "\n",
    "cpu_usage = psutil.cpu_percent(interval=1)\n",
    "mem_usage = psutil.virtual_memory().percent\n",
    "gpu = GPUtil.getGPUs()[0]\n",
    "power = subprocess.check_output([\n",
    "    \"nvidia-smi\", \"--query-gpu=power.draw\", \"--format=csv,noheader,nounits\"\n",
    "]).decode(\"utf-8\").strip()"
   ]
  },
  {
   "cell_type": "code",
   "execution_count": 16,
   "id": "498d2e37",
   "metadata": {},
   "outputs": [
    {
     "name": "stdout",
     "output_type": "stream",
     "text": [
      "CWD: /research2/smpandit/Sentiment_Analysis_ML_DL_LLM/notebooks\n",
      "Files in ../data: ['sweep_cnn.csv', 'splits', 'social_clean.csv', 'sweep_bilstm.csv']\n",
      "Columns in sweep_cnn.csv: ['Name           ', ' \"Tags\"     ', ' \"State\"   ', ' \"Created\"                 ', ' \"Runtime\"', ' \"ID\"      ', ' \"Updated\"                 ', ' \"End Time\"                ', ' \"Notes\"                                 ', ' \"dataset\"', ' \"Hostname\"', ' \"GPU Type\"             ', ' \"Commit\"                                  ', ' \"GitHub\"', ' \"GPU Count\"', ' \"Validation Accuracy\"', ' \"Validation Precision\"', ' \"Validation F1 Score\"', ' \"Validation Recall\"', ' \"Test Accuracy\"', ' \"Test Precision\"', ' \"Test F1 Score\"', ' \"Test Recall\"', ' \"Tuning Time (s)\"', ' \"Training Time (s)\"', ' \"Inference Time per Sample (s)\"', ' \"Latency (ms)\"', ' \"vectorizer\"', ' \"C\"', ' \"batch_size\"', ' \"dense_units\"', ' \"dropout\"', ' \"embedding_dim\"', ' \"epochs\"', ' \"features\"', ' \"kernel_size\"', ' \"learning_rate\"', ' \"lstm_units\"', ' \"num_filters\"', ' \"optimizer\"', ' \"method\"', ' \"metric.goal\"', ' \"metric.name\"', ' \"model\"', ' \"model_type\"', ' \"metric_goal\"', ' \"metric_name\" ', ' \"sweep_method\"', ' \"CPU Usage (%)\"', ' \"GPU Memory Usage (%)\"', ' \"GPU Temp (C)\"', ' \"GPU Usage (%)\"', ' \"Memory Usage (%)\"', ' \"Power Consumption (W)\"', ' \"Sweep\"   ', ' \"training_time\"     ', ' \"tuning_time\"         ', ' \"val_accuracy\"      ', ' \"val_precision\"     ', ' \"val_f1\"            ', ' \"val_recall\"        ', ' \"epoch/accuracy\"', ' \"epoch/epoch\"', ' \"epoch/learning_rate\"', ' \"epoch/loss\"', ' \"epoch/val_accuracy\"', ' \"epoch/val_loss\"', ' \"max_len\"']\n"
     ]
    }
   ],
   "source": [
    "print(\"CWD:\", os.getcwd())\n",
    "print(\"Files in ../data:\", os.listdir(\"../data\"))\n",
    "df = pd.read_csv(\"../data/sweep_cnn.csv\")\n",
    "print(\"Columns in sweep_cnn.csv:\", df.columns.tolist())"
   ]
  },
  {
   "cell_type": "code",
   "execution_count": 23,
   "id": "60a61d8c",
   "metadata": {},
   "outputs": [
    {
     "name": "stdout",
     "output_type": "stream",
     "text": [
      "11650.665705680847 0.7241494655609128\n",
      "11652.098714828491\n"
     ]
    }
   ],
   "source": [
    "# Read sweep CSV                          \n",
    "sweep_cnn_df = pd.read_csv(\"../data/sweep_cnn.csv\")\n",
    "\n",
    "# Clean the column names (strip whitespace & remove quotes)\n",
    "sweep_cnn_df.columns = (\n",
    "    sweep_cnn_df.columns\n",
    "      .str.strip()           # drop leading/trailing spaces\n",
    "      .str.replace('\"','')   # remove literal double-quotes\n",
    "      .str.strip()           # trim again\n",
    ")\n",
    "\n",
    "# Convert the time columns to numeric\n",
    "sweep_cnn_df['training_time'] = pd.to_numeric(sweep_cnn_df['training_time'], errors='coerce')\n",
    "sweep_cnn_df['tuning_time']   = pd.to_numeric(sweep_cnn_df['tuning_time'],   errors='coerce')\n",
    "\n",
    "# Sum up all sweep runs' tuning time & training time\n",
    "total_training_time_cnn = sweep_cnn_df['training_time'].sum()\n",
    "total_tuning_time_cnn = sweep_cnn_df['tuning_time'].sum()\n",
    "\n",
    "print(total_training_time_cnn, total_tuning_time_cnn)\n",
    "\n",
    "# Sum uo the total tuning & training time\n",
    "total_sweep_time_cnn = total_training_time_cnn + total_tuning_time_cnn \n",
    "\n",
    "build_compile_time_cnn = float(build_compile_time_cnn)\n",
    "\n",
    "# Add to the best param model's tuning time to get total tuning time\n",
    "total_tuning_time = total_sweep_time_cnn + build_compile_time_cnn\n",
    "print(total_tuning_time)"
   ]
  },
  {
   "cell_type": "code",
   "execution_count": 24,
   "id": "c0a576c0",
   "metadata": {},
   "outputs": [
    {
     "name": "stdout",
     "output_type": "stream",
     "text": [
      "Logged: CNN on Social Media to ../results/results.csv\n"
     ]
    },
    {
     "data": {
      "text/html": [],
      "text/plain": [
       "<IPython.core.display.HTML object>"
      ]
     },
     "metadata": {},
     "output_type": "display_data"
    },
    {
     "data": {
      "text/html": [
       "<br>    <style><br>        .wandb-row {<br>            display: flex;<br>            flex-direction: row;<br>            flex-wrap: wrap;<br>            justify-content: flex-start;<br>            width: 100%;<br>        }<br>        .wandb-col {<br>            display: flex;<br>            flex-direction: column;<br>            flex-basis: 100%;<br>            flex: 1;<br>            padding: 10px;<br>        }<br>    </style><br><div class=\"wandb-row\"><div class=\"wandb-col\"><h3>Run history:</h3><br/><table class=\"wandb\"><tr><td>CPU Usage (%)</td><td>▁</td></tr><tr><td>GPU Memory Usage (%)</td><td>▁</td></tr><tr><td>GPU Temp (C)</td><td>▁</td></tr><tr><td>GPU Usage (%)</td><td>▁</td></tr><tr><td>Inference Time per Sample (s)</td><td>▁</td></tr><tr><td>Latency (ms)</td><td>▁</td></tr><tr><td>Memory Usage (%)</td><td>▁</td></tr><tr><td>Power Consumption (W)</td><td>▁</td></tr><tr><td>Test Accuracy</td><td>▁</td></tr><tr><td>Test F1 Score</td><td>▁</td></tr><tr><td>Test Precision</td><td>▁</td></tr><tr><td>Test Recall</td><td>▁</td></tr><tr><td>Training Time (s)</td><td>▁</td></tr><tr><td>Tuning Time (s)</td><td>▁</td></tr><tr><td>Validation Accuracy</td><td>▁</td></tr><tr><td>Validation F1 Score</td><td>▁</td></tr><tr><td>Validation Precision</td><td>▁</td></tr><tr><td>Validation Recall</td><td>▁</td></tr><tr><td>epoch/accuracy</td><td>▁▅▆▇█</td></tr><tr><td>epoch/epoch</td><td>▁▃▅▆█</td></tr><tr><td>epoch/learning_rate</td><td>▁▁▁▁▁</td></tr><tr><td>epoch/loss</td><td>█▄▃▂▁</td></tr><tr><td>epoch/val_accuracy</td><td>▁▆█▇▅</td></tr><tr><td>epoch/val_loss</td><td>▇▂▁▅█</td></tr><tr><td>features</td><td>▁</td></tr><tr><td>max_len</td><td>▁</td></tr></table><br/></div><div class=\"wandb-col\"><h3>Run summary:</h3><br/><table class=\"wandb\"><tr><td>CPU Usage (%)</td><td>29.2</td></tr><tr><td>GPU Memory Usage (%)</td><td>72.09839</td></tr><tr><td>GPU Temp (C)</td><td>66</td></tr><tr><td>GPU Usage (%)</td><td>90</td></tr><tr><td>Inference Time per Sample (s)</td><td>0.00017</td></tr><tr><td>Latency (ms)</td><td>0.17168</td></tr><tr><td>Memory Usage (%)</td><td>15.9</td></tr><tr><td>Power Consumption (W)</td><td>296.77</td></tr><tr><td>Test Accuracy</td><td>0.81936</td></tr><tr><td>Test F1 Score</td><td>0.82585</td></tr><tr><td>Test Precision</td><td>0.79696</td></tr><tr><td>Test Recall</td><td>0.85691</td></tr><tr><td>Training Time (s)</td><td>17223.91388</td></tr><tr><td>Tuning Time (s)</td><td>11652.09871</td></tr><tr><td>Validation Accuracy</td><td>0.81978</td></tr><tr><td>Validation F1 Score</td><td>0.82626</td></tr><tr><td>Validation Precision</td><td>0.79733</td></tr><tr><td>Validation Recall</td><td>0.85738</td></tr><tr><td>epoch/accuracy</td><td>0.84365</td></tr><tr><td>epoch/epoch</td><td>4</td></tr><tr><td>epoch/learning_rate</td><td>0.0005</td></tr><tr><td>epoch/loss</td><td>0.35968</td></tr><tr><td>epoch/val_accuracy</td><td>0.81978</td></tr><tr><td>epoch/val_loss</td><td>0.40796</td></tr><tr><td>features</td><td>10000</td></tr><tr><td>max_len</td><td>100</td></tr></table><br/></div></div>"
      ],
      "text/plain": [
       "<IPython.core.display.HTML object>"
      ]
     },
     "metadata": {},
     "output_type": "display_data"
    },
    {
     "data": {
      "text/html": [
       " View run <strong style=\"color:#cdcd00\">CNN_Social</strong> at: <a href='https://wandb.ai/smpandit-/sentiment-analysis/runs/zwrgk3sr' target=\"_blank\">https://wandb.ai/smpandit-/sentiment-analysis/runs/zwrgk3sr</a><br> View project at: <a href='https://wandb.ai/smpandit-/sentiment-analysis' target=\"_blank\">https://wandb.ai/smpandit-/sentiment-analysis</a><br>Synced 5 W&B file(s), 1 media file(s), 0 artifact file(s) and 0 other file(s)"
      ],
      "text/plain": [
       "<IPython.core.display.HTML object>"
      ]
     },
     "metadata": {},
     "output_type": "display_data"
    },
    {
     "data": {
      "text/html": [
       "Find logs at: <code>./wandb/run-20250505_155038-zwrgk3sr/logs</code>"
      ],
      "text/plain": [
       "<IPython.core.display.HTML object>"
      ]
     },
     "metadata": {},
     "output_type": "display_data"
    },
    {
     "name": "stderr",
     "output_type": "stream",
     "text": [
      "2025/05/05 21:04:14 INFO handleInformFinish: finish message received streamId=zwrgk3sr id=127.0.0.1:33732\n",
      "2025/05/05 21:04:14 INFO handleInformFinish: stream closed streamId=zwrgk3sr id=127.0.0.1:33732\n"
     ]
    }
   ],
   "source": [
    "# Log results to  result_logger.py & wandb Logs\n",
    "\n",
    "log_results(\n",
    "    model_name=\"CNN\",\n",
    "    dataset_name=\"Social Media\",\n",
    "    accuracy=acc,\n",
    "    precision=prec,\n",
    "    recall=rec,\n",
    "    f1=f1,\n",
    "    tuning_time=total_tuning_time,                           \n",
    "    train_time=train_time,\n",
    "    inference_time=infer_time,\n",
    "    latency=infer_time * 1000,\n",
    "    cpu_usage=cpu_usage,\n",
    "    mem_usage=mem_usage,\n",
    "    gpu_usage=gpu.load * 100,\n",
    "    gpu_mem_usage=gpu.memoryUtil * 100,\n",
    "    gpu_temp=gpu.temperature,\n",
    "    power=float(power),\n",
    "    num_features=MAX_VOCAB_SIZE,\n",
    "    hyperparams=f\"batch={wbcfg.batch_size}, epochs={wbcfg.epochs}, embedding_dim={wbcfg.embedding_dim}, dropout={wbcfg.dropout}, dense_units={wbcfg.dense_units}, learning_rate={wbcfg.learning_rate}, optimizer={wbcfg.optimizer}, num_filters={wbcfg.num_filters}, kernel_size={wbcfg.kernel_size}\" \n",
    ")\n",
    "\n",
    "wandb.log({\n",
    "    \"Validation Accuracy\": val_acc, \n",
    "    \"Validation Precision\": val_prec,\n",
    "    \"Validation Recall\": val_rec, \n",
    "    \"Validation F1 Score\": val_f1,\n",
    "\n",
    "    \"Test Accuracy\": acc,\n",
    "    \"Test Precision\": prec,\n",
    "    \"Test Recall\": rec,\n",
    "    \"Test F1 Score\": f1,\n",
    "\n",
    "    \"Tuning Time (s)\": total_tuning_time,             \n",
    "    \"Training Time (s)\": train_time,\n",
    "    \"Inference Time per Sample (s)\": infer_time,\n",
    "    \"Latency (ms)\": infer_time * 1000,\n",
    "\n",
    "    \"CPU Usage (%)\": cpu_usage,\n",
    "    \"Memory Usage (%)\": mem_usage,\n",
    "    \"GPU Usage (%)\": gpu.load * 100,\n",
    "    \"GPU Memory Usage (%)\": gpu.memoryUtil * 100,\n",
    "    \"GPU Temp (C)\": gpu.temperature,\n",
    "    \"Power Consumption (W)\": float(power), \n",
    "\n",
    "    \"features\": 10000, \n",
    "    \"max_len\": 100,\n",
    "\n",
    "    \"Confusion Matrix\": wandb.Image(\"cnn_confusion_matrix.png\")\n",
    "})\n",
    "\n",
    "wandb.finish()"
   ]
  },
  {
   "cell_type": "markdown",
   "id": "f618a689",
   "metadata": {},
   "source": [
    "# BiLSTM"
   ]
  },
  {
   "cell_type": "code",
   "execution_count": 25,
   "id": "f8dd018c",
   "metadata": {},
   "outputs": [
    {
     "name": "stdout",
     "output_type": "stream",
     "text": [
      "GPU ready: PhysicalDevice(name='/physical_device:GPU:0', device_type='GPU')\n"
     ]
    }
   ],
   "source": [
    "# Set random seeds for reproducibility\n",
    "np.random.seed(42)\n",
    "tf.random.set_seed(42)\n",
    "\n",
    "# Load pre-processed data splits \n",
    "X_train_seq = np.load(\"../data/splits/X_train_seq.npy\")\n",
    "X_val_seq = np.load(\"../data/splits/X_val_seq.npy\")\n",
    "X_test_seq = np.load(\"../data/splits/X_test_seq.npy\")\n",
    "y_train_bin = np.load(\"../data/splits/y_train_bin.npy\")\n",
    "y_val_bin = np.load(\"../data/splits/y_val_bin.npy\")\n",
    "y_test_bin = np.load(\"../data/splits/y_test_bin.npy\")\n",
    "\n",
    "# GPU setup\n",
    "gpus = tf.config.list_physical_devices('GPU')\n",
    "if not gpus:\n",
    "    raise RuntimeError(\"No GPU found.\")\n",
    "tf.config.experimental.set_memory_growth(gpus[0], True)\n",
    "print(\"GPU ready:\", gpus[0])\n",
    "\n",
    "\n",
    "#  Best hyperparameters from sweep (03joa3ol)\n",
    "BEST_CONFIG = {                                  \n",
    "    \"model\": \"BiLSTM\",\n",
    "    \"dataset\": \"Sentiment140\",\n",
    "    'batch_size': 128,\n",
    "    'dense_units': 32,\n",
    "    'dropout': 0.2,\n",
    "    'embedding_dim': 128,\n",
    "    'epochs': 5,\n",
    "    'learning_rate': 0.001,\n",
    "    'lstm_units': 64,\n",
    "    'optimizer': \"adam\",\n",
    "    'metric_goal':\"maximize\",\n",
    "    'metric_name':\"val_accuracy\",\n",
    "    'model_type':\"BiLSTM\",\n",
    "}"
   ]
  },
  {
   "cell_type": "code",
   "execution_count": 26,
   "id": "7b7a69a9",
   "metadata": {},
   "outputs": [
    {
     "name": "stderr",
     "output_type": "stream",
     "text": [
      "2025/05/05 21:08:04 INFO handleInformInit: received streamId=hbq98fbx id=127.0.0.1:33732\n",
      "2025/05/05 21:08:04 INFO handleInformInit: stream started streamId=hbq98fbx id=127.0.0.1:33732\n"
     ]
    },
    {
     "data": {
      "text/html": [
       "Tracking run with wandb version 0.19.10"
      ],
      "text/plain": [
       "<IPython.core.display.HTML object>"
      ]
     },
     "metadata": {},
     "output_type": "display_data"
    },
    {
     "data": {
      "text/html": [
       "Run data is saved locally in <code>/research2/smpandit/Sentiment_Analysis_ML_DL_LLM/notebooks/wandb/run-20250505_210804-hbq98fbx</code>"
      ],
      "text/plain": [
       "<IPython.core.display.HTML object>"
      ]
     },
     "metadata": {},
     "output_type": "display_data"
    },
    {
     "data": {
      "text/html": [
       "Syncing run <strong><a href='https://wandb.ai/smpandit-/sentiment-analysis/runs/hbq98fbx' target=\"_blank\">BiLSTM_Social</a></strong> to <a href='https://wandb.ai/smpandit-/sentiment-analysis' target=\"_blank\">Weights & Biases</a> (<a href='https://wandb.me/developer-guide' target=\"_blank\">docs</a>)<br>"
      ],
      "text/plain": [
       "<IPython.core.display.HTML object>"
      ]
     },
     "metadata": {},
     "output_type": "display_data"
    },
    {
     "data": {
      "text/html": [
       " View project at <a href='https://wandb.ai/smpandit-/sentiment-analysis' target=\"_blank\">https://wandb.ai/smpandit-/sentiment-analysis</a>"
      ],
      "text/plain": [
       "<IPython.core.display.HTML object>"
      ]
     },
     "metadata": {},
     "output_type": "display_data"
    },
    {
     "data": {
      "text/html": [
       " View run at <a href='https://wandb.ai/smpandit-/sentiment-analysis/runs/hbq98fbx' target=\"_blank\">https://wandb.ai/smpandit-/sentiment-analysis/runs/hbq98fbx</a>"
      ],
      "text/plain": [
       "<IPython.core.display.HTML object>"
      ]
     },
     "metadata": {},
     "output_type": "display_data"
    }
   ],
   "source": [
    "# wandb Init\n",
    "wandb.init(\n",
    "    project=\"sentiment-analysis\", \n",
    "    name=\"BiLSTM_Social\", \n",
    "    config=BEST_CONFIG\n",
    ")\n",
    "\n",
    "wbcfg = wandb.config"
   ]
  },
  {
   "cell_type": "code",
   "execution_count": 27,
   "id": "e635fc33",
   "metadata": {},
   "outputs": [
    {
     "name": "stderr",
     "output_type": "stream",
     "text": [
      "/home/smpandit/.conda/envs/sentimentAnalysisENV/lib/python3.10/site-packages/keras/src/layers/core/embedding.py:90: UserWarning: Argument `input_length` is deprecated. Just remove it.\n",
      "  warnings.warn(\n"
     ]
    }
   ],
   "source": [
    "# Build BiLSTM model\n",
    "\n",
    "start_time = time.time()\n",
    "\n",
    "bilstm_model = Sequential([\n",
    "    Embedding(\n",
    "        input_dim=MAX_VOCAB_SIZE, \n",
    "        output_dim=wbcfg.embedding_dim, \n",
    "        input_length=MAX_SEQ_LEN\n",
    "    ),\n",
    "    Bidirectional(\n",
    "        LSTM(\n",
    "            units=wbcfg.lstm_units,\n",
    "            dropout=wbcfg.dropout,\n",
    "            recurrent_dropout=0.2,\n",
    "            return_sequences=False\n",
    "        )\n",
    "    ),\n",
    "    Dense(wbcfg.dense_units, activation='relu'),                   \n",
    "    Dropout(wbcfg.dropout),\n",
    "    Dense(1, activation='sigmoid')   \n",
    "])\n",
    "\n",
    "# Compile BiLSTM model \n",
    "opt = Adam(learning_rate=wbcfg.learning_rate) if wbcfg.optimizer == \"adam\" else RMSprop(learning_rate=wbcfg.learning_rate)\n",
    "\n",
    "bilstm_model.compile(\n",
    "    optimizer=opt,\n",
    "    loss='binary_crossentropy',\n",
    "    metrics=['accuracy']\n",
    ")\n",
    "\n",
    "build_compile_time_bilstm = time.time() - start_time"
   ]
  },
  {
   "cell_type": "code",
   "execution_count": 28,
   "id": "da1af1b2",
   "metadata": {},
   "outputs": [
    {
     "name": "stdout",
     "output_type": "stream",
     "text": [
      "Epoch 1/5\n",
      "\u001b[1m8728/8728\u001b[0m \u001b[32m━━━━━━━━━━━━━━━━━━━━\u001b[0m\u001b[37m\u001b[0m \u001b[1m6474s\u001b[0m 740ms/step - accuracy: 0.7819 - loss: 0.4584 - val_accuracy: 0.8173 - val_loss: 0.4007\n",
      "Epoch 2/5\n",
      "\u001b[1m8728/8728\u001b[0m \u001b[32m━━━━━━━━━━━━━━━━━━━━\u001b[0m\u001b[37m\u001b[0m \u001b[1m3768s\u001b[0m 432ms/step - accuracy: 0.8194 - loss: 0.3989 - val_accuracy: 0.8222 - val_loss: 0.3917\n",
      "Epoch 3/5\n",
      "\u001b[1m8728/8728\u001b[0m \u001b[32m━━━━━━━━━━━━━━━━━━━━\u001b[0m\u001b[37m\u001b[0m \u001b[1m3483s\u001b[0m 395ms/step - accuracy: 0.8284 - loss: 0.3811 - val_accuracy: 0.8247 - val_loss: 0.3893\n",
      "Epoch 4/5\n",
      "\u001b[1m8728/8728\u001b[0m \u001b[32m━━━━━━━━━━━━━━━━━━━━\u001b[0m\u001b[37m\u001b[0m \u001b[1m6109s\u001b[0m 700ms/step - accuracy: 0.8364 - loss: 0.3669 - val_accuracy: 0.8251 - val_loss: 0.3929\n",
      "Epoch 5/5\n",
      "\u001b[1m8728/8728\u001b[0m \u001b[32m━━━━━━━━━━━━━━━━━━━━\u001b[0m\u001b[37m\u001b[0m \u001b[1m4149s\u001b[0m 475ms/step - accuracy: 0.8430 - loss: 0.3550 - val_accuracy: 0.8243 - val_loss: 0.3992\n"
     ]
    }
   ],
   "source": [
    "# Train BiLSTM model\n",
    "\n",
    "start_time = time.time()\n",
    "\n",
    "history = bilstm_model.fit(\n",
    "    X_train_seq, \n",
    "    y_train_bin,\n",
    "    validation_data=(\n",
    "        X_val_seq, \n",
    "        y_val_bin\n",
    "    ),\n",
    "    epochs=wbcfg.epochs,\n",
    "    batch_size=wbcfg.batch_size,\n",
    "    callbacks=wbk.WandbMetricsLogger(),\n",
    "    verbose=1\n",
    ")\n",
    "\n",
    "train_time = time.time() - start_time"
   ]
  },
  {
   "cell_type": "code",
   "execution_count": 29,
   "id": "e4f96846",
   "metadata": {},
   "outputs": [
    {
     "name": "stdout",
     "output_type": "stream",
     "text": [
      "\u001b[1m7483/7483\u001b[0m \u001b[32m━━━━━━━━━━━━━━━━━━━━\u001b[0m\u001b[37m\u001b[0m \u001b[1m646s\u001b[0m 86ms/step\n",
      "\n",
      " BiLSTM Model - Validation Set:\n",
      "              precision    recall  f1-score   support\n",
      "\n",
      "           0       0.82      0.83      0.83    119762\n",
      "           1       0.83      0.82      0.82    119680\n",
      "\n",
      "    accuracy                           0.82    239442\n",
      "   macro avg       0.82      0.82      0.82    239442\n",
      "weighted avg       0.82      0.82      0.82    239442\n",
      "\n"
     ]
    }
   ],
   "source": [
    "# Validation Evaluation\n",
    "y_val_preds_bilstm = (bilstm_model.predict(X_val_seq) > 0.5).astype(\"int32\")\n",
    "\n",
    "print(\"\\n BiLSTM Model - Validation Set:\")\n",
    "print(classification_report(y_val_bin, y_val_preds_bilstm))\n",
    "\n",
    "val_acc = accuracy_score(y_val_bin, y_val_preds_bilstm)\n",
    "val_prec = precision_score(y_val_bin, y_val_preds_bilstm)\n",
    "val_rec = recall_score(y_val_bin, y_val_preds_bilstm)\n",
    "val_f1 = f1_score(y_val_bin, y_val_preds_bilstm)"
   ]
  },
  {
   "cell_type": "code",
   "execution_count": 30,
   "id": "eea1d79c",
   "metadata": {},
   "outputs": [
    {
     "name": "stdout",
     "output_type": "stream",
     "text": [
      "\u001b[1m7482/7482\u001b[0m \u001b[32m━━━━━━━━━━━━━━━━━━━━\u001b[0m\u001b[37m\u001b[0m \u001b[1m645s\u001b[0m 86ms/step\n",
      "\n",
      " CNN Model - Test Set:\n",
      "              precision    recall  f1-score   support\n",
      "\n",
      "           0       0.82      0.83      0.83    119742\n",
      "           1       0.83      0.82      0.82    119660\n",
      "\n",
      "    accuracy                           0.82    239402\n",
      "   macro avg       0.82      0.82      0.82    239402\n",
      "weighted avg       0.82      0.82      0.82    239402\n",
      "\n"
     ]
    }
   ],
   "source": [
    "# Test Evaluation\n",
    "y_test_preds_bilstm = (bilstm_model.predict(X_test_seq) > 0.5).astype(\"int32\").flatten()\n",
    "\n",
    "print(\"\\n CNN Model - Test Set:\")\n",
    "print(classification_report(y_test_bin, y_test_preds_bilstm))\n",
    "\n",
    "acc = accuracy_score(y_test_bin, y_test_preds_bilstm)\n",
    "prec = precision_score(y_test_bin, y_test_preds_bilstm)\n",
    "rec = recall_score(y_test_bin, y_test_preds_bilstm)\n",
    "f1 = f1_score(y_test_bin, y_test_preds_bilstm)\n"
   ]
  },
  {
   "cell_type": "code",
   "execution_count": 31,
   "id": "f8a5b643",
   "metadata": {},
   "outputs": [
    {
     "name": "stdout",
     "output_type": "stream",
     "text": [
      "\u001b[1m7482/7482\u001b[0m \u001b[32m━━━━━━━━━━━━━━━━━━━━\u001b[0m\u001b[37m\u001b[0m \u001b[1m643s\u001b[0m 86ms/step\n"
     ]
    }
   ],
   "source": [
    "# Inference time \n",
    "start_infer = time.time()\n",
    "test_preds = (bilstm_model.predict(X_test_seq) > 0.5).astype(\"int32\")\n",
    "infer_time = (time.time() - start_infer) / len(X_test_seq)  # avg per sample"
   ]
  },
  {
   "cell_type": "code",
   "execution_count": 32,
   "id": "31e2941e",
   "metadata": {},
   "outputs": [
    {
     "data": {
      "image/png": "[encoded data removed]",
      "text/plain": [
       "<Figure size 400x300 with 2 Axes>"
      ]
     },
     "metadata": {},
     "output_type": "display_data"
    }
   ],
   "source": [
    "# Confusion Matrix\n",
    "\n",
    "cm = confusion_matrix(y_test_bin, y_test_preds_bilstm, labels=[0, 1])\n",
    "plt.figure(figsize=(4, 3))\n",
    "sns.heatmap(cm, annot=True, fmt='d', cmap='Blues', xticklabels=['Negative', 'Positive'], yticklabels=['Negative', 'Positive'])\n",
    "plt.title(\"Confusion Matrix - BiLSTM Model\")\n",
    "plt.xlabel(\"Predicted\")\n",
    "plt.ylabel(\"True\")\n",
    "plt.tight_layout()\n",
    "plt.savefig(\"bilstm_confusion_matrix.png\")"
   ]
  },
  {
   "cell_type": "code",
   "execution_count": 33,
   "id": "f11abeb6",
   "metadata": {},
   "outputs": [],
   "source": [
    "# Systems Stats\n",
    "\n",
    "cpu_usage = psutil.cpu_percent(interval=1)\n",
    "mem_usage = psutil.virtual_memory().percent\n",
    "gpu = GPUtil.getGPUs()[0]\n",
    "power = subprocess.check_output([\n",
    "    \"nvidia-smi\", \"--query-gpu=power.draw\", \"--format=csv,noheader,nounits\"\n",
    "]).decode(\"utf-8\").strip()"
   ]
  },
  {
   "cell_type": "code",
   "execution_count": 35,
   "id": "0d2f830c",
   "metadata": {},
   "outputs": [
    {
     "name": "stdout",
     "output_type": "stream",
     "text": [
      "48895.53416323662 0.5702390670776363\n",
      "48896.15851140022\n"
     ]
    }
   ],
   "source": [
    "# Read sweep CSV                          \n",
    "sweep_bilstm_df = pd.read_csv(\"../data/sweep_bilstm.csv\")\n",
    "\n",
    "# Clean the column names (strip whitespace & remove quotes)\n",
    "sweep_bilstm_df.columns = (\n",
    "    sweep_bilstm_df.columns\n",
    "      .str.strip()           # drop leading/trailing spaces\n",
    "      .str.replace('\"','')   # remove literal double-quotes\n",
    "      .str.strip()           # trim again\n",
    ")\n",
    "\n",
    "# Convert the time columns to numeric\n",
    "sweep_bilstm_df['training_time'] = pd.to_numeric(sweep_bilstm_df['training_time'], errors='coerce')\n",
    "sweep_bilstm_df['tuning_time']   = pd.to_numeric(sweep_bilstm_df['tuning_time'],   errors='coerce')\n",
    "\n",
    "# Sum up all sweep runs' tuning time & training time\n",
    "total_training_time_bilstm = sweep_bilstm_df['training_time'].sum()\n",
    "total_tuning_time_bilstm = sweep_bilstm_df['tuning_time'].sum()\n",
    "\n",
    "print(total_training_time_bilstm, total_tuning_time_bilstm)\n",
    "\n",
    "# Sum uo the total tuning & training time\n",
    "total_sweep_time_bilstm = total_training_time_bilstm + total_tuning_time_bilstm \n",
    "\n",
    "build_compile_time_bilstm = float(build_compile_time_bilstm)\n",
    "\n",
    "# Add to the best param model's tuning time to get total tuning time\n",
    "total_tuning_time = total_sweep_time_bilstm + build_compile_time_bilstm\n",
    "print(total_tuning_time)"
   ]
  },
  {
   "cell_type": "code",
   "execution_count": 36,
   "id": "ca5d6a61",
   "metadata": {},
   "outputs": [
    {
     "name": "stdout",
     "output_type": "stream",
     "text": [
      "Logged: BiLSTM on Social Media to ../results/results.csv\n"
     ]
    },
    {
     "data": {
      "text/html": [],
      "text/plain": [
       "<IPython.core.display.HTML object>"
      ]
     },
     "metadata": {},
     "output_type": "display_data"
    },
    {
     "data": {
      "text/html": [
       "<br>    <style><br>        .wandb-row {<br>            display: flex;<br>            flex-direction: row;<br>            flex-wrap: wrap;<br>            justify-content: flex-start;<br>            width: 100%;<br>        }<br>        .wandb-col {<br>            display: flex;<br>            flex-direction: column;<br>            flex-basis: 100%;<br>            flex: 1;<br>            padding: 10px;<br>        }<br>    </style><br><div class=\"wandb-row\"><div class=\"wandb-col\"><h3>Run history:</h3><br/><table class=\"wandb\"><tr><td>CPU Usage (%)</td><td>▁</td></tr><tr><td>GPU Memory Usage (%)</td><td>▁</td></tr><tr><td>GPU Temp (C)</td><td>▁</td></tr><tr><td>GPU Usage (%)</td><td>▁</td></tr><tr><td>Inference Time per Sample (s)</td><td>▁</td></tr><tr><td>Latency (ms)</td><td>▁</td></tr><tr><td>Memory Usage (%)</td><td>▁</td></tr><tr><td>Power Consumption (W)</td><td>▁</td></tr><tr><td>Test Accuracy</td><td>▁</td></tr><tr><td>Test F1 Score</td><td>▁</td></tr><tr><td>Test Precision</td><td>▁</td></tr><tr><td>Test Recall</td><td>▁</td></tr><tr><td>Training Time (s)</td><td>▁</td></tr><tr><td>Tuning Time (s)</td><td>▁</td></tr><tr><td>Validation Accuracy</td><td>▁</td></tr><tr><td>Validation F1 Score</td><td>▁</td></tr><tr><td>Validation Precision</td><td>▁</td></tr><tr><td>Validation Recall</td><td>▁</td></tr><tr><td>epoch/accuracy</td><td>▁▄▆▇█</td></tr><tr><td>epoch/epoch</td><td>▁▃▅▆█</td></tr><tr><td>epoch/learning_rate</td><td>▁▁▁▁▁</td></tr><tr><td>epoch/loss</td><td>█▅▃▂▁</td></tr><tr><td>epoch/val_accuracy</td><td>▁▅██▇</td></tr><tr><td>epoch/val_loss</td><td>█▂▁▃▇</td></tr><tr><td>features</td><td>▁</td></tr><tr><td>max_len</td><td>▁</td></tr></table><br/></div><div class=\"wandb-col\"><h3>Run summary:</h3><br/><table class=\"wandb\"><tr><td>CPU Usage (%)</td><td>0.9</td></tr><tr><td>GPU Memory Usage (%)</td><td>13.11523</td></tr><tr><td>GPU Temp (C)</td><td>39</td></tr><tr><td>GPU Usage (%)</td><td>0</td></tr><tr><td>Inference Time per Sample (s)</td><td>0.0027</td></tr><tr><td>Latency (ms)</td><td>2.70022</td></tr><tr><td>Memory Usage (%)</td><td>6.9</td></tr><tr><td>Power Consumption (W)</td><td>64.01</td></tr><tr><td>Test Accuracy</td><td>0.82373</td></tr><tr><td>Test F1 Score</td><td>0.82242</td></tr><tr><td>Test Precision</td><td>0.8283</td></tr><tr><td>Test Recall</td><td>0.81662</td></tr><tr><td>Training Time (s)</td><td>23983.74647</td></tr><tr><td>Tuning Time (s)</td><td>48896.15851</td></tr><tr><td>Validation Accuracy</td><td>0.82427</td></tr><tr><td>Validation F1 Score</td><td>0.82302</td></tr><tr><td>Validation Precision</td><td>0.82862</td></tr><tr><td>Validation Recall</td><td>0.8175</td></tr><tr><td>epoch/accuracy</td><td>0.84443</td></tr><tr><td>epoch/epoch</td><td>4</td></tr><tr><td>epoch/learning_rate</td><td>0.001</td></tr><tr><td>epoch/loss</td><td>0.35146</td></tr><tr><td>epoch/val_accuracy</td><td>0.82427</td></tr><tr><td>epoch/val_loss</td><td>0.3992</td></tr><tr><td>features</td><td>10000</td></tr><tr><td>max_len</td><td>100</td></tr></table><br/></div></div>"
      ],
      "text/plain": [
       "<IPython.core.display.HTML object>"
      ]
     },
     "metadata": {},
     "output_type": "display_data"
    },
    {
     "data": {
      "text/html": [
       " View run <strong style=\"color:#cdcd00\">BiLSTM_Social</strong> at: <a href='https://wandb.ai/smpandit-/sentiment-analysis/runs/hbq98fbx' target=\"_blank\">https://wandb.ai/smpandit-/sentiment-analysis/runs/hbq98fbx</a><br> View project at: <a href='https://wandb.ai/smpandit-/sentiment-analysis' target=\"_blank\">https://wandb.ai/smpandit-/sentiment-analysis</a><br>Synced 5 W&B file(s), 1 media file(s), 0 artifact file(s) and 0 other file(s)"
      ],
      "text/plain": [
       "<IPython.core.display.HTML object>"
      ]
     },
     "metadata": {},
     "output_type": "display_data"
    },
    {
     "data": {
      "text/html": [
       "Find logs at: <code>./wandb/run-20250505_210804-hbq98fbx/logs</code>"
      ],
      "text/plain": [
       "<IPython.core.display.HTML object>"
      ]
     },
     "metadata": {},
     "output_type": "display_data"
    },
    {
     "name": "stderr",
     "output_type": "stream",
     "text": [
      "2025/05/06 04:27:16 INFO handleInformFinish: finish message received streamId=hbq98fbx id=127.0.0.1:33732\n",
      "2025/05/06 04:27:16 INFO handleInformFinish: stream closed streamId=hbq98fbx id=127.0.0.1:33732\n"
     ]
    }
   ],
   "source": [
    "# Log results to  result_logger.py & wandb Logs\n",
    "\n",
    "log_results(\n",
    "    model_name=\"BiLSTM\",\n",
    "    dataset_name=\"Social Media\",\n",
    "    accuracy=acc,\n",
    "    precision=prec,\n",
    "    recall=rec,\n",
    "    f1=f1,\n",
    "    tuning_time=total_tuning_time,                           \n",
    "    train_time=train_time,\n",
    "    inference_time=infer_time,\n",
    "    latency=infer_time * 1000,\n",
    "    cpu_usage=cpu_usage,\n",
    "    mem_usage=mem_usage,\n",
    "    gpu_usage=gpu.load * 100,\n",
    "    gpu_mem_usage=gpu.memoryUtil * 100,\n",
    "    gpu_temp=gpu.temperature,\n",
    "    power=float(power),\n",
    "    num_features=MAX_VOCAB_SIZE,\n",
    "    hyperparams=f\"batch={wbcfg.batch_size}, epochs={wbcfg.epochs}, embedding_dim={wbcfg.embedding_dim}, dropout={wbcfg.dropout}, dense_units={wbcfg.dense_units}, learning_rate={wbcfg.learning_rate}, optimizer={wbcfg.optimizer}, lstm_units={wbcfg.lstm_units}\" \n",
    ")\n",
    "\n",
    "wandb.log({\n",
    "    \"Validation Accuracy\": val_acc, \n",
    "    \"Validation Precision\": val_prec,\n",
    "    \"Validation Recall\": val_rec, \n",
    "    \"Validation F1 Score\": val_f1,\n",
    "\n",
    "    \"Test Accuracy\": acc,\n",
    "    \"Test Precision\": prec,\n",
    "    \"Test Recall\": rec,\n",
    "    \"Test F1 Score\": f1,\n",
    "\n",
    "    \"Tuning Time (s)\": total_tuning_time,             \n",
    "    \"Training Time (s)\": train_time,\n",
    "    \"Inference Time per Sample (s)\": infer_time,\n",
    "    \"Latency (ms)\": infer_time * 1000,\n",
    "\n",
    "    \"CPU Usage (%)\": cpu_usage,\n",
    "    \"Memory Usage (%)\": mem_usage,\n",
    "    \"GPU Usage (%)\": gpu.load * 100,\n",
    "    \"GPU Memory Usage (%)\": gpu.memoryUtil * 100,\n",
    "    \"GPU Temp (C)\": gpu.temperature,\n",
    "    \"Power Consumption (W)\": float(power), \n",
    "\n",
    "    \"features\": 10000, \n",
    "    \"max_len\": 100,\n",
    "\n",
    "    \"Confusion Matrix\": wandb.Image(\"bilstm_confusion_matrix.png\")\n",
    "})\n",
    "\n",
    "wandb.finish()"
   ]
  }
 ],
 "metadata": {
  "kernelspec": {
   "display_name": "sentimentAnalysisENV",
   "language": "python",
   "name": "python3"
  },
  "language_info": {
   "codemirror_mode": {
    "name": "ipython",
    "version": 3
   },
   "file_extension": ".py",
   "mimetype": "text/x-python",
   "name": "python",
   "nbconvert_exporter": "python",
   "pygments_lexer": "ipython3",
   "version": "3.10.16"
  }
 },
 "nbformat": 4,
 "nbformat_minor": 5
}
