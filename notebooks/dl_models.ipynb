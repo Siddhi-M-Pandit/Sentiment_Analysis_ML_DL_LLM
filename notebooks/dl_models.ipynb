{
 "cells": [
  {
   "cell_type": "code",
   "execution_count": null,
   "id": "9f0fbabb",
   "metadata": {},
   "outputs": [
    {
     "name": "stderr",
     "output_type": "stream",
     "text": [
      "2025-04-20 11:42:53.094302: E external/local_xla/xla/stream_executor/cuda/cuda_fft.cc:467] Unable to register cuFFT factory: Attempting to register factory for plugin cuFFT when one has already been registered\n",
      "WARNING: All log messages before absl::InitializeLog() is called are written to STDERR\n",
      "E0000 00:00:1745174573.116387  375057 cuda_dnn.cc:8579] Unable to register cuDNN factory: Attempting to register factory for plugin cuDNN when one has already been registered\n",
      "E0000 00:00:1745174573.122721  375057 cuda_blas.cc:1407] Unable to register cuBLAS factory: Attempting to register factory for plugin cuBLAS when one has already been registered\n",
      "W0000 00:00:1745174573.139553  375057 computation_placer.cc:177] computation placer already registered. Please check linkage and avoid linking the same target more than once.\n",
      "W0000 00:00:1745174573.139588  375057 computation_placer.cc:177] computation placer already registered. Please check linkage and avoid linking the same target more than once.\n",
      "W0000 00:00:1745174573.139590  375057 computation_placer.cc:177] computation placer already registered. Please check linkage and avoid linking the same target more than once.\n",
      "W0000 00:00:1745174573.139592  375057 computation_placer.cc:177] computation placer already registered. Please check linkage and avoid linking the same target more than once.\n"
     ]
    }
   ],
   "source": [
    "import os\n",
    "os.environ[\"MPLCONFIGDIR\"] = \"/tmp/matplotlib\"\n",
    "os.environ[\"TF_CPP_MIN_LOG_LEVEL\"] = \"2\"\n",
    "\n",
    "import pandas as pd\n",
    "import numpy as np\n",
    "import seaborn as sns\n",
    "import matplotlib.pyplot as plt\n",
    "\n",
    "import time\n",
    "import datetime\n",
    "import sys\n",
    "import psutil\n",
    "import subprocess\n",
    "import GPUtil\n",
    "\n",
    "from scripts.data_loader import load_and_tokenize_data\n",
    "\n",
    "import tensorflow as tf\n",
    "from tensorflow.keras.models import Sequential\n",
    "from tensorflow.keras.layers import Embedding, Conv1D, GlobalMaxPooling1D, Dense, LSTM, Bidirectional, Dropout\n",
    "\n",
    "from tensorflow.keras.callbacks import TensorBoard\n",
    "\n",
    "from sklearn.metrics import (\n",
    "    accuracy_score, precision_score, recall_score, f1_score, \n",
    "    classification_report, confusion_matrix\n",
    ")\n",
    "import wandb\n",
    "from wandb.keras import WandbCallback\n",
    "\n",
    "# Enable script imports\n",
    "sys.path.append(os.path.abspath(\"..\"))\n",
    "from scripts.result_logger import log_results"
   ]
  },
  {
   "cell_type": "code",
   "execution_count": null,
   "id": "40b02ec4",
   "metadata": {},
   "outputs": [],
   "source": [
    "# Set random seeds for reproducibility\n",
    "np.random.seed(42)\n",
    "tf.random.set_seed(42)\n",
    "\n",
    "# Load data\n",
    "X_train_seq = np.load(\"data/splits/X_train_seq.npy\")\n",
    "X_val_seq = np.load(\"data/splits/X_val_seq.npy\")\n",
    "X_test_seq = np.load(\"data/splits/X_test_seq.npy\")\n",
    "y_train_bin = np.load(\"data/splits/y_train_bin.npy\")\n",
    "y_val_bin = np.load(\"data/splits/y_val_bin.npy\")\n",
    "y_test_bin = np.load(\"data/splits/y_test_bin.npy\")\n",
    "\n",
    "# Best Parameters                                         #TODO\n",
    "vocab_size = 10000\n",
    "max_length = 100\n",
    "embedding_dim = 64\n",
    "batch_size = 64\n",
    "epochs = 20"
   ]
  },
  {
   "cell_type": "markdown",
   "id": "d4357003",
   "metadata": {},
   "source": [
    "# CNN"
   ]
  },
  {
   "cell_type": "code",
   "execution_count": null,
   "id": "538339a8",
   "metadata": {},
   "outputs": [],
   "source": [
    "# wandb Init\n",
    "\n",
    "wandb.init(\n",
    "    project=\"sentiment-analysis\", \n",
    "    name=\"CNN_Social\", \n",
    "    config={\n",
    "        \"model\": \"CNN\",\n",
    "        \"dataset\": \"Sentiment140\",\n",
    "        \"max_length\": max_length,\n",
    "        \"vocab_size\": vocab_size,\n",
    "        \"embedding_dim\": embedding_dim,\n",
    "        \"epochs\": epochs,\n",
    "        \"batch_size\": batch_size\n",
    "})\n"
   ]
  },
  {
   "cell_type": "code",
   "execution_count": null,
   "id": "766e75dd",
   "metadata": {},
   "outputs": [],
   "source": [
    "# Tensorboard logging\n",
    "\n",
    "log_dir = f\"logs/{wandb.run.name}_{datetime.datetime.now().strftime('%Y%m%d-%H%M%S')}\"\n",
    "tensorboard_callback = TensorBoard(log_dir=log_dir, histogram_freq=1)"
   ]
  },
  {
   "cell_type": "code",
   "execution_count": null,
   "id": "1cb09140",
   "metadata": {},
   "outputs": [],
   "source": [
    "# Build CNN model\n",
    "\n",
    "model = Sequential([\n",
    "    Embedding(input_dim=vocab_size, output_dim=embedding_dim, input_length=max_length),\n",
    "    Conv1D(128, 5, activation='relu'),              #TODO\n",
    "    GlobalMaxPooling1D(),\n",
    "    Dense(64, activation='relu'),                   #TODO\n",
    "    Dropout(0.5),\n",
    "    Dense(1, activation='sigmoid')                   #TODO\n",
    "])\n",
    "model.compile(optimizer='adam', loss='binary_crossentropy', metrics=['accuracy'])                   #TODO\n"
   ]
  },
  {
   "cell_type": "code",
   "execution_count": null,
   "id": "9a5fab5e",
   "metadata": {},
   "outputs": [],
   "source": [
    "# Train CNN model\n",
    "\n",
    "start_time = time.time()\n",
    "\n",
    "history = model.fit(\n",
    "    X_train_seq, y_train_bin,\n",
    "    validation_data=(X_val_seq, y_val_bin),\n",
    "    epochs=epochs,\n",
    "    batch_size=batch_size,\n",
    "    callbacks=[tensorboard_callback, WandbCallback()],\n",
    "    verbose=1\n",
    ")\n",
    "\n",
    "train_time = time.time() - start_time"
   ]
  },
  {
   "cell_type": "code",
   "execution_count": null,
   "id": "70b0b920",
   "metadata": {},
   "outputs": [],
   "source": [
    "# Validation Evaluation\n",
    "y_val_preds_cnn = (model.predict(X_val_seq) > 0.5).astype(\"int32\")\n",
    "\n",
    "print(\"\\n CNN Model - Validation Set:\")\n",
    "print(classification_report(y_val_bin, y_val_preds_cnn))\n",
    "\n",
    "val_acc = accuracy_score(y_val_bin, y_val_preds_cnn)\n",
    "val_prec = precision_score(y_val_bin, y_val_preds_cnn)\n",
    "val_rec = recall_score(y_val_bin, y_val_preds_cnn)\n",
    "val_f1 = f1_score(y_val_bin, y_val_preds_cnn)"
   ]
  },
  {
   "cell_type": "code",
   "execution_count": null,
   "id": "134d27e8",
   "metadata": {},
   "outputs": [],
   "source": [
    "# Test Evaluation\n",
    "y_test_preds_cnn = (model.predict(X_test_seq) > 0.5).astype(\"int32\").flatten()\n",
    "\n",
    "print(\"\\n CNN Model - Test Set:\")\n",
    "print(classification_report(y_test_bin, y_test_preds_cnn))\n",
    "\n",
    "acc = accuracy_score(y_test_bin, y_test_preds_cnn)\n",
    "prec = precision_score(y_test_bin, y_test_preds_cnn)\n",
    "rec = recall_score(y_test_bin, y_test_preds_cnn)\n",
    "f1 = f1_score(y_test_bin, y_test_preds_cnn)\n"
   ]
  },
  {
   "cell_type": "code",
   "execution_count": null,
   "id": "224898e2",
   "metadata": {},
   "outputs": [],
   "source": [
    "# Inference time \n",
    "start_infer = time.time()\n",
    "test_preds = (model.predict(X_test_seq) > 0.5).astype(\"int32\")\n",
    "infer_time = (time.time() - start_infer) / len(X_test_seq)  # avg per sample"
   ]
  },
  {
   "cell_type": "code",
   "execution_count": null,
   "id": "2722ec94",
   "metadata": {},
   "outputs": [],
   "source": [
    "# Confusion Matrix\n",
    "\n",
    "cm = confusion_matrix(y_test_bin, y_test_preds_cnn, labels=[0, 1])\n",
    "plt.figure(figsize=(4, 3))\n",
    "sns.heatmap(cm, annot=True, fmt='d', cmap='Blues', xticklabels=['Negative', 'Positive'], yticklabels=['Negative', 'Positive'])\n",
    "plt.title(\"Confusion Matrix - CNN Model\")\n",
    "plt.xlabel(\"Predicted\")\n",
    "plt.ylabel(\"True\")\n",
    "plt.tight_layout()\n",
    "plt.savefig(\"cnn_confusion_matrix.png\")"
   ]
  },
  {
   "cell_type": "code",
   "execution_count": null,
   "id": "79a249d8",
   "metadata": {},
   "outputs": [],
   "source": [
    "# Systems Stats\n",
    "\n",
    "cpu_usage = psutil.cpu_percent(interval=1)\n",
    "mem_usage = psutil.virtual_memory().percent\n",
    "gpu = GPUtil.getGPUs()[0]\n",
    "power = subprocess.check_output([\n",
    "    \"nvidia-smi\", \"--query-gpu=power.draw\", \"--format=csv,noheader,nounits\"\n",
    "]).decode(\"utf-8\").strip()"
   ]
  },
  {
   "cell_type": "code",
   "execution_count": null,
   "id": "c0a576c0",
   "metadata": {},
   "outputs": [],
   "source": [
    "# Log results to  result_logger.py & wandb Logs\n",
    "\n",
    "log_results(\n",
    "    model_name=\"CNN\",\n",
    "    dataset_name=\"Social Media\",\n",
    "    accuracy=acc,\n",
    "    precision=prec,\n",
    "    recall=rec,\n",
    "    f1=f1,\n",
    "    tuning_time=None,\n",
    "    train_time=train_time,\n",
    "    inference_time=infer_time,\n",
    "    latency=infer_time * 1000,\n",
    "    cpu_usage=cpu_usage,\n",
    "    mem_usage=mem_usage,\n",
    "    gpu_usage=gpu.load * 100,\n",
    "    gpu_mem_usage=gpu.memoryUtil * 100,\n",
    "    gpu_temp=gpu.temperature,\n",
    "    power=float(gpu.powerUsage),\n",
    "    features=vocab_size,\n",
    "    hyperparams=f\"embed_dim={embedding_dim}, epochs={epochs}, batch={batch_size}\"\n",
    ")\n",
    "\n",
    "wandb.log({\n",
    "    \"Validation Accuracy\": val_acc, \n",
    "    \"Validation Precision\": val_prec,\n",
    "    \"Validation Recall\": val_rec, \n",
    "    \"Validation F1 Score\": val_f1,\n",
    "\n",
    "    \"Test Accuracy\": acc,\n",
    "    \"Test Precision\": prec,\n",
    "    \"Test Recall\": rec,\n",
    "    \"Test F1\": f1,\n",
    "\n",
    "    \"Training Time (s)\": train_time,\n",
    "    \"Inference Time (s)\": infer_time,\n",
    "    \"Latency (ms)\": infer_time * 1000,\n",
    "\n",
    "    \"CPU Usage (%)\": cpu_usage,\n",
    "    \"Memory Usage (%)\": mem_usage,\n",
    "    \"GPU Load (%)\": gpu.load * 100,\n",
    "    \"GPU Memory (%)\": gpu.memoryUtil * 100,\n",
    "    \"GPU Temp\": gpu.temperature,\n",
    "    \"Power Consumption (W)\": float(power),\n",
    "\n",
    "    \"Confusion Matrix\": wandb.Image(\"cnn_confusion_matrix.png\")\n",
    "})\n",
    "wandb.finish()\n"
   ]
  },
  {
   "cell_type": "markdown",
   "id": "f618a689",
   "metadata": {},
   "source": [
    "# BiLSTM"
   ]
  },
  {
   "cell_type": "code",
   "execution_count": null,
   "id": "e635fc33",
   "metadata": {},
   "outputs": [],
   "source": [
    "#BiLSTM\n",
    "\n",
    "model = Sequential([\n",
    "    Embedding(max_vocab, 128, input_length=max_len),\n",
    "    Bidirectional(LSTM(64, return_sequences=False)),\n",
    "    Dropout(0.5),\n",
    "    Dense(1, activation='sigmoid')\n",
    "])\n"
   ]
  },
  {
   "cell_type": "code",
   "execution_count": null,
   "id": "da1af1b2",
   "metadata": {},
   "outputs": [],
   "source": []
  }
 ],
 "metadata": {
  "kernelspec": {
   "display_name": "sentimentAnalysisENV",
   "language": "python",
   "name": "python3"
  },
  "language_info": {
   "codemirror_mode": {
    "name": "ipython",
    "version": 3
   },
   "file_extension": ".py",
   "mimetype": "text/x-python",
   "name": "python",
   "nbconvert_exporter": "python",
   "pygments_lexer": "ipython3",
   "version": "3.10.16"
  }
 },
 "nbformat": 4,
 "nbformat_minor": 5
}
