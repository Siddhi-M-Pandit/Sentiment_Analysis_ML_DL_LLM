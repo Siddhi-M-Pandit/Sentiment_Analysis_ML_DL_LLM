{
 "cells": [
  {
   "cell_type": "code",
   "execution_count": 1,
   "id": "978f4555",
   "metadata": {},
   "outputs": [
    {
     "name": "stdout",
     "output_type": "stream",
     "text": [
      "XLA_FLAGS: --xla_gpu_cuda_data_dir=/usr/local/cuda-12.3\n",
      "Looking here: True\n"
     ]
    }
   ],
   "source": [
    "import os\n",
    "\n",
    "# 1) ENV VARS – before any TF import\n",
    "os.environ[\"XLA_FLAGS\"] = \"--xla_gpu_cuda_data_dir=/usr/local/cuda-12.3\"\n",
    "os.environ[\"CUDA_HOME\"] = \"/usr/local/cuda-12.3\"\n",
    "\n",
    "# 2) Sanity check\n",
    "print(\"XLA_FLAGS:\",    os.environ[\"XLA_FLAGS\"])\n",
    "print(\"Looking here:\", os.path.exists(\n",
    "    \"/usr/local/cuda-12.3/nvvm/libdevice/libdevice.10.bc\"\n",
    "))\n"
   ]
  },
  {
   "cell_type": "code",
   "execution_count": 2,
   "id": "711dc0d5",
   "metadata": {},
   "outputs": [
    {
     "name": "stdout",
     "output_type": "stream",
     "text": [
      "Torch version: 2.7.0+cu126\n",
      "Accelerate version: 1.6.0\n"
     ]
    },
    {
     "name": "stderr",
     "output_type": "stream",
     "text": [
      "/home/smpandit/.conda/envs/sentimentAnalysisENV/lib/python3.10/site-packages/tqdm/auto.py:21: TqdmWarning: IProgress not found. Please update jupyter and ipywidgets. See https://ipywidgets.readthedocs.io/en/stable/user_install.html\n",
      "  from .autonotebook import tqdm as notebook_tqdm\n"
     ]
    }
   ],
   "source": [
    "import sys\n",
    "\n",
    "sys.path.insert(0, \"/tmp/torch_pkg\")\n",
    "import torch\n",
    "print(\"Torch version:\", torch.__version__)\n",
    "\n",
    "sys.path.insert(0, \"/tmp/accelerate\")\n",
    "import accelerate\n",
    "print(\"Accelerate version:\", accelerate.__version__)"
   ]
  },
  {
   "cell_type": "code",
   "execution_count": 3,
   "id": "eaf13c70",
   "metadata": {},
   "outputs": [
    {
     "name": "stdout",
     "output_type": "stream",
     "text": [
      "wandb version: 0.19.10\n"
     ]
    }
   ],
   "source": [
    "sys.path.insert(0, \"/tmp/wandb_pkg\")\n",
    "import wandb\n",
    "print(\"wandb version:\", wandb.__version__)\n",
    "\n",
    "# point caches and matplotlib to /tmp \n",
    "os.environ['XDG_CACHE_HOME'] = '/tmp'\n",
    "os.environ['TRANSFORMERS_CACHE'] = '/tmp/transformers'\n",
    "os.environ['HF_HOME'] = '/tmp/huggingface_cache'\n",
    "os.environ['MPLCONFIGDIR'] = '/tmp/.matplotlib'\n",
    "\n",
    "# suppress TF INFO logs\n",
    "os.environ[\"TF_CPP_MIN_LOG_LEVEL\"] = \"2\""
   ]
  },
  {
   "cell_type": "code",
   "execution_count": 4,
   "id": "beb6d28d",
   "metadata": {},
   "outputs": [],
   "source": [
    "os.environ[\"MPLCONFIGDIR\"] = \"/tmp/matplotlib\"\n",
    "# suppress TF INFO logs\n",
    "os.environ[\"TF_CPP_MIN_LOG_LEVEL\"] = \"2\""
   ]
  },
  {
   "cell_type": "code",
   "execution_count": 5,
   "id": "dd6b9f3a",
   "metadata": {},
   "outputs": [
    {
     "name": "stderr",
     "output_type": "stream",
     "text": [
      "2025-05-08 14:40:48.981345: E external/local_xla/xla/stream_executor/cuda/cuda_fft.cc:467] Unable to register cuFFT factory: Attempting to register factory for plugin cuFFT when one has already been registered\n",
      "WARNING: All log messages before absl::InitializeLog() is called are written to STDERR\n",
      "E0000 00:00:1746740449.004188 3547874 cuda_dnn.cc:8579] Unable to register cuDNN factory: Attempting to register factory for plugin cuDNN when one has already been registered\n",
      "E0000 00:00:1746740449.010864 3547874 cuda_blas.cc:1407] Unable to register cuBLAS factory: Attempting to register factory for plugin cuBLAS when one has already been registered\n",
      "W0000 00:00:1746740449.028443 3547874 computation_placer.cc:177] computation placer already registered. Please check linkage and avoid linking the same target more than once.\n",
      "W0000 00:00:1746740449.028474 3547874 computation_placer.cc:177] computation placer already registered. Please check linkage and avoid linking the same target more than once.\n",
      "W0000 00:00:1746740449.028477 3547874 computation_placer.cc:177] computation placer already registered. Please check linkage and avoid linking the same target more than once.\n",
      "W0000 00:00:1746740449.028479 3547874 computation_placer.cc:177] computation placer already registered. Please check linkage and avoid linking the same target more than once.\n",
      "/home/smpandit/.conda/envs/sentimentAnalysisENV/lib/python3.10/site-packages/transformers/utils/hub.py:105: FutureWarning: Using `TRANSFORMERS_CACHE` is deprecated and will be removed in v5 of Transformers. Use `HF_HOME` instead.\n",
      "  warnings.warn(\n"
     ]
    },
    {
     "name": "stdout",
     "output_type": "stream",
     "text": [
      "['WandbCallback', 'WandbEvalCallback', 'WandbMetricsLogger', 'WandbModelCheckpoint', '__all__', '__builtins__', '__cached__', '__doc__', '__file__', '__loader__', '__name__', '__package__', '__path__', '__spec__', 'callbacks', 'keras']\n",
      "wandb version: 0.19.10\n",
      "wandb package path: /tmp/wandb_pkg/wandb/__init__.py\n"
     ]
    }
   ],
   "source": [
    "import pandas as pd\n",
    "import numpy as np\n",
    "import seaborn as sns\n",
    "import matplotlib.pyplot as plt\n",
    "\n",
    "import time\n",
    "import datetime\n",
    "import psutil\n",
    "import subprocess\n",
    "import GPUtil\n",
    "\n",
    "\n",
    "import tensorflow as tf\n",
    "import torch \n",
    "#import tf_keras as keras\n",
    "from torch.utils.data import TensorDataset\n",
    "from tensorflow.keras.optimizers import Adam, RMSprop\n",
    "from tensorflow.keras.metrics import BinaryAccuracy\n",
    "from tensorflow.keras.losses  import BinaryCrossentropy\n",
    "from transformers import create_optimizer\n",
    "from transformers import(\n",
    "    AutoConfig, \n",
    "    AutoTokenizer, \n",
    "    AutoModelForSequenceClassification,\n",
    "    Trainer,\n",
    "    TrainingArguments,\n",
    "    DataCollatorWithPadding,\n",
    ")\n",
    "\n",
    "# Enable script imports\n",
    "sys.path.append(os.path.abspath(\"..\"))\n",
    "\n",
    "\n",
    "from scripts.result_logger import log_results\n",
    "from sklearn.metrics import (\n",
    "    accuracy_score, precision_recall_fscore_support,\n",
    "    #precision_score, recall_score, f1_score, \n",
    "    classification_report, confusion_matrix\n",
    ")\n",
    "\n",
    "import wandb.integration.keras as wbk\n",
    "print(dir(wbk))\n",
    "from wandb.integration.keras import WandbMetricsLogger, WandbModelCheckpoint, WandbEvalCallback\n",
    "print(\"wandb version:\", wandb.__version__)\n",
    "print(\"wandb package path:\", wandb.__file__)\n"
   ]
  },
  {
   "cell_type": "code",
   "execution_count": 6,
   "id": "ea09f884",
   "metadata": {},
   "outputs": [
    {
     "name": "stdout",
     "output_type": "stream",
     "text": [
      "GPU ready: PhysicalDevice(name='/physical_device:GPU:0', device_type='GPU')\n"
     ]
    }
   ],
   "source": [
    "# GPU setup\n",
    "gpus = tf.config.list_physical_devices('GPU')\n",
    "if not gpus:\n",
    "    raise RuntimeError(\"No GPU found.\")\n",
    "tf.config.experimental.set_memory_growth(gpus[0], True)\n",
    "print(\"GPU ready:\", gpus[0])\n"
   ]
  },
  {
   "cell_type": "markdown",
   "id": "5695e984",
   "metadata": {},
   "source": [
    "# BERT"
   ]
  },
  {
   "cell_type": "markdown",
   "id": "a36a20c6",
   "metadata": {},
   "source": [
    "## Data Preprocessing "
   ]
  },
  {
   "cell_type": "code",
   "execution_count": null,
   "id": "8af248a4",
   "metadata": {},
   "outputs": [],
   "source": [
    "# Set random seeds for reproducibility\n",
    "np.random.seed(42)\n",
    "tf.random.set_seed(42)\n",
    "MAX_SEQ_LEN = 100\n",
    "\n",
    "# Data Loading & Label Binarization \n",
    "def load_splits():\n",
    "    X_train = pd.read_csv(\"../data/splits/X_train.csv\")[\"clean_text\"].tolist()\n",
    "    X_val   = pd.read_csv(\"../data/splits/X_val.csv\")[\"clean_text\"].tolist()\n",
    "    X_test  = pd.read_csv(\"../data/splits/X_test.csv\")[\"clean_text\"].tolist()\n",
    "\n",
    "    y_train = pd.read_csv(\"../data/splits/y_train.csv\")[\"sentiment_label\"].map(lambda x: 1 if x==\"Positive\" else 0).tolist()\n",
    "    y_val   = pd.read_csv(\"../data/splits/y_val.csv\")[\"sentiment_label\"].map(lambda x: 1 if x==\"Positive\" else 0).tolist()\n",
    "    y_test  = pd.read_csv(\"../data/splits/y_test.csv\")[\"sentiment_label\"].map(lambda x: 1 if x==\"Positive\" else 0).tolist()\n",
    "\n",
    "    return X_train, y_train, X_val, y_val, X_test, y_test\n",
    "\n"
   ]
  },
  {
   "cell_type": "code",
   "execution_count": 8,
   "id": "2acdaf81",
   "metadata": {},
   "outputs": [],
   "source": [
    "#  Best hyperparameters from sweep ()\n",
    "BEST_CONFIG = {\n",
    "    \"model\": \"prajjwal1/bert-tiny\",\n",
    "    \"dataset\": \"Sentiment140\",\n",
    "    'batch_size': 64,\n",
    "    'learning_rate': 3e-5,\n",
    "    'dropout': 0.2,\n",
    "    'epochs': 5,\n",
    "    'weight_decay': 0.01,\n",
    "    'warmup_ratio': 0.1,\n",
    "    'optimizer': \"adam\",\n",
    "    'max_seq_len': 100,\n",
    "    'metric_goal':\"maximize\",\n",
    "    'metric_name':\"val_accuracy\",\n",
    "    'model_type':\"BERT\",\n",
    "}"
   ]
  },
  {
   "cell_type": "markdown",
   "id": "4f315b04",
   "metadata": {},
   "source": [
    "## Model Training"
   ]
  },
  {
   "cell_type": "code",
   "execution_count": 9,
   "id": "8ee5b50a",
   "metadata": {},
   "outputs": [
    {
     "name": "stderr",
     "output_type": "stream",
     "text": [
      "\u001b[34m\u001b[1mwandb\u001b[0m: Currently logged in as: \u001b[33msmpandit\u001b[0m (\u001b[33msmpandit-\u001b[0m) to \u001b[32mhttps://api.wandb.ai\u001b[0m. Use \u001b[1m`wandb login --relogin`\u001b[0m to force relogin\n"
     ]
    },
    {
     "data": {
      "text/html": [
       "Tracking run with wandb version 0.19.10"
      ],
      "text/plain": [
       "<IPython.core.display.HTML object>"
      ]
     },
     "metadata": {},
     "output_type": "display_data"
    },
    {
     "data": {
      "text/html": [
       "Run data is saved locally in <code>/research2/smpandit/Sentiment_Analysis_ML_DL_LLM/notebooks/wandb/run-20250507_090449-qqx53u1e</code>"
      ],
      "text/plain": [
       "<IPython.core.display.HTML object>"
      ]
     },
     "metadata": {},
     "output_type": "display_data"
    },
    {
     "data": {
      "text/html": [
       "Syncing run <strong><a href='https://wandb.ai/smpandit-/sentiment-analysis/runs/qqx53u1e' target=\"_blank\">BERT_Social</a></strong> to <a href='https://wandb.ai/smpandit-/sentiment-analysis' target=\"_blank\">Weights & Biases</a> (<a href='https://wandb.me/developer-guide' target=\"_blank\">docs</a>)<br>"
      ],
      "text/plain": [
       "<IPython.core.display.HTML object>"
      ]
     },
     "metadata": {},
     "output_type": "display_data"
    },
    {
     "data": {
      "text/html": [
       " View project at <a href='https://wandb.ai/smpandit-/sentiment-analysis' target=\"_blank\">https://wandb.ai/smpandit-/sentiment-analysis</a>"
      ],
      "text/plain": [
       "<IPython.core.display.HTML object>"
      ]
     },
     "metadata": {},
     "output_type": "display_data"
    },
    {
     "data": {
      "text/html": [
       " View run at <a href='https://wandb.ai/smpandit-/sentiment-analysis/runs/qqx53u1e' target=\"_blank\">https://wandb.ai/smpandit-/sentiment-analysis/runs/qqx53u1e</a>"
      ],
      "text/plain": [
       "<IPython.core.display.HTML object>"
      ]
     },
     "metadata": {},
     "output_type": "display_data"
    }
   ],
   "source": [
    "# W&B Initialization\n",
    "\n",
    "wandb.init(\n",
    "    project=\"sentiment-analysis\",\n",
    "    name=\"BERT_Social\",\n",
    "    config=BEST_CONFIG\n",
    ")\n",
    "#model_name = \"prajjwal1/bert-tiny\"\n",
    "cfg = wandb.config"
   ]
  },
  {
   "cell_type": "code",
   "execution_count": 10,
   "id": "c20ca1c8",
   "metadata": {},
   "outputs": [
    {
     "name": "stderr",
     "output_type": "stream",
     "text": [
      "Some weights of BertForSequenceClassification were not initialized from the model checkpoint at prajjwal1/bert-tiny and are newly initialized: ['classifier.bias', 'classifier.weight']\n",
      "You should probably TRAIN this model on a down-stream task to be able to use it for predictions and inference.\n"
     ]
    }
   ],
   "source": [
    "# tokenizer and model\n",
    "tokenizer = AutoTokenizer.from_pretrained(cfg.model)\n",
    "\n",
    "config = AutoConfig.from_pretrained(\n",
    "    cfg.model,\n",
    "    num_labels=2,\n",
    "    hidden_dropout_prob=cfg.get(\"dropout\", 0.1),\n",
    "    attention_probs_dropout_prob=cfg.get(\"dropout\", 0.1),\n",
    ")\n",
    "\n",
    "model = AutoModelForSequenceClassification.from_pretrained(cfg.model, config=config)"
   ]
  },
  {
   "cell_type": "code",
   "execution_count": null,
   "id": "f8d9c769",
   "metadata": {},
   "outputs": [],
   "source": [
    "# Prepare Dataset \n",
    "X_train, y_train, X_val, y_val, X_test, y_test = load_splits()\n",
    "\n",
    "# Define tiny dataset wrapper:\n",
    "class HFDataset(torch.utils.data.Dataset):\n",
    "    def __init__(self, encodings, labels):\n",
    "        self.encodings = encodings\n",
    "        self.labels    = labels\n",
    "\n",
    "    def __len__(self):\n",
    "        return len(self.labels)\n",
    "    \n",
    "    def __getitem__(self, idx):\n",
    "        return {\n",
    "            \"input_ids\":      self.encodings[\"input_ids\"][idx],\n",
    "            \"attention_mask\": self.encodings[\"attention_mask\"][idx],\n",
    "            \"labels\":         self.labels[idx],\n",
    "        }\n",
    "\n",
    "# Create dict‐style datasets:\n",
    "enc_train = tokenizer(\n",
    "    X_train, truncation=True, padding=\"max_length\",\n",
    "    max_length=cfg.max_seq_len, return_tensors=\"pt\"\n",
    ")\n",
    "train_dataset = HFDataset(enc_train, torch.tensor(y_train, dtype=torch.long))\n",
    "\n",
    "enc_val = tokenizer(\n",
    "    X_val, truncation=True, padding=\"max_length\",\n",
    "    max_length=cfg.max_seq_len, return_tensors=\"pt\"\n",
    ")\n",
    "val_dataset = HFDataset(enc_val, torch.tensor(y_val, dtype=torch.long))\n",
    "\n",
    "enc_test = tokenizer(\n",
    "    X_test, truncation=True, padding=\"max_length\",\n",
    "    max_length=cfg.max_seq_len, return_tensors=\"pt\"\n",
    ")\n",
    "test_dataset = HFDataset(enc_test, torch.tensor(y_test, dtype=torch.long))\n"
   ]
  },
  {
   "cell_type": "code",
   "execution_count": 12,
   "id": "d4af297e",
   "metadata": {},
   "outputs": [],
   "source": [
    "def compute_metrics(eval_pred):\n",
    "    logits, labels = eval_pred\n",
    "    preds = np.argmax(logits, axis=-1)\n",
    "    acc   = accuracy_score(labels, preds)\n",
    "    prec, rec, f1, _ = precision_recall_fscore_support(labels, preds, average=\"binary\")\n",
    "    \n",
    "    return {\"accuracy\": acc, \"precision\": prec, \"recall\": rec, \"f1\": f1}"
   ]
  },
  {
   "cell_type": "code",
   "execution_count": null,
   "id": "e363fd6c",
   "metadata": {},
   "outputs": [
    {
     "name": "stderr",
     "output_type": "stream",
     "text": [
      "/home/smpandit/.conda/envs/sentimentAnalysisENV/lib/python3.10/site-packages/transformers/training_args.py:1611: FutureWarning: `evaluation_strategy` is deprecated and will be removed in version 4.46 of 🤗 Transformers. Use `eval_strategy` instead\n",
      "  warnings.warn(\n"
     ]
    }
   ],
   "source": [
    "start_tuning = time.time()\n",
    "\n",
    "training_args = TrainingArguments(\n",
    "    output_dir=\"./wandb_bert_pt\",\n",
    "    per_device_train_batch_size=cfg.batch_size,\n",
    "    per_device_eval_batch_size=cfg.batch_size,\n",
    "    learning_rate=cfg.learning_rate,\n",
    "    weight_decay=cfg.weight_decay,\n",
    "    warmup_ratio=cfg.warmup_ratio,\n",
    "    num_train_epochs=cfg.epochs,\n",
    "    evaluation_strategy=\"epoch\",\n",
    "    logging_strategy=\"epoch\",\n",
    "    save_strategy=\"no\",\n",
    "    report_to=\"wandb\",\n",
    ")\n",
    "tuning_time = time.time() - start_tuning"
   ]
  },
  {
   "cell_type": "code",
   "execution_count": 14,
   "id": "299bfefd",
   "metadata": {},
   "outputs": [
    {
     "name": "stderr",
     "output_type": "stream",
     "text": [
      "/tmp/ipykernel_1648342/320371002.py:1: FutureWarning: `tokenizer` is deprecated and will be removed in version 5.0.0 for `Trainer.__init__`. Use `processing_class` instead.\n",
      "  trainer = Trainer(\n"
     ]
    }
   ],
   "source": [
    "trainer = Trainer(\n",
    "    model=model,\n",
    "    args=training_args,\n",
    "    train_dataset=train_dataset,\n",
    "    eval_dataset=val_dataset,\n",
    "    tokenizer=tokenizer,\n",
    "    data_collator=DataCollatorWithPadding(tokenizer),\n",
    "    compute_metrics=compute_metrics,\n",
    ")"
   ]
  },
  {
   "cell_type": "code",
   "execution_count": 15,
   "id": "1c63f14f",
   "metadata": {},
   "outputs": [
    {
     "name": "stderr",
     "output_type": "stream",
     "text": [
      "\u001b[34m\u001b[1mwandb\u001b[0m: \u001b[33mWARNING\u001b[0m The `run_name` is currently set to the same value as `TrainingArguments.output_dir`. If this was not intended, please specify a different run name by setting the `TrainingArguments.run_name` parameter.\n"
     ]
    },
    {
     "data": {
      "text/html": [
       "\n",
       "    <div>\n",
       "      \n",
       "      <progress value='87280' max='87280' style='width:300px; height:20px; vertical-align: middle;'></progress>\n",
       "      [87280/87280 26:17, Epoch 5/5]\n",
       "    </div>\n",
       "    <table border=\"1\" class=\"dataframe\">\n",
       "  <thead>\n",
       " <tr style=\"text-align: left;\">\n",
       "      <th>Epoch</th>\n",
       "      <th>Training Loss</th>\n",
       "      <th>Validation Loss</th>\n",
       "      <th>Accuracy</th>\n",
       "      <th>Precision</th>\n",
       "      <th>Recall</th>\n",
       "      <th>F1</th>\n",
       "    </tr>\n",
       "  </thead>\n",
       "  <tbody>\n",
       "    <tr>\n",
       "      <td>1</td>\n",
       "      <td>0.517000</td>\n",
       "      <td>0.429680</td>\n",
       "      <td>0.802073</td>\n",
       "      <td>0.809420</td>\n",
       "      <td>0.790023</td>\n",
       "      <td>0.799604</td>\n",
       "    </tr>\n",
       "    <tr>\n",
       "      <td>2</td>\n",
       "      <td>0.437500</td>\n",
       "      <td>0.418243</td>\n",
       "      <td>0.808480</td>\n",
       "      <td>0.806021</td>\n",
       "      <td>0.812325</td>\n",
       "      <td>0.809160</td>\n",
       "    </tr>\n",
       "    <tr>\n",
       "      <td>3</td>\n",
       "      <td>0.423800</td>\n",
       "      <td>0.410667</td>\n",
       "      <td>0.812460</td>\n",
       "      <td>0.818943</td>\n",
       "      <td>0.802131</td>\n",
       "      <td>0.810450</td>\n",
       "    </tr>\n",
       "    <tr>\n",
       "      <td>4</td>\n",
       "      <td>0.416400</td>\n",
       "      <td>0.410498</td>\n",
       "      <td>0.813692</td>\n",
       "      <td>0.832427</td>\n",
       "      <td>0.785353</td>\n",
       "      <td>0.808205</td>\n",
       "    </tr>\n",
       "    <tr>\n",
       "      <td>5</td>\n",
       "      <td>0.412600</td>\n",
       "      <td>0.409623</td>\n",
       "      <td>0.814577</td>\n",
       "      <td>0.825687</td>\n",
       "      <td>0.797360</td>\n",
       "      <td>0.811276</td>\n",
       "    </tr>\n",
       "  </tbody>\n",
       "</table><p>"
      ],
      "text/plain": [
       "<IPython.core.display.HTML object>"
      ]
     },
     "metadata": {},
     "output_type": "display_data"
    }
   ],
   "source": [
    "# Training \n",
    "start_training = time.time() \n",
    "\n",
    "trainer.train()\n",
    "\n",
    "training_time = time.time() - start_training"
   ]
  },
  {
   "cell_type": "code",
   "execution_count": 16,
   "id": "510b7890",
   "metadata": {},
   "outputs": [
    {
     "data": {
      "text/html": [],
      "text/plain": [
       "<IPython.core.display.HTML object>"
      ]
     },
     "metadata": {},
     "output_type": "display_data"
    },
    {
     "name": "stdout",
     "output_type": "stream",
     "text": [
      "---- Validation metrics ----\n",
      "Accuracy:  0.8145772253823473\n",
      "Precision: 0.8256874383511863\n",
      "Recall:    0.7973596256684492\n",
      "F1:        0.8112763226130055\n"
     ]
    }
   ],
   "source": [
    "val_metrics = trainer.evaluate(eval_dataset=val_dataset)\n",
    "\n",
    "print(\"---- Validation metrics ----\")\n",
    "print(f\"Accuracy:  {val_metrics['eval_accuracy']}\")\n",
    "print(f\"Precision: {val_metrics['eval_precision']}\")\n",
    "print(f\"Recall:    {val_metrics['eval_recall']}\")\n",
    "print(f\"F1:        {val_metrics['eval_f1']}\")"
   ]
  },
  {
   "cell_type": "code",
   "execution_count": 17,
   "id": "6ec07ed7",
   "metadata": {},
   "outputs": [
    {
     "name": "stdout",
     "output_type": "stream",
     "text": [
      "\n",
      "---- Test metrics ----\n",
      "Accuracy:  0.8138820895397699\n",
      "Precision: 0.8254226859514875\n",
      "Recall:    0.7959886344643156\n",
      "F1:        0.8104384968496466\n"
     ]
    }
   ],
   "source": [
    "test_predictions = trainer.predict(test_dataset)\n",
    "\n",
    "test_metrics = test_predictions.metrics\n",
    "\n",
    "print(\"\\n---- Test metrics ----\")\n",
    "print(f\"Accuracy:  {test_metrics['test_accuracy']}\")\n",
    "print(f\"Precision: {test_metrics['test_precision']}\")\n",
    "print(f\"Recall:    {test_metrics['test_recall']}\")\n",
    "print(f\"F1:        {test_metrics['test_f1']}\")"
   ]
  },
  {
   "cell_type": "code",
   "execution_count": 18,
   "id": "80c570b0",
   "metadata": {},
   "outputs": [
    {
     "data": {
      "text/html": [],
      "text/plain": [
       "<IPython.core.display.HTML object>"
      ]
     },
     "metadata": {},
     "output_type": "display_data"
    }
   ],
   "source": [
    "start_inf = time.time()\n",
    "preds_output = trainer.predict(test_dataset)    \n",
    "total_inf = time.time() - start_inf\n",
    "\n",
    "infer_time = total_inf / len(preds_output.predictions)"
   ]
  },
  {
   "cell_type": "code",
   "execution_count": 19,
   "id": "8d6e7de7",
   "metadata": {},
   "outputs": [],
   "source": [
    "# System Stats\n",
    "\n",
    "cpu_usage = psutil.cpu_percent(interval=1)\n",
    "mem_usage = psutil.virtual_memory().percent\n",
    "gpu = GPUtil.getGPUs()[0]\n",
    "power = float(subprocess.check_output(\n",
    "    [\"nvidia-smi\",\"--query-gpu=power.draw\",\"--format=csv,noheader,nounits\"]\n",
    "))"
   ]
  },
  {
   "cell_type": "code",
   "execution_count": 20,
   "id": "ddf46f89",
   "metadata": {},
   "outputs": [],
   "source": [
    "# turn logits to class table\n",
    "y_pred = np.argmax(preds_output.predictions, axis=1)\n",
    "y_true = preds_output.label_ids"
   ]
  },
  {
   "cell_type": "code",
   "execution_count": 21,
   "id": "7fd31923",
   "metadata": {},
   "outputs": [
    {
     "data": {
      "image/png": "[encoded data removed]",
      "text/plain": [
       "<Figure size 400x300 with 2 Axes>"
      ]
     },
     "metadata": {},
     "output_type": "display_data"
    }
   ],
   "source": [
    "# Confusion Matrix\n",
    "\n",
    "cm = confusion_matrix(y_true, y_pred, labels=[0,1])\n",
    "plt.figure(figsize=(4,3))\n",
    "sns.heatmap(cm, annot=True, fmt=\"d\", cmap=\"Oranges\", xticklabels=[\"Negative\",\"Positive\"], yticklabels=[\"Negative\",\"Positive\"])\n",
    "plt.title(\"Confusion Matrix - BERT Model\")\n",
    "plt.xlabel(\"Predicted\")\n",
    "plt.ylabel(\"True\")\n",
    "plt.tight_layout()\n",
    "plt.savefig(\"bert_confusion_matrix.png\")"
   ]
  },
  {
   "cell_type": "code",
   "execution_count": 22,
   "id": "5c917437",
   "metadata": {},
   "outputs": [
    {
     "name": "stdout",
     "output_type": "stream",
     "text": [
      "Logged: bert on Social Media to ../results/results.csv\n"
     ]
    },
    {
     "name": "stderr",
     "output_type": "stream",
     "text": [
      "/research2/smpandit/Sentiment_Analysis_ML_DL_LLM/scripts/result_logger.py:41: FutureWarning: The behavior of DataFrame concatenation with empty or all-NA entries is deprecated. In a future version, this will no longer exclude empty or all-NA columns when determining the result dtypes. To retain the old behavior, exclude the relevant entries before the concat operation.\n",
      "  df = pd.concat([df, row_df], ignore_index=True)\n"
     ]
    },
    {
     "data": {
      "text/html": [],
      "text/plain": [
       "<IPython.core.display.HTML object>"
      ]
     },
     "metadata": {},
     "output_type": "display_data"
    },
    {
     "data": {
      "text/html": [
       "<br>    <style><br>        .wandb-row {<br>            display: flex;<br>            flex-direction: row;<br>            flex-wrap: wrap;<br>            justify-content: flex-start;<br>            width: 100%;<br>        }<br>        .wandb-col {<br>            display: flex;<br>            flex-direction: column;<br>            flex-basis: 100%;<br>            flex: 1;<br>            padding: 10px;<br>        }<br>    </style><br><div class=\"wandb-row\"><div class=\"wandb-col\"><h3>Run history:</h3><br/><table class=\"wandb\"><tr><td>CPU Usage (%)</td><td>▁</td></tr><tr><td>GPU Memory Usage (%)</td><td>▁</td></tr><tr><td>GPU Temp (C)</td><td>▁</td></tr><tr><td>GPU Usage (%)</td><td>▁</td></tr><tr><td>Inference Time per Sample (s)</td><td>▁</td></tr><tr><td>Latency (ms)</td><td>▁</td></tr><tr><td>Memory Usage (%)</td><td>▁</td></tr><tr><td>Power Consumption (W)</td><td>▁</td></tr><tr><td>Test Accuracy</td><td>▁</td></tr><tr><td>Test F1 Score</td><td>▁</td></tr><tr><td>Test Precision</td><td>▁</td></tr><tr><td>Test Recall</td><td>▁</td></tr><tr><td>Training Time (s)</td><td>▁</td></tr><tr><td>Tuning Time (s)</td><td>▁</td></tr><tr><td>Validation Accuracy</td><td>▁</td></tr><tr><td>Validation F1 Score</td><td>▁</td></tr><tr><td>Validation Precision</td><td>▁</td></tr><tr><td>Validation Recall</td><td>▁</td></tr><tr><td>eval/accuracy</td><td>▁▅▇███</td></tr><tr><td>eval/f1</td><td>▁▇█▆██</td></tr><tr><td>eval/loss</td><td>█▄▁▁▁▁</td></tr><tr><td>eval/precision</td><td>▂▁▄█▆▆</td></tr><tr><td>eval/recall</td><td>▂█▅▁▄▄</td></tr><tr><td>eval/runtime</td><td>▁█▅▅▇▇</td></tr><tr><td>eval/samples_per_second</td><td>█▁▄▄▁▂</td></tr><tr><td>eval/steps_per_second</td><td>█▁▄▄▁▂</td></tr><tr><td>max_len</td><td>▁</td></tr><tr><td>test/accuracy</td><td>▁▁</td></tr><tr><td>test/f1</td><td>▁▁</td></tr><tr><td>test/loss</td><td>▁▁</td></tr><tr><td>test/precision</td><td>▁▁</td></tr><tr><td>test/recall</td><td>▁▁</td></tr><tr><td>test/runtime</td><td>█▁</td></tr><tr><td>test/samples_per_second</td><td>▁█</td></tr><tr><td>test/steps_per_second</td><td>▁█</td></tr><tr><td>train/epoch</td><td>▁▁▃▃▅▅▆▆████</td></tr><tr><td>train/global_step</td><td>▁▁▃▃▅▅▆▆███████</td></tr><tr><td>train/grad_norm</td><td>█▁▄▆▄</td></tr><tr><td>train/learning_rate</td><td>█▆▅▃▁</td></tr><tr><td>train/loss</td><td>█▃▂▁▁</td></tr></table><br/></div><div class=\"wandb-col\"><h3>Run summary:</h3><br/><table class=\"wandb\"><tr><td>CPU Usage (%)</td><td>5</td></tr><tr><td>GPU Memory Usage (%)</td><td>2.19727</td></tr><tr><td>GPU Temp (C)</td><td>38</td></tr><tr><td>GPU Usage (%)</td><td>0</td></tr><tr><td>Inference Time per Sample (s)</td><td>0.00013</td></tr><tr><td>Latency (ms)</td><td>0.12569</td></tr><tr><td>Memory Usage (%)</td><td>8.6</td></tr><tr><td>Power Consumption (W)</td><td>64.79</td></tr><tr><td>Test Accuracy</td><td>0.81388</td></tr><tr><td>Test F1 Score</td><td>0.81044</td></tr><tr><td>Test Precision</td><td>0.82542</td></tr><tr><td>Test Recall</td><td>0.79599</td></tr><tr><td>Training Time (s)</td><td>1578.57501</td></tr><tr><td>Tuning Time (s)</td><td>0.04546</td></tr><tr><td>Validation Accuracy</td><td>0.81458</td></tr><tr><td>Validation F1 Score</td><td>0.81128</td></tr><tr><td>Validation Precision</td><td>0.82569</td></tr><tr><td>Validation Recall</td><td>0.79736</td></tr><tr><td>eval/accuracy</td><td>0.81458</td></tr><tr><td>eval/f1</td><td>0.81128</td></tr><tr><td>eval/loss</td><td>0.40962</td></tr><tr><td>eval/precision</td><td>0.82569</td></tr><tr><td>eval/recall</td><td>0.79736</td></tr><tr><td>eval/runtime</td><td>31.0095</td></tr><tr><td>eval/samples_per_second</td><td>7721.565</td></tr><tr><td>eval/steps_per_second</td><td>120.673</td></tr><tr><td>max_len</td><td>100</td></tr><tr><td>test/accuracy</td><td>0.81388</td></tr><tr><td>test/f1</td><td>0.81044</td></tr><tr><td>test/loss</td><td>0.41066</td></tr><tr><td>test/precision</td><td>0.82542</td></tr><tr><td>test/recall</td><td>0.79599</td></tr><tr><td>test/runtime</td><td>30.0877</td></tr><tr><td>test/samples_per_second</td><td>7956.808</td></tr><tr><td>test/steps_per_second</td><td>124.337</td></tr><tr><td>total_flos</td><td>1386079027860000.0</td></tr><tr><td>train/epoch</td><td>5</td></tr><tr><td>train/global_step</td><td>87280</td></tr><tr><td>train/grad_norm</td><td>2.1347</td></tr><tr><td>train/learning_rate</td><td>0</td></tr><tr><td>train/loss</td><td>0.4126</td></tr><tr><td>train_loss</td><td>0.44146</td></tr><tr><td>train_runtime</td><td>1578.0446</td></tr><tr><td>train_samples_per_second</td><td>3539.716</td></tr><tr><td>train_steps_per_second</td><td>55.309</td></tr></table><br/></div></div>"
      ],
      "text/plain": [
       "<IPython.core.display.HTML object>"
      ]
     },
     "metadata": {},
     "output_type": "display_data"
    },
    {
     "data": {
      "text/html": [
       " View run <strong style=\"color:#cdcd00\">BERT_Social</strong> at: <a href='https://wandb.ai/smpandit-/sentiment-analysis/runs/qqx53u1e' target=\"_blank\">https://wandb.ai/smpandit-/sentiment-analysis/runs/qqx53u1e</a><br> View project at: <a href='https://wandb.ai/smpandit-/sentiment-analysis' target=\"_blank\">https://wandb.ai/smpandit-/sentiment-analysis</a><br>Synced 5 W&B file(s), 1 media file(s), 0 artifact file(s) and 0 other file(s)"
      ],
      "text/plain": [
       "<IPython.core.display.HTML object>"
      ]
     },
     "metadata": {},
     "output_type": "display_data"
    },
    {
     "data": {
      "text/html": [
       "Find logs at: <code>./wandb/run-20250507_090449-qqx53u1e/logs</code>"
      ],
      "text/plain": [
       "<IPython.core.display.HTML object>"
      ]
     },
     "metadata": {},
     "output_type": "display_data"
    }
   ],
   "source": [
    "# Logging results \n",
    "\n",
    "log_results(\n",
    "    model_name=cfg.model_type,\n",
    "    dataset_name=\"Social Media\",\n",
    "\n",
    "    accuracy=test_metrics[\"test_accuracy\"],\n",
    "    precision=test_metrics[\"test_precision\"],\n",
    "    recall=test_metrics[\"test_recall\"],\n",
    "    f1=test_metrics[\"test_f1\"],\n",
    "\n",
    "    tuning_time=tuning_time,\n",
    "    train_time=training_time,\n",
    "    inference_time=infer_time,\n",
    "    latency=infer_time*1000,\n",
    "\n",
    "    cpu_usage=cpu_usage,\n",
    "    mem_usage=mem_usage,\n",
    "    gpu_usage=gpu.load*100,\n",
    "    gpu_mem_usage=gpu.memoryUtil*100,\n",
    "    gpu_temp=gpu.temperature,\n",
    "    power=power,\n",
    "    \n",
    "    hyperparams=f\"batch={cfg.batch_size}, epochs={cfg.epochs}, dropout={cfg.dropout}, learning_rate={cfg.learning_rate}, weight_decay={cfg.weight_decay}, warmup_ratio={cfg.warmup_ratio}, optimizer={cfg.optimizer}, \" \n",
    ")\n",
    "\n",
    "wandb.log({\n",
    "    \"Validation Accuracy\": val_metrics[\"eval_accuracy\"], \n",
    "    \"Validation Precision\": val_metrics[\"eval_precision\"],\n",
    "    \"Validation Recall\": val_metrics[\"eval_recall\"], \n",
    "    \"Validation F1 Score\": val_metrics[\"eval_f1\"],\n",
    "\n",
    "    \"Test Accuracy\": test_metrics[\"test_accuracy\"],\n",
    "    \"Test Precision\": test_metrics[\"test_precision\"],\n",
    "    \"Test Recall\": test_metrics[\"test_recall\"],\n",
    "    \"Test F1 Score\": test_metrics[\"test_f1\"],\n",
    "\n",
    "    \"Tuning Time (s)\": tuning_time,             \n",
    "    \"Training Time (s)\": training_time,\n",
    "    \"Inference Time per Sample (s)\": infer_time,\n",
    "    \"Latency (ms)\": infer_time * 1000,\n",
    "\n",
    "    \"CPU Usage (%)\": cpu_usage,\n",
    "    \"Memory Usage (%)\": mem_usage,\n",
    "    \"GPU Usage (%)\": gpu.load * 100,\n",
    "    \"GPU Memory Usage (%)\": gpu.memoryUtil * 100,\n",
    "    \"GPU Temp (C)\": gpu.temperature,\n",
    "    \"Power Consumption (W)\": float(power), \n",
    "\n",
    "    \"max_len\": 100,\n",
    "    \"Confusion Matrix\": wandb.Image(\"bert_confusion_matrix.png\")\n",
    "})\n",
    "\n",
    "wandb.finish()\n"
   ]
  }
 ],
 "metadata": {
  "kernelspec": {
   "display_name": "sentimentAnalysisENV",
   "language": "python",
   "name": "python3"
  },
  "language_info": {
   "codemirror_mode": {
    "name": "ipython",
    "version": 3
   },
   "file_extension": ".py",
   "mimetype": "text/x-python",
   "name": "python",
   "nbconvert_exporter": "python",
   "pygments_lexer": "ipython3",
   "version": "3.10.16"
  }
 },
 "nbformat": 4,
 "nbformat_minor": 5
}
